{
 "cells": [
  {
   "cell_type": "markdown",
   "metadata": {},
   "source": [
    "Procedural vs. functional \"**paradigms**\", imperative vs. declarative **style**"
   ]
  },
  {
   "cell_type": "markdown",
   "metadata": {},
   "source": [
    "# Take a sparse array, return a dense array"
   ]
  },
  {
   "cell_type": "markdown",
   "metadata": {},
   "source": [
    "## Imperative solution"
   ]
  },
  {
   "cell_type": "markdown",
   "metadata": {},
   "source": [
    "Loop and transfer values to a new array. I couldn't find a working solution using `Array.prototype.splice()`, which would be another option."
   ]
  },
  {
   "cell_type": "code",
   "execution_count": 9,
   "metadata": {
    "collapsed": false
   },
   "outputs": [
    {
     "name": "stdout",
     "output_type": "stream",
     "text": [
      "[ 1, 2, 3, 4, 5, 10 ]\n"
     ]
    },
    {
     "data": {
      "text/plain": [
       "undefined"
      ]
     },
     "execution_count": 9,
     "metadata": {},
     "output_type": "execute_result"
    }
   ],
   "source": [
    "function returnSparse(arr) {\n",
    "    var dense = [];\n",
    "    for (var i = 0, len = arr.length; i < len; i++) {\n",
    "        if (arr[i] !== null && arr[i] !== undefined)\n",
    "            dense.push(arr[i]);\n",
    "    }\n",
    "    return dense;\n",
    "}\n",
    "\n",
    "var sparse = [1,,null,,2,,null,undefined,,3,,4,5,,,10];\n",
    "console.log(returnSparse(sparse)); // => [1, 2, 3, 4, 5, 10];"
   ]
  },
  {
   "cell_type": "markdown",
   "metadata": {},
   "source": [
    "## Declarative solutions"
   ]
  },
  {
   "cell_type": "markdown",
   "metadata": {},
   "source": [
    "Using `Array.prototype.filter()`:"
   ]
  },
  {
   "cell_type": "code",
   "execution_count": 10,
   "metadata": {
    "collapsed": false
   },
   "outputs": [
    {
     "name": "stdout",
     "output_type": "stream",
     "text": [
      "[ 1, 2, 3, 4, 5, 10 ]\n"
     ]
    },
    {
     "data": {
      "text/plain": [
       "undefined"
      ]
     },
     "execution_count": 10,
     "metadata": {},
     "output_type": "execute_result"
    }
   ],
   "source": [
    "function returnSparse(arr) {\n",
    "    return arr.filter(function(val) {\n",
    "        return val !== null && val !== undefined;\n",
    "    });\n",
    "}\n",
    "\n",
    "var sparse = [1,,null,,2,,null,undefined,,3,,4,5,,,10];\n",
    "console.log(returnSparse(sparse)); // => [1, 2, 3, 4, 5, 10];"
   ]
  },
  {
   "cell_type": "markdown",
   "metadata": {},
   "source": [
    "With ES6 arrow function:"
   ]
  },
  {
   "cell_type": "code",
   "execution_count": null,
   "metadata": {
    "collapsed": false
   },
   "outputs": [],
   "source": [
    "// TODO: add output once Node includes arrow functions\n",
    "function returnSparse(arr) {\n",
    "    return arr.filter(val =>\n",
    "        val !== null && val !== undefined\n",
    "    );\n",
    "}\n",
    "\n",
    "var sparse = [1,,null,,2,,null,undefined,,3,,4,5,,,10];\n",
    "console.log(returnSparse(sparse)); // => [1, 2, 3, 4, 5, 10];"
   ]
  }
 ],
 "metadata": {
  "kernelspec": {
   "display_name": "Javascript (Node.js)",
   "language": "javascript",
   "name": "javascript"
  },
  "language_info": {
   "file_extension": "js",
   "mimetype": "application/javascript",
   "name": "javascript",
   "version": "0.12.6"
  }
 },
 "nbformat": 4,
 "nbformat_minor": 0
}
