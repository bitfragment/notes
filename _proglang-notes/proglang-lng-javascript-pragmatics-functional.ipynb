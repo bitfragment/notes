{
 "cells": [
  {
   "cell_type": "markdown",
   "metadata": {},
   "source": [
    "Using the Array prototype's `map()` method instead of a `for` loop to transform an array:"
   ]
  },
  {
   "cell_type": "code",
   "execution_count": 1,
   "metadata": {
    "collapsed": false
   },
   "outputs": [
    {
     "name": "stdout",
     "output_type": "stream",
     "text": [
      "[ 0, 2, 4, 6, 8 ]\n"
     ]
    },
    {
     "data": {
      "text/plain": [
       "undefined"
      ]
     },
     "execution_count": 1,
     "metadata": {},
     "output_type": "execute_result"
    }
   ],
   "source": [
    "var myArray = [0, 1, 2, 3, 4];\n",
    "var myArrayTransformed = myArray.map(function(arrayElement) {\n",
    "        return arrayElement * 2;\n",
    "    });\n",
    "console.log(myArrayTransformed); // => [ 0, 2, 4, 6, 8 ]"
   ]
  },
  {
   "cell_type": "code",
   "execution_count": 6,
   "metadata": {
    "collapsed": false
   },
   "outputs": [
    {
     "name": "stdout",
     "output_type": "stream",
     "text": [
      "[ 'Foo', 'Bar', 'Baz' ]\n",
      "[ 'Foo', 'Bar', 'Baz' ]\n"
     ]
    },
    {
     "data": {
      "text/plain": [
       "undefined"
      ]
     },
     "execution_count": 6,
     "metadata": {},
     "output_type": "execute_result"
    }
   ],
   "source": [
    "function capStrElements(arr) {\n",
    "    return arr.map(function(currVal) {\n",
    "        return currVal.charAt(0).toUpperCase() +\n",
    "               currVal.substring(1).toLowerCase();\n",
    "    });\n",
    "}\n",
    "\n",
    "console.log(capStrElements(['foo', 'bar', 'baz'])); // => ['Foo', 'Bar', 'Baz']\n",
    "console.log(capStrElements(['FOO', 'BAR', 'BAZ'])); // => ['Foo', 'Bar', 'Baz']"
   ]
  },
  {
   "cell_type": "markdown",
   "metadata": {},
   "source": [
    "Using the Array prototype's `filter()` method to filter an array:"
   ]
  },
  {
   "cell_type": "code",
   "execution_count": 7,
   "metadata": {
    "collapsed": false
   },
   "outputs": [
    {
     "name": "stdout",
     "output_type": "stream",
     "text": [
      "[ 0, 2, 4 ]\n"
     ]
    },
    {
     "data": {
      "text/plain": [
       "undefined"
      ]
     },
     "execution_count": 7,
     "metadata": {},
     "output_type": "execute_result"
    }
   ],
   "source": [
    "function filterEven(arr) {\n",
    "    return arr.filter(function(currVal) {\n",
    "        return currVal % 2 === 0;\n",
    "    });\n",
    "}\n",
    "\n",
    "console.log(filterEven([0, 1, 2, 3, 4, 5])); // => [0, 2, 4]"
   ]
  }
 ],
 "metadata": {
  "kernelspec": {
   "display_name": "Javascript (Node.js)",
   "language": "javascript",
   "name": "javascript"
  },
  "language_info": {
   "file_extension": "js",
   "mimetype": "application/javascript",
   "name": "javascript",
   "version": "0.12.6"
  }
 },
 "nbformat": 4,
 "nbformat_minor": 0
}
