{
 "cells": [
  {
   "cell_type": "markdown",
   "metadata": {},
   "source": [
    "Sources: Haverbeke, *Eloquent JavaScript*; ProjectEuler.net; Codewars.com; Coderbyte.com; Leetcode.com"
   ]
  },
  {
   "cell_type": "markdown",
   "metadata": {},
   "source": [
    "# Numeric values"
   ]
  },
  {
   "cell_type": "markdown",
   "metadata": {},
   "source": [
    "Generate prime numbers:"
   ]
  },
  {
   "cell_type": "code",
   "execution_count": 11,
   "metadata": {
    "collapsed": false
   },
   "outputs": [
    {
     "name": "stdout",
     "output_type": "stream",
     "text": [
      "[ 2, 3, 5, 7, 11, 13 ]\n",
      "true\n"
     ]
    },
    {
     "data": {
      "text/plain": [
       "undefined"
      ]
     },
     "execution_count": 11,
     "metadata": {},
     "output_type": "execute_result"
    }
   ],
   "source": [
    "function genPrimes(max) {\n",
    "    const FIRST = 2;\n",
    "    var nextPrime = FIRST, primes = [], test;\n",
    "    while (nextPrime <= max) {\n",
    "        primes.push(nextPrime);\n",
    "        nextPrime++; test = FIRST;\n",
    "\n",
    "        // Test each potential prime\n",
    "        while (test < nextPrime) {\n",
    "            (nextPrime % test === 0)\n",
    "                ? (nextPrime++, test = FIRST) // Move on to next potential prime\n",
    "                : test++; // Keep testing\n",
    "        }\n",
    "    }\n",
    "    return primes;\n",
    "}\n",
    "\n",
    "console.log(genPrimes(13)); // => [2, 3, 5, 7, 11]\n",
    "\n",
    "// => true\n",
    "console.log(genPrimes(1000).join(', ') === '2, 3, 5, 7, 11, 13, 17, 19, 23, 29, 31, 37, 41, 43, 47, 53, 59, 61, 67, 71, 73, 79, 83, 89, 97, 101, 103, 107, 109, 113, 127, 131, 137, 139, 149, 151, 157, 163, 167, 173, 179, 181, 191, 193, 197, 199, 211, 223, 227, 229, 233, 239, 241, 251, 257, 263, 269, 271, 277, 281, 283, 293, 307, 311, 313, 317, 331, 337, 347, 349, 353, 359, 367, 373, 379, 383, 389, 397, 401, 409, 419, 421, 431, 433, 439, 443, 449, 457, 461, 463, 467, 479, 487, 491, 499, 503, 509, 521, 523, 541, 547, 557, 563, 569, 571, 577, 587, 593, 599, 601, 607, 613, 617, 619, 631, 641, 643, 647, 653, 659, 661, 673, 677, 683, 691, 701, 709, 719, 727, 733, 739, 743, 751, 757, 761, 769, 773, 787, 797, 809, 811, 821, 823, 827, 829, 839, 853, 857, 859, 863, 877, 881, 883, 887, 907, 911, 919, 929, 937, 941, 947, 953, 967, 971, 977, 983, 991, 997');"
   ]
  },
  {
   "cell_type": "markdown",
   "metadata": {},
   "source": [
    "## Determine if an integer is prime"
   ]
  },
  {
   "cell_type": "code",
   "execution_count": 122,
   "metadata": {
    "collapsed": false
   },
   "outputs": [
    {
     "name": "stdout",
     "output_type": "stream",
     "text": [
      "false false true\n",
      "true false true\n",
      "false true false\n",
      "true true false\n"
     ]
    },
    {
     "data": {
      "text/plain": [
       "undefined"
      ]
     },
     "execution_count": 122,
     "metadata": {},
     "output_type": "execute_result"
    }
   ],
   "source": [
    "function isPrime(int) {\n",
    "    if (int < 2) return false;\n",
    "    if (int === 2) return true;\n",
    "    for (var test = 2; test < int; test++) {\n",
    "        if (int % test === 0) return false;\n",
    "    }\n",
    "    return true;\n",
    "}\n",
    "\n",
    "console.log(isPrime(0), isPrime(1), isPrime(2));    // => false false true\n",
    "console.log(isPrime(3), isPrime(4), isPrime(5));    // => true false true\n",
    "console.log(isPrime(6), isPrime(7), isPrime(8));    // => false true false\n",
    "console.log(isPrime(11), isPrime(13), isPrime(14)); // => true true false"
   ]
  },
  {
   "cell_type": "markdown",
   "metadata": {},
   "source": [
    "## Get the prime number factors of an integer"
   ]
  },
  {
   "cell_type": "code",
   "execution_count": 121,
   "metadata": {
    "collapsed": false
   },
   "outputs": [
    {
     "name": "stdout",
     "output_type": "stream",
     "text": [
      "17 is a prime number.\n",
      "[ 2, 2, 3 ]\n",
      "[ 2, 2, 2, 2, 3 ]\n",
      "[ 2, 3, 3, 5 ]\n",
      "[ 3, 7, 7 ]\n",
      "[ 2, 3, 5, 11 ]\n",
      "[ 5, 7, 13, 29 ]\n",
      "[ 71, 839, 1471, 6857 ]\n"
     ]
    },
    {
     "data": {
      "text/plain": [
       "undefined"
      ]
     },
     "execution_count": 121,
     "metadata": {},
     "output_type": "execute_result"
    }
   ],
   "source": [
    "function primeFactor(int) {\n",
    "    if (isPrime(int)) return int + ' is a prime number.';\n",
    "    var factors = [];\n",
    "\n",
    "    for (var test = 2; test < int / 2; test++) {\n",
    "\n",
    "        // If test is a 'divisor' of 'int', we're on our way\n",
    "        if (int % test === 0) {\n",
    "            if (isPrime(test)) factors.push(test);\n",
    "            var remainder = int / test;\n",
    "\n",
    "            // If 'remainder' is prime, we're done\n",
    "            if (isPrime(remainder)) {\n",
    "                factors.push(remainder);\n",
    "                break;\n",
    "            }\n",
    "\n",
    "            /* Continue, resetting 'test' by offsetting its\n",
    "               loop increment, and proceeding with 'remainder' */\n",
    "            test -= 1;\n",
    "            int = remainder;\n",
    "        }\n",
    "    }\n",
    "    return factors;\n",
    "}\n",
    "\n",
    "console.log(primeFactor(17));           // => '17 is a prime number.'\n",
    "console.log(primeFactor(12));           // => [2, 2, 3]\n",
    "console.log(primeFactor(48));           // => [2, 2, 2, 2, 3]\n",
    "console.log(primeFactor(90));           // => [2, 3, 3, 5]\n",
    "console.log(primeFactor(147));          // => [3, 7, 7]\n",
    "console.log(primeFactor(330));          // => [2, 3, 5, 11]\n",
    "console.log(primeFactor(13195));        // => [5, 7, 13, 29]\n",
    "console.log(primeFactor(600851475143)); // => [71, 839, 1471, 6857]"
   ]
  },
  {
   "cell_type": "markdown",
   "metadata": {},
   "source": [
    "Return the largest palindrome made from the product of two `int`-digit numbers:"
   ]
  },
  {
   "cell_type": "code",
   "execution_count": 148,
   "metadata": {
    "collapsed": false
   },
   "outputs": [
    {
     "name": "stdout",
     "output_type": "stream",
     "text": [
      "9009\n",
      "906609\n"
     ]
    },
    {
     "data": {
      "text/plain": [
       "undefined"
      ]
     },
     "execution_count": 148,
     "metadata": {},
     "output_type": "execute_result"
    }
   ],
   "source": [
    "function largestPalindrome(int) {\n",
    "    var max = a = b = Math.pow(10, int) - 1;\n",
    "    var product = 0, palindrome = 0;\n",
    "    while (a > 0) {\n",
    "        while (b > 0) {\n",
    "            product = a * b;\n",
    "            if (isPalindrome(product)\n",
    "                && product > palindrome) {\n",
    "                palindrome = product;\n",
    "            }\n",
    "            b -= 1;\n",
    "        }\n",
    "        b = max; a -= 1;\n",
    "    }\n",
    "    return palindrome;\n",
    "}\n",
    "\n",
    "console.log(largestPalindrome(2)); // => 9009\n",
    "console.log(largestPalindrome(3)); // => 906609"
   ]
  },
  {
   "cell_type": "markdown",
   "metadata": {},
   "source": [
    "## Return the minimum of two values"
   ]
  },
  {
   "cell_type": "code",
   "execution_count": 74,
   "metadata": {
    "collapsed": false
   },
   "outputs": [
    {
     "name": "stdout",
     "output_type": "stream",
     "text": [
      "0 and 1:  min value is 0\n",
      "1 and 1:  values are equal\n",
      "2 and 1:  min value is 1\n"
     ]
    },
    {
     "data": {
      "text/plain": [
       "undefined"
      ]
     },
     "execution_count": 74,
     "metadata": {},
     "output_type": "execute_result"
    }
   ],
   "source": [
    "function getMin(a, b) {\n",
    "    var prepend = a + ' and ' + b + ':  ';\n",
    "    if (a === b) return prepend + 'values are equal';\n",
    "    var min = (a < b) ? a : b;\n",
    "    return prepend + 'min value is ' + min;\n",
    "}\n",
    "\n",
    "console.log(getMin(0, 1)); // => \"0 and 1: min value is 0\"\n",
    "console.log(getMin(1, 1)); // => \"1 and 1: values are equal\"\n",
    "console.log(getMin(2, 1)); // => \"2 and 1: min value is 1\""
   ]
  },
  {
   "cell_type": "markdown",
   "metadata": {},
   "source": [
    "## Test for even values"
   ]
  },
  {
   "cell_type": "markdown",
   "metadata": {},
   "source": [
    "Using recursion, return true if a value is even, counting zero as even:"
   ]
  },
  {
   "cell_type": "code",
   "execution_count": 53,
   "metadata": {
    "collapsed": false
   },
   "outputs": [
    {
     "name": "stdout",
     "output_type": "stream",
     "text": [
      "true\n",
      "false\n",
      "false\n"
     ]
    },
    {
     "data": {
      "text/plain": [
       "undefined"
      ]
     },
     "execution_count": 53,
     "metadata": {},
     "output_type": "execute_result"
    }
   ],
   "source": [
    "function isEven(number) {\n",
    "    if (number === 0) return true;\n",
    "    else if (number === 1) return false;\n",
    "    else if (number < 0) return isEven(-number);    \n",
    "    else return isEven(number -2);\n",
    "}\n",
    "\n",
    "console.log(isEven(50)); // => true\n",
    "console.log(isEven(75)); // => false\n",
    "console.log(isEven(-1)); // => false"
   ]
  },
  {
   "cell_type": "markdown",
   "metadata": {},
   "source": [
    "## Get factorial"
   ]
  },
  {
   "cell_type": "code",
   "execution_count": 99,
   "metadata": {
    "collapsed": false
   },
   "outputs": [
    {
     "name": "stdout",
     "output_type": "stream",
     "text": [
      "1\n",
      "1\n",
      "120\n",
      "3628800\n"
     ]
    },
    {
     "data": {
      "text/plain": [
       "undefined"
      ]
     },
     "execution_count": 99,
     "metadata": {},
     "output_type": "execute_result"
    }
   ],
   "source": [
    "function getFactorial(int) {\n",
    "    if (int === 0) return 1; // Handle empty product\n",
    "    var p = int;\n",
    "    while (int > 1) {\n",
    "        p *= (int - 1);\n",
    "        int -= 1;\n",
    "    }\n",
    "    return p;\n",
    "}\n",
    "\n",
    "console.log(getFactorial(0));  // => 1\n",
    "console.log(getFactorial(1));  // => 1\n",
    "console.log(getFactorial(5));  // => 120\n",
    "console.log(getFactorial(10)); // => 3628800"
   ]
  },
  {
   "cell_type": "markdown",
   "metadata": {},
   "source": [
    "Using recursion:"
   ]
  },
  {
   "cell_type": "code",
   "execution_count": 116,
   "metadata": {
    "collapsed": false
   },
   "outputs": [
    {
     "name": "stdout",
     "output_type": "stream",
     "text": [
      "1\n",
      "1\n",
      "120\n",
      "3628800\n"
     ]
    },
    {
     "data": {
      "text/plain": [
       "undefined"
      ]
     },
     "execution_count": 116,
     "metadata": {},
     "output_type": "execute_result"
    }
   ],
   "source": [
    "function getFactorial(int) {\n",
    "\n",
    "    /* Needed to handle empty product (factorial of 0 = 1),\n",
    "       but also serves as limit for recursion */\n",
    "    if (int === 0) return 1;\n",
    "\n",
    "    return int * getFactorial(int - 1);\n",
    "}\n",
    "\n",
    "console.log(getFactorial(0));  // => 1\n",
    "console.log(getFactorial(1));  // => 1\n",
    "console.log(getFactorial(5));  // => 120\n",
    "console.log(getFactorial(10)); // => 3628800"
   ]
  },
  {
   "cell_type": "markdown",
   "metadata": {},
   "source": [
    "## Determine if a number is a power of 2"
   ]
  },
  {
   "cell_type": "markdown",
   "metadata": {},
   "source": [
    "Using decimal: while the integer is even and greater than 1, divide by 2. If the final quotient is 1, the integer is a power of two. Refs: [1](http://www.exploringbinary.com/how-to-check-if-a-number-is-a-power-of-two/), [2](http://www.exploringbinary.com/ten-ways-to-check-if-an-integer-is-a-power-of-two-in-c/)"
   ]
  },
  {
   "cell_type": "code",
   "execution_count": 105,
   "metadata": {
    "collapsed": false
   },
   "outputs": [
    {
     "name": "stdout",
     "output_type": "stream",
     "text": [
      "false\n",
      "true\n",
      "true\n",
      "false\n",
      "true\n",
      "false\n",
      "true\n"
     ]
    },
    {
     "data": {
      "text/plain": [
       "undefined"
      ]
     },
     "execution_count": 105,
     "metadata": {},
     "output_type": "execute_result"
    }
   ],
   "source": [
    "function isPowerOfTwo(int) {\n",
    "    while (int % 2 === 0 && int > 1) {\n",
    "        int = int / 2;\n",
    "    }\n",
    "    return (int === 1);\n",
    "}\n",
    "\n",
    "console.log(isPowerOfTwo(0));   // => false\n",
    "console.log(isPowerOfTwo(1));   // => true\n",
    "console.log(isPowerOfTwo(2));   // => true\n",
    "console.log(isPowerOfTwo(3));   // => false\n",
    "console.log(isPowerOfTwo(4));   // => true\n",
    "console.log(isPowerOfTwo(24));  // => false\n",
    "console.log(isPowerOfTwo(32));  // => true"
   ]
  },
  {
   "cell_type": "markdown",
   "metadata": {},
   "source": [
    "Using bitwise AND. Refs: [1](https://en.wikipedia.org/wiki/Power_of_two#Fast_algorithm_to_check_if_a_positive_number_is_a_power_of_two), [2](http://www.exploringbinary.com/ten-ways-to-check-if-an-integer-is-a-power-of-two-in-c/), [3](http://stackoverflow.com/questions/600293/how-to-check-if-a-number-is-a-power-of-2)"
   ]
  },
  {
   "cell_type": "code",
   "execution_count": 106,
   "metadata": {
    "collapsed": false
   },
   "outputs": [
    {
     "name": "stdout",
     "output_type": "stream",
     "text": [
      "false\n",
      "true\n",
      "true\n",
      "false\n",
      "true\n",
      "false\n",
      "true\n"
     ]
    },
    {
     "data": {
      "text/plain": [
       "undefined"
      ]
     },
     "execution_count": 106,
     "metadata": {},
     "output_type": "execute_result"
    }
   ],
   "source": [
    "function isPowerOfTwo(int)  {\n",
    "    return (int != 0) && ((int & (int - 1)) == 0);\n",
    "}\n",
    "\n",
    "console.log(isPowerOfTwo(0));   // => false\n",
    "console.log(isPowerOfTwo(1));   // => true\n",
    "console.log(isPowerOfTwo(2));   // => true\n",
    "console.log(isPowerOfTwo(3));   // => false\n",
    "console.log(isPowerOfTwo(4));   // => true\n",
    "console.log(isPowerOfTwo(24));  // => false\n",
    "console.log(isPowerOfTwo(32));  // => true"
   ]
  },
  {
   "cell_type": "markdown",
   "metadata": {},
   "source": [
    "## Sum a range"
   ]
  },
  {
   "cell_type": "markdown",
   "metadata": {},
   "source": [
    "Sum positive integers up to positive integer `int` using recursion:"
   ]
  },
  {
   "cell_type": "code",
   "execution_count": 117,
   "metadata": {
    "collapsed": false
   },
   "outputs": [
    {
     "name": "stdout",
     "output_type": "stream",
     "text": [
      "15\n",
      "55\n"
     ]
    },
    {
     "data": {
      "text/plain": [
       "undefined"
      ]
     },
     "execution_count": 117,
     "metadata": {},
     "output_type": "execute_result"
    }
   ],
   "source": [
    "function addUpTo(int) {\n",
    "    if (int === 0) return int;\n",
    "    return int + addUpTo(int - 1);\n",
    "}\n",
    "\n",
    "console.log(addUpTo(5));  // => 15\n",
    "console.log(addUpTo(10)); // => 55"
   ]
  },
  {
   "cell_type": "markdown",
   "metadata": {},
   "source": [
    "Find the sum of all the natural numbers below `max` that are multiples of any number in the array `tulps`. Since `tulps` is an array, we have to be careful **not** to add multiple times any number that is a multiple of **all** the values in `tulps`.\n",
    "\n",
    "Using `while` here to avoid nested `for` loops; but `while` requires the extra steps of decrementing `max` beforehand, to avoid using the parameter value of `max`, and decrementing it again as the loop iterator."
   ]
  },
  {
   "cell_type": "code",
   "execution_count": 110,
   "metadata": {
    "collapsed": false
   },
   "outputs": [
    {
     "data": {
      "text/plain": [
       "233168"
      ]
     },
     "execution_count": 110,
     "metadata": {},
     "output_type": "execute_result"
    }
   ],
   "source": [
    "function sumMultiplesRange(max, tulps) {\n",
    "    var sum = 0;\n",
    "    max -= 1; // Don't include max value itself\n",
    "    while (max > 0) {\n",
    "        for (var i = 0, l = tulps.length; i < l; i++) {\n",
    "            if (max % tulps[i] === 0) {                \n",
    "                sum += max;\n",
    "                break; // Don't increment `sum` by any matching value more than once!\n",
    "            }\n",
    "        }\n",
    "        max--;\n",
    "    }\n",
    "    return sum;\n",
    "}\n",
    "\n",
    "sumMultiplesRange(1000, [3, 5]); // => 233168"
   ]
  },
  {
   "cell_type": "markdown",
   "metadata": {},
   "source": [
    "## Fibonacci sequence"
   ]
  },
  {
   "cell_type": "markdown",
   "metadata": {},
   "source": [
    "Generator. Written so that the recurrence relation is expressed clearly, on line 5 (statement assigning the value of `nextNum`)."
   ]
  },
  {
   "cell_type": "code",
   "execution_count": 24,
   "metadata": {
    "collapsed": false
   },
   "outputs": [
    {
     "name": "stdout",
     "output_type": "stream",
     "text": [
      "[ 0, 1, 1, 2, 3, 5, 8, 13, 21, 34, 55, 89, 144 ]\n"
     ]
    },
    {
     "data": {
      "text/plain": [
       "undefined"
      ]
     },
     "execution_count": 24,
     "metadata": {},
     "output_type": "execute_result"
    }
   ],
   "source": [
    "function genFibos(max) {\n",
    "    var arr = [0, 1], len, nextNum = null;\n",
    "    while (nextNum < max) {\n",
    "        len = arr.length;\n",
    "        nextNum = arr[len - 1] + arr[len - 2];\n",
    "        if (nextNum < max) arr.push(nextNum);\n",
    "    }\n",
    "    return arr;\n",
    "}\n",
    "\n",
    "// => [ 0, 1, 1, 2, 3, 5, 8, 13, 21, 34, 55, 89, 144 ]\n",
    "console.log(genFibos(145));"
   ]
  },
  {
   "cell_type": "markdown",
   "metadata": {},
   "source": [
    "Given a zero-index position in the Fibonacci sequence, return the Fibonacci number at that index position. Written to retain and use (in the return statement on line 9) the value of the parameter `index`."
   ]
  },
  {
   "cell_type": "code",
   "execution_count": 17,
   "metadata": {
    "collapsed": false
   },
   "outputs": [
    {
     "name": "stdout",
     "output_type": "stream",
     "text": [
      "0\n",
      "3\n",
      "610\n"
     ]
    },
    {
     "data": {
      "text/plain": [
       "undefined"
      ]
     },
     "execution_count": 17,
     "metadata": {},
     "output_type": "execute_result"
    }
   ],
   "source": [
    "function getFibosIndex(index) {\n",
    "    var arr = [0, 1], len, indexCount = index, nextNum = null;\n",
    "    while (indexCount > 0) {\n",
    "        len = arr.length;\n",
    "        nextNum = arr[len - 1] + arr[len - 2];\n",
    "        arr.push(nextNum);\n",
    "        indexCount -= 1;\n",
    "    }\n",
    "    return arr[index];\n",
    "}\n",
    "\n",
    "console.log(getFibosIndex(0));  // => 0\n",
    "console.log(getFibosIndex(4));  // => 3\n",
    "console.log(getFibosIndex(15)); // => 610"
   ]
  },
  {
   "cell_type": "markdown",
   "metadata": {},
   "source": [
    "Find the sum of the even or odd-valued terms in the Fibonacci sequence whose values do not exceed a maximum value:"
   ]
  },
  {
   "cell_type": "code",
   "execution_count": 16,
   "metadata": {
    "collapsed": false
   },
   "outputs": [
    {
     "name": "stdout",
     "output_type": "stream",
     "text": [
      "44\n",
      "188\n",
      "4613732\n",
      "4613732\n"
     ]
    },
    {
     "data": {
      "text/plain": [
       "undefined"
      ]
     },
     "execution_count": 16,
     "metadata": {},
     "output_type": "execute_result"
    }
   ],
   "source": [
    "function sumFibos(max, prop) {\n",
    "    var fibos = genFibos(max);\n",
    "    if (prop === 'even') {\n",
    "        fibos = fibos.filter(function(val) {\n",
    "            return val % 2 === 0;\n",
    "        });\n",
    "    } else if (prop === 'odd') {\n",
    "        fibos = fibos.filter(function(val) {\n",
    "            return val % 2 === 1;\n",
    "        });\n",
    "    }\n",
    "    // return fibos;\n",
    "    return fibos.reduce(function(prevVal, currVal) {\n",
    "        return prevVal + currVal;\n",
    "    });\n",
    "}\n",
    "\n",
    "console.log(sumFibos(99, 'even'));      // => 44\n",
    "console.log(sumFibos(99, 'odd'));       // => 188\n",
    "console.log(sumFibos(4000000, 'even')); // => 4613732\n",
    "console.log(sumFibos(4000000, 'odd'));  // => 4613732"
   ]
  },
  {
   "cell_type": "markdown",
   "metadata": {},
   "source": [
    "# Strings"
   ]
  },
  {
   "cell_type": "markdown",
   "metadata": {},
   "source": [
    "## Count occurrences of a character in a string"
   ]
  },
  {
   "cell_type": "code",
   "execution_count": 142,
   "metadata": {
    "collapsed": false
   },
   "outputs": [
    {
     "name": "stdout",
     "output_type": "stream",
     "text": [
      "1\n",
      "0\n",
      "1\n",
      "3\n"
     ]
    },
    {
     "data": {
      "text/plain": [
       "undefined"
      ]
     },
     "execution_count": 142,
     "metadata": {},
     "output_type": "execute_result"
    }
   ],
   "source": [
    "function countChar(str, character) {\n",
    "  var counter = 0;\n",
    "  for (var elt in str) {\n",
    "    if (str[elt] == character) counter += 1;\n",
    "  }\n",
    "  return counter;\n",
    "}\n",
    "\n",
    "console.log(countChar(\"foo\", \"f\"));          // => 1\n",
    "console.log(countChar(\"bar\", \"f\"));          // => 0\n",
    "console.log(countChar(\"fooBar\", \"B\"));       // => 1\n",
    "console.log(countChar(\"fooBarBarous\", \"o\")); // => 3"
   ]
  },
  {
   "cell_type": "markdown",
   "metadata": {},
   "source": [
    "Return a case-insensitive count of alphabetic characters that occur more than once in the given string. Index order and array length are unimportant, so use `for..in`, concatenating each string element with a (initially empty) copy of the string, checking it for duplication (by testing to see if it's already present in the copy), and tallying elements and their duplication counts in an object. Finally, return the length of that object's keys, which tells us how many individual characters in the string occur more than once.\n",
    "\n",
    "Other, possibly more efficient ways to do this include using the String prototype's `split()` method and then the Array prototype's `sort()` or other methods."
   ]
  },
  {
   "cell_type": "code",
   "execution_count": 144,
   "metadata": {
    "collapsed": false
   },
   "outputs": [
    {
     "name": "stdout",
     "output_type": "stream",
     "text": [
      "0\n",
      "2\n",
      "2\n"
     ]
    },
    {
     "data": {
      "text/plain": [
       "undefined"
      ]
     },
     "execution_count": 144,
     "metadata": {},
     "output_type": "execute_result"
    }
   ],
   "source": [
    "function duplicateCount(str) {\n",
    "    var strCopy = '', dupes = {};\n",
    "    str = str.toLowerCase();\n",
    "    for (var elt in str) {\n",
    "        var strElt = str[elt];\n",
    "        if (strCopy.indexOf(strElt) !== -1) {\n",
    "            dupes[strElt] = (dupes[strElt])\n",
    "                ? dupes[strElt] + 1\n",
    "                : 2; // Initial property value\n",
    "        }\n",
    "        strCopy += str[elt];\n",
    "    }\n",
    "    return Object.keys(dupes).length;\n",
    "}\n",
    "\n",
    "console.log(duplicateCount(\"abcde\"));   // => 0\n",
    "console.log(duplicateCount(\"aabbcde\")); // => 2\n",
    "console.log(duplicateCount(\"aaBbcde\")); // => 2"
   ]
  },
  {
   "cell_type": "markdown",
   "metadata": {},
   "source": [
    "## Determine if a string is a palindrome"
   ]
  },
  {
   "cell_type": "markdown",
   "metadata": {},
   "source": [
    "Handling positive integers as well:"
   ]
  },
  {
   "cell_type": "code",
   "execution_count": 95,
   "metadata": {
    "collapsed": false
   },
   "outputs": [
    {
     "name": "stdout",
     "output_type": "stream",
     "text": [
      "false\n",
      "true\n",
      "false\n",
      "true\n",
      "true\n"
     ]
    },
    {
     "data": {
      "text/plain": [
       "undefined"
      ]
     },
     "execution_count": 95,
     "metadata": {},
     "output_type": "execute_result"
    }
   ],
   "source": [
    "function isPalindrome(val) {\n",
    "    var str = (typeof val == 'number') ? val.toString() : val;\n",
    "    for (var i = 0, sl = str.length, l = sl / 2; i < l; i++) {\n",
    "        if (str[i] !== str[sl - i - 1]) return false;\n",
    "    }\n",
    "    return true;\n",
    "}\n",
    "\n",
    "console.log(isPalindrome('foobar'));  // => false\n",
    "console.log(isPalindrome('fooboof')); // => true\n",
    "console.log(isPalindrome(1234567));   // => false\n",
    "console.log(isPalindrome(1234321));   // => true\n",
    "console.log(isPalindrome(12344321));  // => true"
   ]
  },
  {
   "cell_type": "markdown",
   "metadata": {},
   "source": [
    "String version considering only alphanumeric characters (and excluding spaces) and ignoring case. To do this, split the string, filter the resulting array to return only alphanumeric characters, then join the array into a string:"
   ]
  },
  {
   "cell_type": "code",
   "execution_count": 149,
   "metadata": {
    "collapsed": false
   },
   "outputs": [
    {
     "name": "stdout",
     "output_type": "stream",
     "text": [
      "true\n",
      "true\n",
      "false\n",
      "false\n"
     ]
    },
    {
     "data": {
      "text/plain": [
       "undefined"
      ]
     },
     "execution_count": 149,
     "metadata": {},
     "output_type": "execute_result"
    }
   ],
   "source": [
    "function isPalindrome(str) {\n",
    "    str = str.toLowerCase().split('').filter(function(elt) {\n",
    "        return elt.match(/[a-z0-9]/);\n",
    "    }).join('');\n",
    "    for (var i = 0, sl = str.length, l = sl / 2; i < l; i++) {\n",
    "        if (str[i] !== str[sl - i - 1]) return false;\n",
    "    }\n",
    "    return true;\n",
    "}\n",
    "\n",
    "console.log(isPalindrome(''));                               // => true\n",
    "console.log(isPalindrome('A man, a plan, a canal: Panama')); // => true\n",
    "console.log(isPalindrome('race a car'));                     // => false\n",
    "console.log(isPalindrome('1a2'));                            // => false"
   ]
  },
  {
   "cell_type": "markdown",
   "metadata": {},
   "source": [
    "## Determine if a string is an isogram"
   ]
  },
  {
   "cell_type": "markdown",
   "metadata": {},
   "source": [
    "Concatenate string elements with a (initially empty) copy of the string, checking it for duplication. Other, possibly more efficient ways to do this include using the String prototype's `split()` method and then the Array prototype's `sort()` or other methods. "
   ]
  },
  {
   "cell_type": "code",
   "execution_count": 128,
   "metadata": {
    "collapsed": false
   },
   "outputs": [
    {
     "name": "stdout",
     "output_type": "stream",
     "text": [
      "true\n",
      "false\n",
      "false\n"
     ]
    },
    {
     "data": {
      "text/plain": [
       "undefined"
      ]
     },
     "execution_count": 128,
     "metadata": {},
     "output_type": "execute_result"
    }
   ],
   "source": [
    "function isIsogram(str) {\n",
    "    if (str === '') return true;\n",
    "    str = str.toLowerCase();\n",
    "    var strCopy = '';\n",
    "    for (var char in str) {\n",
    "        if (strCopy.indexOf(str[char]) !== -1) return false;\n",
    "        strCopy += str[char];\n",
    "    }\n",
    "    return true;\n",
    "}\n",
    "\n",
    "console.log(isIsogram('isogram')); // => true\n",
    "console.log(isIsogram('abba'));    // => false\n",
    "console.log(isIsogram('foO'));     // => false"
   ]
  },
  {
   "cell_type": "markdown",
   "metadata": {},
   "source": [
    "## Matching strings"
   ]
  },
  {
   "cell_type": "markdown",
   "metadata": {},
   "source": [
    "Validate a phone number in strict format `(123) 456-7890`, including white space and punctuation:"
   ]
  },
  {
   "cell_type": "code",
   "execution_count": 145,
   "metadata": {
    "collapsed": false
   },
   "outputs": [
    {
     "name": "stdout",
     "output_type": "stream",
     "text": [
      "true\n",
      "false\n",
      "false\n"
     ]
    },
    {
     "data": {
      "text/plain": [
       "undefined"
      ]
     },
     "execution_count": 145,
     "metadata": {},
     "output_type": "execute_result"
    }
   ],
   "source": [
    "function validateTelNo(telNo) {\n",
    "    var telNoRegExp = /^\\(\\d{3}\\)\\s{1}\\d{3}-\\d{4}$/;\n",
    "    return telNoRegExp.test(telNo);\n",
    "}\n",
    "\n",
    "console.log(validateTelNo('(123) 456-7890')); // => true\n",
    "console.log(validateTelNo('(1111)555 2345')); // => false\n",
    "console.log(validateTelNo('(098) 123 4567')); // => false"
   ]
  },
  {
   "cell_type": "markdown",
   "metadata": {},
   "source": [
    "Determine if one string ends with the other:"
   ]
  },
  {
   "cell_type": "code",
   "execution_count": 133,
   "metadata": {
    "collapsed": false
   },
   "outputs": [
    {
     "name": "stdout",
     "output_type": "stream",
     "text": [
      "true\n",
      "false\n",
      "true\n",
      "true\n"
     ]
    },
    {
     "data": {
      "text/plain": [
       "undefined"
      ]
     },
     "execution_count": 133,
     "metadata": {},
     "output_type": "execute_result"
    }
   ],
   "source": [
    "function endsWith(str, ending) {\n",
    "    var strLen = str.length, endLen = ending.length;\n",
    "    return str.slice(strLen - endLen) === ending;\n",
    "}\n",
    "\n",
    "console.log(endsWith('abc', 'c'));      // => true\n",
    "console.log(endsWith('abc', 'd'));      // => false\n",
    "console.log(endsWith('abc', 'bc'));     // => true\n",
    "console.log(endsWith('foobar', 'bar')); // => true"
   ]
  },
  {
   "cell_type": "markdown",
   "metadata": {},
   "source": [
    "## Return the longest word in a string"
   ]
  },
  {
   "cell_type": "markdown",
   "metadata": {},
   "source": [
    "Ignore punctuation, and if two words are of equal length, return the word that comes first in the array:"
   ]
  },
  {
   "cell_type": "markdown",
   "metadata": {},
   "source": [
    "Using the String prototype's `split()` method with a regexp `\\b\\W*\\b` matching 0 or more of anything but letters, digits and underscores (`\\W` is equivalent to `[^A-Za-z0-9_]`) between the end of one word boundary (`\\b`) and the next."
   ]
  },
  {
   "cell_type": "code",
   "execution_count": 19,
   "metadata": {
    "collapsed": false
   },
   "outputs": [
    {
     "data": {
      "text/plain": [
       "'foobarbarous'"
      ]
     },
     "execution_count": 19,
     "metadata": {},
     "output_type": "execute_result"
    }
   ],
   "source": [
    "function longestWord(s) {\n",
    "    var longest   = '',\n",
    "        wordArray = s.split(/\\b\\W*\\b/);\n",
    "    \n",
    "    for (var i = 0, l = wordArray.length; i < l; i++) {\n",
    "        if (wordArray[i].length > longest.length) {\n",
    "            longest = wordArray[i];\n",
    "        }\n",
    "    }\n",
    "    return longest;\n",
    "}\n",
    "\n",
    "longestWord('foo bar foobarbarous!**!*! foobarbarosa&&*'); // => 'foobarbarous'"
   ]
  },
  {
   "cell_type": "markdown",
   "metadata": {},
   "source": [
    "## String transformations"
   ]
  },
  {
   "cell_type": "markdown",
   "metadata": {},
   "source": [
    "Capitalize elements of a string, using the String prototype's `split()` method and the Array prototype's `join()` method afterward. Arrays are mutable, so we can change the elements of the original array (but strings are immutable, so we have to create a new string while capitalizing letters)."
   ]
  },
  {
   "cell_type": "code",
   "execution_count": 146,
   "metadata": {
    "collapsed": false
   },
   "outputs": [
    {
     "name": "stdout",
     "output_type": "stream",
     "text": [
      "Foo Bar Foobar\n"
     ]
    },
    {
     "data": {
      "text/plain": [
       "undefined"
      ]
     },
     "execution_count": 146,
     "metadata": {},
     "output_type": "execute_result"
    }
   ],
   "source": [
    "function capitalizeWords(str) {\n",
    "    var arr = str.split(' ');\n",
    "    for (var i = 0, len = arr.length; i < len; i++) {\n",
    "        arr[i] = arr[i].charAt(0).toUpperCase() +\n",
    "                 arr[i].substring(1, arr[i].length);\n",
    "    }\n",
    "    return arr.join(' ');\n",
    "}\n",
    "\n",
    "// => 'Foo Bar Foobar'\n",
    "console.log(capitalizeWords('foo bar foobar'));"
   ]
  },
  {
   "cell_type": "markdown",
   "metadata": {},
   "source": [
    "Using nested calls to the Array prototype's `map()` function:"
   ]
  },
  {
   "cell_type": "code",
   "execution_count": 153,
   "metadata": {
    "collapsed": false
   },
   "outputs": [
    {
     "name": "stdout",
     "output_type": "stream",
     "text": [
      "StRiNg\n",
      "StRaNgE CaSe\n"
     ]
    },
    {
     "data": {
      "text/plain": [
       "undefined"
      ]
     },
     "execution_count": 153,
     "metadata": {},
     "output_type": "execute_result"
    }
   ],
   "source": [
    "function toStrangeCase(string) {\n",
    "    return string.split(' ').map(function(currVal) { // Array of words\n",
    "\n",
    "        // Split each word into an array of characters and transform\n",
    "        return currVal.split('').map(function(currVal, index) {\n",
    "            return (index % 2 === 0)\n",
    "                ? currVal.toUpperCase()\n",
    "                : currVal.toLowerCase();\n",
    "        }).join(''); // array of characters\n",
    "    }).join(' '); // array of words\n",
    "}\n",
    "\n",
    "console.log(toStrangeCase('String'));       // => 'StRiNg'\n",
    "console.log(toStrangeCase('Strange case')); // => 'StRaNgE CaSe'"
   ]
  },
  {
   "cell_type": "markdown",
   "metadata": {},
   "source": [
    "Return a string in title case, taking an array of stop words:"
   ]
  },
  {
   "cell_type": "code",
   "execution_count": 2,
   "metadata": {
    "collapsed": false
   },
   "outputs": [
    {
     "name": "stdout",
     "output_type": "stream",
     "text": [
      "The Way of the World\n",
      "The Way of the The\n"
     ]
    },
    {
     "data": {
      "text/plain": [
       "undefined"
      ]
     },
     "execution_count": 2,
     "metadata": {},
     "output_type": "execute_result"
    }
   ],
   "source": [
    "function capStr(str) {\n",
    "    return str.charAt(0).toUpperCase() +\n",
    "           str.substring(1);\n",
    "}\n",
    "\n",
    "function titleCase(str, stopWords) {\n",
    "    return str.toLowerCase().split(' ')\n",
    "        .map(function(currVal, ind, arr) {\n",
    "\n",
    "            // Cap both first and last words in string\n",
    "            if (ind === 0 || ind === arr.length - 1) {\n",
    "                return capStr(currVal);\n",
    "            }\n",
    "            return (stopWords.indexOf(currVal) === -1)\n",
    "                ? capStr(currVal)\n",
    "                : currVal;\n",
    "        }).join(' ');\n",
    "}\n",
    "\n",
    "// from U.S. Government Printing Office Style Manual\n",
    "var stopWords = ['a', 'an', 'the', 'at', 'by', 'for', 'in', 'of',\n",
    "                'on', 'to', 'up', 'and', 'as', 'but', 'or', 'nor']\n",
    "\n",
    "// => 'The Way of the World'\n",
    "console.log(titleCase('the way of the world', stopWords));\n",
    "\n",
    "// => 'The Way of the The'\n",
    "console.log(titleCase('the way of the the', stopWords));"
   ]
  },
  {
   "cell_type": "markdown",
   "metadata": {},
   "source": [
    "Pig Latin:"
   ]
  },
  {
   "cell_type": "code",
   "execution_count": 4,
   "metadata": {
    "collapsed": false
   },
   "outputs": [
    {
     "name": "stdout",
     "output_type": "stream",
     "text": [
      "igpay atinlay\n"
     ]
    },
    {
     "data": {
      "text/plain": [
       "undefined"
      ]
     },
     "execution_count": 4,
     "metadata": {},
     "output_type": "execute_result"
    }
   ],
   "source": [
    "function pigLatin(str) {\n",
    "    return str.toLowerCase().split(' ')\n",
    "        .map(function(currVal) {\n",
    "            return currVal.substring(1) +\n",
    "                      currVal.charAt(0) + 'ay';\n",
    "        }).join(' ');\n",
    "}\n",
    "\n",
    "console.log(pigLatin('Pig latin')); // => igPay atinlay"
   ]
  },
  {
   "cell_type": "markdown",
   "metadata": {},
   "source": [
    "String munging:"
   ]
  },
  {
   "cell_type": "code",
   "execution_count": 13,
   "metadata": {
    "collapsed": false
   },
   "outputs": [
    {
     "name": "stdout",
     "output_type": "stream",
     "text": [
      "Ab\n",
      "Aabb\n",
      "Abba\n",
      "Aabbaa\n",
      "Baabbaa\n",
      "Mipsu\n",
      "Rbafoo!\n",
      "The ckqui, wnbro xfo...\n",
      "Mrelo mipsu rlodo tsi tame.\n",
      "Pbsoloro sjmeda nujo ltijozo\n"
     ]
    },
    {
     "data": {
      "text/plain": [
       "undefined"
      ]
     },
     "execution_count": 13,
     "metadata": {},
     "output_type": "execute_result"
    }
   ],
   "source": [
    "function mungeStr(str) {\n",
    "    var munged = str.toLowerCase().split(/(\\W)/)\n",
    "        .map(function(currVal) {\n",
    "            return currVal.split(/([aeiou]*[b-df-hj-np-tv-z]+[aeiou]+)/)\n",
    "                .reverse()\n",
    "                .join(''); // Array of word fragments\n",
    "        }).join(''); // Array of words\n",
    "    return munged.charAt(0).toUpperCase() + munged.substring(1);\n",
    "}\n",
    "\n",
    "console.log(mungeStr('ab'));      // => 'Ab'\n",
    "console.log(mungeStr('aabb'));    // => 'Aabb'\n",
    "console.log(mungeStr('abba'));    // => 'Abba'\n",
    "console.log(mungeStr('aabbaa'));  // => 'Aabbaa'\n",
    "console.log(mungeStr('aabbaab')); // => 'Baabbaa'\n",
    "console.log(mungeStr('ipsum'));   // => 'Mipsu'\n",
    "console.log(mungeStr('Foobar!'));                      // => 'Rbafoo!'\n",
    "console.log(mungeStr('the quick, brown fox...'));      // => 'The ckqui, wnbro xfo...'\n",
    "console.log(mungeStr('lorem Ipsum dolor sit amet.'));  // => 'Mrelo mipsu rlodo tsi tame.'\n",
    "console.log(mungeStr('rolobsop dajmes jonu zojotil')); // => 'Pbsoloro sjmeda nujo ltijozo'"
   ]
  },
  {
   "cell_type": "markdown",
   "metadata": {},
   "source": [
    "### Reverse a string"
   ]
  },
  {
   "cell_type": "markdown",
   "metadata": {},
   "source": [
    "See: http://eddmann.com/posts/ten-ways-to-reverse-a-string-in-javascript/"
   ]
  },
  {
   "cell_type": "markdown",
   "metadata": {},
   "source": [
    "Using the String prototype's `split()` method with the Array prototype's `reverse()` and `join()` methods:"
   ]
  },
  {
   "cell_type": "code",
   "execution_count": 71,
   "metadata": {
    "collapsed": false
   },
   "outputs": [
    {
     "data": {
      "text/plain": [
       "'edcba'"
      ]
     },
     "execution_count": 71,
     "metadata": {},
     "output_type": "execute_result"
    }
   ],
   "source": [
    "'abcde'.split('').reverse().join(''); // => 'edcba'"
   ]
  },
  {
   "cell_type": "markdown",
   "metadata": {},
   "source": [
    "Using a decrementing for loop with string concatenation and selecting each character either using array syntax (`str[i]`), which we can do because strings are arraylike, or using the String prototype's `substr()` method:"
   ]
  },
  {
   "cell_type": "code",
   "execution_count": 78,
   "metadata": {
    "collapsed": false
   },
   "outputs": [
    {
     "data": {
      "text/plain": [
       "'fedcba'"
      ]
     },
     "execution_count": 78,
     "metadata": {},
     "output_type": "execute_result"
    }
   ],
   "source": [
    "function reverseString(str) {\n",
    "    var reversed = '';\n",
    "    for (var i = str.length - 1; i >= 0; i--) {\n",
    "        reversed += str[i]; // Strings are arraylike\n",
    "        // reversed += str.substr(i, 1); // Or use substring selection\n",
    "    }\n",
    "    return reversed;\n",
    "}\n",
    "\n",
    "reverseString('abcdef'); // => 'fedcba'"
   ]
  },
  {
   "cell_type": "markdown",
   "metadata": {},
   "source": [
    "Using recursion:"
   ]
  },
  {
   "cell_type": "code",
   "execution_count": 107,
   "metadata": {
    "collapsed": false
   },
   "outputs": [
    {
     "name": "stdout",
     "output_type": "stream",
     "text": [
      "oof\n",
      "dlrow olleh\n",
      "dcba\n",
      "54321\n"
     ]
    },
    {
     "data": {
      "text/plain": [
       "undefined"
      ]
     },
     "execution_count": 107,
     "metadata": {},
     "output_type": "execute_result"
    }
   ],
   "source": [
    "function reverseString(str) {\n",
    "    var l = str.length, out = '';\n",
    "    while (l > 0) {\n",
    "        out += str[l - 1];\n",
    "        l -= 1;\n",
    "        reverseString(str.substring(0, l));\n",
    "    }\n",
    "    return out;\n",
    "}\n",
    "\n",
    "console.log(reverseString('foo'));         // => 'oof'\n",
    "console.log(reverseString('hello world')); // => 'dlrow olleh'\n",
    "console.log(reverseString('abcd'));        // => 'dcba'\n",
    "console.log(reverseString('12345'));       // => '54321'"
   ]
  },
  {
   "cell_type": "markdown",
   "metadata": {},
   "source": [
    "### Character substitution"
   ]
  },
  {
   "cell_type": "markdown",
   "metadata": {},
   "source": [
    "Mask portion of string through character substitution:"
   ]
  },
  {
   "cell_type": "code",
   "execution_count": 131,
   "metadata": {
    "collapsed": false
   },
   "outputs": [
    {
     "name": "stdout",
     "output_type": "stream",
     "text": [
      "########rous\n"
     ]
    },
    {
     "data": {
      "text/plain": [
       "undefined"
      ]
     },
     "execution_count": 131,
     "metadata": {},
     "output_type": "execute_result"
    }
   ],
   "source": [
    "// Leave `int` unmasked characters at end of string\n",
    "function maskString(str, mask, int) {\n",
    "    var strCopy = '';\n",
    "    for (var i = 0, len = str.length; i < len; i++) {\n",
    "        strCopy += (i < (len - int)) ? mask : str[i];\n",
    "    }\n",
    "    return strCopy;\n",
    "}\n",
    "\n",
    "console.log(maskString('foobarbarous', '#', 4)); // => '########rous'"
   ]
  },
  {
   "cell_type": "markdown",
   "metadata": {},
   "source": [
    "For each letter in a string (ignoring punctuation altogether), replace it with the lowercase letter following it in the alphabet (with \"a\" following \"z\") unless that letter is a vowel, in which case capitalize it."
   ]
  },
  {
   "cell_type": "markdown",
   "metadata": {},
   "source": [
    "Using array literals:"
   ]
  },
  {
   "cell_type": "code",
   "execution_count": 34,
   "metadata": {
    "collapsed": false
   },
   "outputs": [
    {
     "data": {
      "text/plain": [
       "'!!&*gppcbscbspvtA!!!'"
      ]
     },
     "execution_count": 34,
     "metadata": {},
     "output_type": "execute_result"
    }
   ],
   "source": [
    "function stringTransform(str) {\n",
    "    var alphabet  = 'abcdefghijklmnopqrstuvwxyz',\n",
    "        vowels    = 'aeiou',\n",
    "        strArray  = str.toLowerCase().split('');\n",
    "    \n",
    "    for (var i = 0, l = strArray.length; i < l; i++) {\n",
    "        if (alphabet.indexOf(strArray[i]) !== -1) {\n",
    "            var nextLetter = (strArray[i] === 'z')\n",
    "                ? 'a' // Special case: 'a' follows 'z'\n",
    "                : alphabet[alphabet.indexOf(strArray[i]) + 1];\n",
    "            if (vowels.indexOf(nextLetter) !== -1) {\n",
    "                nextLetter = nextLetter.toUpperCase();\n",
    "            }\n",
    "            strArray[i] = nextLetter;\n",
    "        }\n",
    "    }\n",
    "    return strArray.join('');\n",
    "}\n",
    "\n",
    "stringTransform('!!&*FooBarbarousZ!!!'); // => '!!&*gppcbscbspvtA!!!'"
   ]
  },
  {
   "cell_type": "markdown",
   "metadata": {},
   "source": [
    "Using the String prototype's `replace()` and `fromCharCode()` methods, passing a function as the replacement parameter, and the RegExp prototype's `test()` method to match vowels:"
   ]
  },
  {
   "cell_type": "code",
   "execution_count": 42,
   "metadata": {
    "collapsed": false
   },
   "outputs": [
    {
     "data": {
      "text/plain": [
       "'!!&*gppcbscbspvtA!!!'"
      ]
     },
     "execution_count": 42,
     "metadata": {},
     "output_type": "execute_result"
    }
   ],
   "source": [
    "function stringTransform(str) {\n",
    "    return str.toLowerCase().replace(/[a-z]/ig, function(char) {\n",
    "        var nextLetter = (char === 'z')\n",
    "            ? 'a' // Special case: 'a' follows 'z'\n",
    "            : String.fromCharCode(char.charCodeAt() + 1);\n",
    "        if (/[aeiou]/g.test(nextLetter)) {\n",
    "            nextLetter = nextLetter.toUpperCase();\n",
    "        }\n",
    "        return nextLetter;\n",
    "    });\n",
    "}\n",
    "\n",
    "stringTransform('!!&*FooBarbarousZ!!!'); // => '!!&*gppcbscbspvtA!!!'"
   ]
  },
  {
   "cell_type": "markdown",
   "metadata": {},
   "source": [
    "## Caesar cipher"
   ]
  },
  {
   "cell_type": "markdown",
   "metadata": {},
   "source": [
    "Simple example of encoding and decoding with a shift value of 5:"
   ]
  },
  {
   "cell_type": "code",
   "execution_count": 76,
   "metadata": {
    "collapsed": false
   },
   "outputs": [
    {
     "name": "stdout",
     "output_type": "stream",
     "text": [
      "N QTAJ HFJXFW XFQFI\n",
      "I HATE CAESAR SALAD\n"
     ]
    },
    {
     "data": {
      "text/plain": [
       "undefined"
      ]
     },
     "execution_count": 76,
     "metadata": {},
     "output_type": "execute_result"
    }
   ],
   "source": [
    "(function() {\n",
    "\n",
    "    var a   = 'ABCDEFGHIJKLMNOPQRSTUVWXYZ',\n",
    "        str = 'I love Caesar salad';\n",
    "\n",
    "    console.log(str.replace(/[a-z]/gi, function(s) {\n",
    "            return a[(a.indexOf(s.toUpperCase()) + 5) % 26];\n",
    "            })); // => N QTAJ HFJXFW XFQFI\n",
    "    \n",
    "    str = 'N MFYJ HFJXFW XFQFI';\n",
    "    \n",
    "    console.log(str.replace(/[a-z]/gi, function(s) {\n",
    "            return a[(a.indexOf(s.toUpperCase()) + 26 - 5) % 26];\n",
    "            })); // => I HATE CAESAR SALAD\n",
    "\n",
    "})();"
   ]
  },
  {
   "cell_type": "markdown",
   "metadata": {},
   "source": [
    "A more elaborate implementation:"
   ]
  },
  {
   "cell_type": "code",
   "execution_count": 66,
   "metadata": {
    "collapsed": false
   },
   "outputs": [
    {
     "name": "stdout",
     "output_type": "stream",
     "text": [
      "N QTAJ HFJXFW XFQFI\n",
      "I HATE CAESAR SALAD\n"
     ]
    },
    {
     "data": {
      "text/plain": [
       "undefined"
      ]
     },
     "execution_count": 66,
     "metadata": {},
     "output_type": "execute_result"
    }
   ],
   "source": [
    "/* Return a character at a shifted index position in an\n",
    "   ordered array of alphabetic characters */\n",
    "function charShift(alphArr, alphInd, mode, shift) {\n",
    "    var shiftUp   = alphInd + shift,\n",
    "        shiftDown = alphInd - shift,\n",
    "        limit     = 25,\n",
    "        offset    = 1;\n",
    "\n",
    "    // Encode (index 25 shifts up to index 0)\n",
    "    if (mode === 'encode') {\n",
    "        return (shiftUp > limit)\n",
    "            ? alphArr[shiftUp - limit - offset]\n",
    "            : alphArr[shiftUp];\n",
    "    }\n",
    "\n",
    "    // Decode (index 0 shifts down to index 25)\n",
    "    if (mode === 'decode') {\n",
    "        return (shiftDown < limit - limit)\n",
    "            ? alphArr[shiftDown + limit + offset]\n",
    "            : alphArr[shiftDown];\n",
    "    }\n",
    "};\n",
    "\n",
    "// Encode or decode a string\n",
    "function caesar(str, mode, shift) {\n",
    "    var alphArr = 'ABCDEFGHIJKLMNOPQRSTUVWXYZ'.split(''),\n",
    "        strArr = str.toUpperCase().split(''),\n",
    "        alphInd;\n",
    "    for (var elt in strArr) {\n",
    "        if (/[A-Z]/.test(strArr[elt])) {\n",
    "            alphInd     = alphArr.indexOf(strArr[elt]);\n",
    "            strArr[elt] = charShift(alphArr, alphInd, mode, shift);\n",
    "        }\n",
    "    }\n",
    "    return strArr.join('');\n",
    "}\n",
    "\n",
    "console.log(caesar('I love Caesar salad', 'encode', 5)); // => 'N QTAJ HFJXFW XFQFI'\n",
    "console.log(caesar('N MFYJ HFJXFW XFQFI', 'decode', 5)); // => 'I HATE CAESAR SALAD'"
   ]
  },
  {
   "cell_type": "markdown",
   "metadata": {},
   "source": [
    "# Arrays"
   ]
  },
  {
   "cell_type": "markdown",
   "metadata": {},
   "source": [
    "## Return minimum and maximum values in an array"
   ]
  },
  {
   "cell_type": "markdown",
   "metadata": {},
   "source": [
    "We can use `for..in`, since the index order of elements is unimportant and we don't need to measure the length of the array:"
   ]
  },
  {
   "cell_type": "code",
   "execution_count": 114,
   "metadata": {
    "collapsed": false
   },
   "outputs": [
    {
     "name": "stdout",
     "output_type": "stream",
     "text": [
      "[ 1, 1 ]\n",
      "[ 1, 1 ]\n",
      "[ 0, 2 ]\n",
      "[ 0, 2 ]\n",
      "[ 5, 2334454 ]\n"
     ]
    },
    {
     "data": {
      "text/plain": [
       "undefined"
      ]
     },
     "execution_count": 114,
     "metadata": {},
     "output_type": "execute_result"
    }
   ],
   "source": [
    "function getArrayMinMax(a) {\n",
    "    var min = a[0], max = a[0];\n",
    "    for (var elt in a) {\n",
    "        min = (a[elt] < min) ? a[elt] : min;\n",
    "        max = (a[elt] > max) ? a[elt] : max;\n",
    "    }\n",
    "    return [min, max];\n",
    "}\n",
    "\n",
    "console.log(getArrayMinMax([1])); // => [1, 1]\n",
    "console.log(getArrayMinMax([1, 1])); // => [1, 1]\n",
    "console.log(getArrayMinMax([0, 1, 2])); // => [0, 2]\n",
    "console.log(getArrayMinMax([2, 1, 0])); // => [0, 2]\n",
    "console.log(getArrayMinMax([2334454, 5])); // => [5, 2334454]"
   ]
  },
  {
   "cell_type": "markdown",
   "metadata": {},
   "source": [
    "Declarative rather than imperative style: using the Array prototype's `reduce()` method."
   ]
  },
  {
   "cell_type": "code",
   "execution_count": 108,
   "metadata": {
    "collapsed": false
   },
   "outputs": [
    {
     "name": "stdout",
     "output_type": "stream",
     "text": [
      "[ 1, 1 ]\n",
      "[ 1, 1 ]\n",
      "[ 0, 2 ]\n",
      "[ 0, 2 ]\n",
      "[ 5, 2334454 ]\n"
     ]
    },
    {
     "data": {
      "text/plain": [
       "undefined"
      ]
     },
     "execution_count": 108,
     "metadata": {},
     "output_type": "execute_result"
    }
   ],
   "source": [
    "function getArrayMinMax(a) {\n",
    "    var min = a.reduce(function(a, b) {\n",
    "        return (a <= b) ? a : b;\n",
    "    });\n",
    "    var max = a.reduce(function(a, b) {\n",
    "        return (a >= b) ? a : b;\n",
    "    });\n",
    "    return [min, max];\n",
    "}\n",
    "\n",
    "console.log(getArrayMinMax([1]));          // => [1, 1]\n",
    "console.log(getArrayMinMax([1, 1]));       // => [1, 1]\n",
    "console.log(getArrayMinMax([0, 1, 2]));    // => [0, 2]\n",
    "console.log(getArrayMinMax([2, 1, 0]));    // => [0, 2]\n",
    "console.log(getArrayMinMax([2334454, 5])); // => [5, 2334454]"
   ]
  },
  {
   "cell_type": "markdown",
   "metadata": {},
   "source": [
    "Declarative rather than imperative style: using the Array prototype's `sort()` method."
   ]
  },
  {
   "cell_type": "code",
   "execution_count": 115,
   "metadata": {
    "collapsed": false
   },
   "outputs": [
    {
     "name": "stdout",
     "output_type": "stream",
     "text": [
      "[ 1, 1 ]\n",
      "[ 1, 1 ]\n",
      "[ 0, 2 ]\n",
      "[ 0, 2 ]\n",
      "[ 5, 2334454 ]\n"
     ]
    },
    {
     "data": {
      "text/plain": [
       "undefined"
      ]
     },
     "execution_count": 115,
     "metadata": {},
     "output_type": "execute_result"
    }
   ],
   "source": [
    "function getArrayMinMax(a){\n",
    "    var min = a.sort(function(a,b) {return a - b;})[0];\n",
    "    var max = a.sort(function(a,b) {return b - a;})[0];\n",
    "    return [min, max];\n",
    "}\n",
    "\n",
    "console.log(getArrayMinMax([1]));          // => [1, 1]\n",
    "console.log(getArrayMinMax([1, 1]));       // => [1, 1]\n",
    "console.log(getArrayMinMax([0, 1, 2]));    // => [0, 2]\n",
    "console.log(getArrayMinMax([2, 1, 0]));    // => [0, 2]\n",
    "console.log(getArrayMinMax([2334454, 5])); // => [5, 2334454]"
   ]
  },
  {
   "cell_type": "markdown",
   "metadata": {},
   "source": [
    "Declarative rather than imperative style: using the native `Math` object and the `Function` prototype's `apply()` method."
   ]
  },
  {
   "cell_type": "code",
   "execution_count": 109,
   "metadata": {
    "collapsed": false
   },
   "outputs": [
    {
     "name": "stdout",
     "output_type": "stream",
     "text": [
      "[ 1, 1 ]\n",
      "[ 1, 1 ]\n",
      "[ 0, 2 ]\n",
      "[ 0, 2 ]\n",
      "[ 5, 2334454 ]\n"
     ]
    },
    {
     "data": {
      "text/plain": [
       "undefined"
      ]
     },
     "execution_count": 109,
     "metadata": {},
     "output_type": "execute_result"
    }
   ],
   "source": [
    "function getArrayMinMax(a){\n",
    "    return [Math.min.apply(Math, a), Math.max.apply(Math, a)];\n",
    "}\n",
    "\n",
    "console.log(getArrayMinMax([1]));          // => [1, 1]\n",
    "console.log(getArrayMinMax([1, 1]));       // => [1, 1]\n",
    "console.log(getArrayMinMax([0, 1, 2]));    // => [0, 2]\n",
    "console.log(getArrayMinMax([2, 1, 0]));    // => [0, 2]\n",
    "console.log(getArrayMinMax([2334454, 5])); // => [5, 2334454]"
   ]
  },
  {
   "cell_type": "markdown",
   "metadata": {},
   "source": [
    "## Determine if an array contains duplicate values"
   ]
  },
  {
   "cell_type": "code",
   "execution_count": 123,
   "metadata": {
    "collapsed": false
   },
   "outputs": [
    {
     "name": "stdout",
     "output_type": "stream",
     "text": [
      "false\n",
      "true\n",
      "false\n",
      "true\n"
     ]
    },
    {
     "data": {
      "text/plain": [
       "undefined"
      ]
     },
     "execution_count": 123,
     "metadata": {},
     "output_type": "execute_result"
    }
   ],
   "source": [
    "function arrayHasDupes(arr) {\n",
    "    var arrCopy = [];\n",
    "    for (var elt in arr) {\n",
    "        if (arrCopy.indexOf(arr[elt]) !== -1) return true;\n",
    "        arrCopy.push(arr[elt]);\n",
    "    }\n",
    "    return false;\n",
    "}\n",
    "\n",
    "console.log(arrayHasDupes([0, 1, 2, 3]));          // => false\n",
    "console.log(arrayHasDupes([0, 1, 1, 3]));          // => true\n",
    "console.log(arrayHasDupes(['foo', 'bar', 'baz'])); // => false\n",
    "console.log(arrayHasDupes(['foo', 'bar', 'foo'])); // => true"
   ]
  },
  {
   "cell_type": "markdown",
   "metadata": {},
   "source": [
    "## Return counts of unique items in an array"
   ]
  },
  {
   "cell_type": "code",
   "execution_count": 96,
   "metadata": {
    "collapsed": false
   },
   "outputs": [
    {
     "name": "stdout",
     "output_type": "stream",
     "text": [
      "{ foo: 3, bar: 1, baz: 1 }\n"
     ]
    },
    {
     "data": {
      "text/plain": [
       "undefined"
      ]
     },
     "execution_count": 96,
     "metadata": {},
     "output_type": "execute_result"
    }
   ],
   "source": [
    "function countArrayItems(a) {\n",
    "    var o = {};\n",
    "    for (var i = 0, l = a.length; i < l; i++) {\n",
    "        var aItem = a[i];\n",
    "        if (aItem in o) o[aItem] += 1;\n",
    "        else o[aItem] = 1;\n",
    "    }\n",
    "    return o;\n",
    "}\n",
    "\n",
    "// => { foo: 3, bar: 1, baz: 1 }\n",
    "console.log(countArrayItems(['foo', 'foo', 'bar', 'baz', 'foo']));"
   ]
  },
  {
   "cell_type": "markdown",
   "metadata": {},
   "source": [
    "Another way to do this would be using the Array prototype's `forEach()` method. Another, in declarative rather than imperative style, would be using the Array prototype's `reduce()` method."
   ]
  },
  {
   "cell_type": "markdown",
   "metadata": {},
   "source": [
    "## Sum values in an array"
   ]
  },
  {
   "cell_type": "code",
   "execution_count": 113,
   "metadata": {
    "collapsed": false
   },
   "outputs": [
    {
     "name": "stdout",
     "output_type": "stream",
     "text": [
      "10\n",
      "-2\n",
      "55\n"
     ]
    },
    {
     "data": {
      "text/plain": [
       "undefined"
      ]
     },
     "execution_count": 113,
     "metadata": {},
     "output_type": "execute_result"
    }
   ],
   "source": [
    "function sumArray(array) {\n",
    "  var total = 0;\n",
    "  for (i = 0; i < array.length; i += 1) {\n",
    "    total += array[i];\n",
    "  }\n",
    "  return total;\n",
    "}\n",
    "\n",
    "console.log(sumArray([ 0,  1, 2, 3, 4])); // => 10\n",
    "console.log(sumArray([-2, -1, 0, 1]));    // => -2\n",
    "console.log(sumArray(rangeEnum(1, 10)));  // => 55"
   ]
  },
  {
   "cell_type": "markdown",
   "metadata": {},
   "source": [
    "Given an array of numbers, find the largest or smallest pair sum in the array:"
   ]
  },
  {
   "cell_type": "code",
   "execution_count": 1,
   "metadata": {
    "collapsed": false
   },
   "outputs": [
    {
     "name": "stdout",
     "output_type": "stream",
     "text": [
      "42\n",
      "4\n"
     ]
    },
    {
     "data": {
      "text/plain": [
       "undefined"
      ]
     },
     "execution_count": 1,
     "metadata": {},
     "output_type": "execute_result"
    }
   ],
   "source": [
    "function pairSum(arr, size) {\n",
    "    var arrSorted = arr.sort(function(a, b) {\n",
    "        return (size === 'large') ? b - a : a - b;\n",
    "    });\n",
    "    return arrSorted[0] + arrSorted[1];\n",
    "}\n",
    "\n",
    "console.log(pairSum([10, 14, 2, 23, 19], 'large')); // => 42 (sum of 23, 19)\n",
    "console.log(pairSum([99, 2, 2, 23, 19], 'small'));  // => 4 (sum of 2, 2)"
   ]
  },
  {
   "cell_type": "markdown",
   "metadata": {},
   "source": [
    "## Filter an array"
   ]
  },
  {
   "cell_type": "code",
   "execution_count": 136,
   "metadata": {
    "collapsed": false
   },
   "outputs": [
    {
     "name": "stdout",
     "output_type": "stream",
     "text": [
      "[ 0, 2, 4 ]\n"
     ]
    },
    {
     "data": {
      "text/plain": [
       "undefined"
      ]
     },
     "execution_count": 136,
     "metadata": {},
     "output_type": "execute_result"
    }
   ],
   "source": [
    "function filterEven(arr) {\n",
    "    return arr.filter(function(currVal) {\n",
    "        return currVal % 2 === 0;\n",
    "    });\n",
    "}\n",
    "\n",
    "console.log(filterEven([0, 1, 2, 3, 4, 5])); // => [0, 2, 4]"
   ]
  },
  {
   "cell_type": "markdown",
   "metadata": {},
   "source": [
    "## Enumerate a range as an array"
   ]
  },
  {
   "cell_type": "code",
   "execution_count": 111,
   "metadata": {
    "collapsed": false
   },
   "outputs": [
    {
     "name": "stdout",
     "output_type": "stream",
     "text": [
      "[ 0, 1, 2, 3 ]\n",
      "[ 3, 4, 5, 6 ]\n",
      "[ -2, -1, 0, 1, 2, 3, 4 ]\n",
      "[ -7, -6, -5, -4, -3, -2 ]\n"
     ]
    },
    {
     "data": {
      "text/plain": [
       "undefined"
      ]
     },
     "execution_count": 111,
     "metadata": {},
     "output_type": "execute_result"
    }
   ],
   "source": [
    "function rangeEnum(start, end) {\n",
    "  var rangeArray = [];\n",
    "  for (var i = 0; i <= (end - start); i += 1) {\n",
    "    rangeArray[i] = (start + i);\n",
    "  }\n",
    "  return rangeArray;\n",
    "}\n",
    "\n",
    "console.log(range( 0,  3)); // => [0, 1, 2, 3]\n",
    "console.log(range( 3,  6)); // => [ 3, 4, 5, 6 ]\n",
    "console.log(range(-2,  4)); // => [ -2, -1, 0, 1, 2, 3, 4 ]\n",
    "console.log(range(-7, -2)); // => [ -7, -6, -5, -4, -3, -2 ]"
   ]
  },
  {
   "cell_type": "markdown",
   "metadata": {},
   "source": [
    "With step as optional third parameter:"
   ]
  },
  {
   "cell_type": "code",
   "execution_count": 112,
   "metadata": {
    "collapsed": false
   },
   "outputs": [
    {
     "name": "stdout",
     "output_type": "stream",
     "text": [
      "[ 0, 2, 4, 6 ]\n",
      "[ 1, 3, 5, 7, 9 ]\n",
      "[ 5, 4, 3, 2 ]\n",
      "[ 0, 1, 2, 3 ]\n"
     ]
    },
    {
     "data": {
      "text/plain": [
       "undefined"
      ]
     },
     "execution_count": 112,
     "metadata": {},
     "output_type": "execute_result"
    }
   ],
   "source": [
    "function rangeArrayStep(start, end, step) {\n",
    "  step = step || 1; // If `step` is not defined, set it to 1\n",
    "  var rangeArray = [];\n",
    "  rangeArray[0]  = start; // Set first element in array\n",
    "  for (var i = 1; i <= ((end - start) / step); i += 1) {\n",
    "    rangeArray[i] = (start + (step * i));\n",
    "  }\n",
    "  return rangeArray;\n",
    "}\n",
    "\n",
    "console.log(rangeArrayStep(0,  6,  2)); // => [0, 2, 4, 6]\n",
    "console.log(rangeArrayStep(1, 10,  2)); // => [1, 3, 5, 7, 9]\n",
    "console.log(rangeArrayStep(5,  2, -1)); // => [5, 4, 3, 2]\n",
    "\n",
    "// What if third parameter is omitted?\n",
    "console.log(rangeArrayStep(0, 3)); // => [0, 1, 2, 3]"
   ]
  },
  {
   "cell_type": "markdown",
   "metadata": {},
   "source": [
    "## Convert a string to an array"
   ]
  },
  {
   "cell_type": "markdown",
   "metadata": {},
   "source": [
    "Retaining character order:"
   ]
  },
  {
   "cell_type": "code",
   "execution_count": 134,
   "metadata": {
    "collapsed": false
   },
   "outputs": [
    {
     "name": "stdout",
     "output_type": "stream",
     "text": [
      "[ '1' ]\n",
      "[ '1', '2', '3', '4', '5' ]\n",
      "[ 'f', 'o', 'o' ]\n"
     ]
    },
    {
     "data": {
      "text/plain": [
       "undefined"
      ]
     },
     "execution_count": 134,
     "metadata": {},
     "output_type": "execute_result"
    }
   ],
   "source": [
    "function arrFromStr(str) {\n",
    "    var arr = [];\n",
    "    for (var i = 0, len = str.length; i < len; i++) {\n",
    "        arr.push(str[i]);\n",
    "    }\n",
    "    return arr;\n",
    "}\n",
    "\n",
    "console.log(arrFromStr('1'));     // => ['1']\n",
    "console.log(arrFromStr('12345')); // => ['1', '2', '3', '4', '5']\n",
    "console.log(arrFromStr('foo'));   // => ['f', 'o', 'o']"
   ]
  },
  {
   "cell_type": "markdown",
   "metadata": {},
   "source": [
    "## Convert an integer to an array"
   ]
  },
  {
   "cell_type": "markdown",
   "metadata": {},
   "source": [
    "Retaining digit order:"
   ]
  },
  {
   "cell_type": "code",
   "execution_count": 135,
   "metadata": {
    "collapsed": false
   },
   "outputs": [
    {
     "name": "stdout",
     "output_type": "stream",
     "text": [
      "[ 1, 2, 3, 4, 5 ]\n"
     ]
    },
    {
     "data": {
      "text/plain": [
       "undefined"
      ]
     },
     "execution_count": 135,
     "metadata": {},
     "output_type": "execute_result"
    }
   ],
   "source": [
    "function intToArr(int) {\n",
    "  return int.toString().split('').map(Number);\n",
    "}\n",
    "\n",
    "console.log(intToArr(12345)); // => [1, 2, 3, 4, 5]"
   ]
  },
  {
   "cell_type": "markdown",
   "metadata": {},
   "source": [
    "## Score values in an array"
   ]
  },
  {
   "cell_type": "code",
   "execution_count": 137,
   "metadata": {
    "collapsed": false
   },
   "outputs": [
    {
     "name": "stdout",
     "output_type": "stream",
     "text": [
      "0\n",
      "0\n",
      "15\n",
      "140\n"
     ]
    },
    {
     "data": {
      "text/plain": [
       "undefined"
      ]
     },
     "execution_count": 137,
     "metadata": {},
     "output_type": "execute_result"
    }
   ],
   "source": [
    "function scoreThrows(radiuses){\n",
    "    var score = 0, count = 0;\n",
    "    if (radiuses.length === 0) return score;\n",
    "    for (var r in radiuses) {\n",
    "        if (radiuses[r] > 10) score += 0;\n",
    "        if (radiuses[r] >= 5 && radiuses[r] <= 10) score += 5;\n",
    "        if (radiuses[r] < 5) {\n",
    "            score += 10;\n",
    "            count += 1;\n",
    "            if (count === radiuses.length) score += 100;\n",
    "        }\n",
    "    }\n",
    "    return score;\n",
    "}\n",
    "\n",
    "console.log(scoreThrows([]));           // => 0\n",
    "console.log(scoreThrows([15, 20, 30])); // => 0\n",
    "console.log(scoreThrows([1, 5, 11]));   // => 15\n",
    "console.log(scoreThrows([1, 2, 3, 4])); // => 140"
   ]
  },
  {
   "cell_type": "markdown",
   "metadata": {},
   "source": [
    "## Extract and format object properties from an array"
   ]
  },
  {
   "cell_type": "code",
   "execution_count": 152,
   "metadata": {
    "collapsed": false
   },
   "outputs": [
    {
     "name": "stdout",
     "output_type": "stream",
     "text": [
      "Starsky & Hutch\n",
      "Browne, Witter & Kenyon\n"
     ]
    },
    {
     "data": {
      "text/plain": [
       "undefined"
      ]
     },
     "execution_count": 152,
     "metadata": {},
     "output_type": "execute_result"
    }
   ],
   "source": [
    "function listNames(arr) {\n",
    "    if (arr.length === 0) return '';\n",
    "    var str = arr[0].name;\n",
    "    for (var i = 1, len = arr.length; i < len; i++) {\n",
    "        str += (i !== len - 1)\n",
    "            ? ', ' + arr[i].name\n",
    "            : ' & ' + arr[len - 1].name;\n",
    "    }\n",
    "    return str;\n",
    "}\n",
    "\n",
    "// 'Starsky & Hutch'\n",
    "console.log(listNames([{name: 'Starsky'}, {name: 'Hutch'}]));\n",
    "\n",
    "// 'Brown, Witter & Kenyon'\n",
    "console.log(listNames([{name: 'Browne'}, {name: 'Witter'}, {name: 'Kenyon'}]));"
   ]
  },
  {
   "cell_type": "markdown",
   "metadata": {},
   "source": [
    "## Add a value to the end of an array"
   ]
  },
  {
   "cell_type": "markdown",
   "metadata": {},
   "source": [
    "Written without using the Array prototype's `push()` method:"
   ]
  },
  {
   "cell_type": "code",
   "execution_count": 64,
   "metadata": {
    "collapsed": false
   },
   "outputs": [
    {
     "name": "stdout",
     "output_type": "stream",
     "text": [
      "[ 1 ]\n",
      "[ 1, 2, 3 ]\n",
      "[ 'Hello' ]\n",
      "[ 'Hello', 'How are you?', 'Goodbye' ]\n"
     ]
    },
    {
     "data": {
      "text/plain": [
       "undefined"
      ]
     },
     "execution_count": 64,
     "metadata": {},
     "output_type": "execute_result"
    }
   ],
   "source": [
    "function addVal(arr, val) {\n",
    "    var len = arr.length;\n",
    "    if (!len) arr[0] = val;\n",
    "    else arr[len] = val;\n",
    "    return arr;\n",
    "}\n",
    "\n",
    "var list = [];\n",
    "console.log(addVal(list, 1)); // => [1]\n",
    "console.log(addVal(addVal(list, 2), 3)); // => [1, 2, 3]\n",
    "\n",
    "list = [];\n",
    "console.log(addVal(list, 'Hello')); // => ['Hello']\n",
    "\n",
    "// => ['Hello', 'How are you?' 'Goodbye']\n",
    "console.log(addVal(addVal(list, 'How are you?'), 'Goodbye'));"
   ]
  },
  {
   "cell_type": "markdown",
   "metadata": {},
   "source": [
    "## Reverse an array"
   ]
  },
  {
   "cell_type": "markdown",
   "metadata": {},
   "source": [
    "**Returning a new array**"
   ]
  },
  {
   "cell_type": "code",
   "execution_count": 64,
   "metadata": {
    "collapsed": false
   },
   "outputs": [
    {
     "name": "stdout",
     "output_type": "stream",
     "text": [
      "[ 2, 1, 0 ]\n",
      "[ 3, 2, 1, 0, -1 ]\n"
     ]
    },
    {
     "data": {
      "text/plain": [
       "undefined"
      ]
     },
     "execution_count": 64,
     "metadata": {},
     "output_type": "execute_result"
    }
   ],
   "source": [
    "function reverseArray(array) {\n",
    "  var reversed = [];\n",
    "  for (var i = 0; i < array.length; i += 1) {\n",
    "    reversed[i] = array[(array.length - 1) - i];\n",
    "  }\n",
    "  return reversed;\n",
    "}\n",
    "\n",
    "console.log(reverseArray([0, 1, 2]));        // => [2, 1, 0]\n",
    "console.log(reverseArray([-1, 0, 1, 2, 3])); // => [3, 2, 1, 0, -1]"
   ]
  },
  {
   "cell_type": "markdown",
   "metadata": {},
   "source": [
    "**Reversing in place**. If we try to use the approach used in `reverseArray()` here as well, then because we are modifying in place, the zero-index element of the array passed to `reverseArrayInPlace()` will be replaced before it can be transposed. A different approach is necessary, where we don't actually completely reverse the array as much as transpose elements around its middle index position:"
   ]
  },
  {
   "cell_type": "code",
   "execution_count": 65,
   "metadata": {
    "collapsed": false
   },
   "outputs": [
    {
     "name": "stdout",
     "output_type": "stream",
     "text": [
      "[ 2, 1, 0 ]\n",
      "[ 3, 2, 1, 0, -1 ]\n"
     ]
    },
    {
     "data": {
      "text/plain": [
       "undefined"
      ]
     },
     "execution_count": 65,
     "metadata": {},
     "output_type": "execute_result"
    }
   ],
   "source": [
    "function reverseArrayInPlace(array) {\n",
    "  for (var i = 0; i < Math.floor(array.length / 2); i += 1) {\n",
    "    var holdItem = array[i];\n",
    "    array[i] = array[(array.length - 1) - i];\n",
    "    array[(array.length - 1) - i] = holdItem;\n",
    "  }\n",
    "  return array;\n",
    "}\n",
    "\n",
    "console.log(reverseArrayInPlace([0, 1, 2]));        // => [2, 1, 0]\n",
    "console.log(reverseArrayInPlace([-1, 0, 1, 2, 3])); // => [3, 2, 1, 0, -1]"
   ]
  },
  {
   "cell_type": "markdown",
   "metadata": {},
   "source": [
    "## Flatten arrays"
   ]
  },
  {
   "cell_type": "markdown",
   "metadata": {},
   "source": [
    "Use the Array prototype methods `reduce()` and `concat` to flatten an array of arrays. `reduce()` takes a callback function as argument, plus an optional argument `initialValue`. That callback function itself takes four arguments: `previousValue`, `currentValue`, `index`, and `array`. If `initialValue` is not provided as argument to `reduce()`, then the callback function's argument `previousValue` is automatically set to the first value in the input array and `currentValue` is set to the second element in the input array. So, all we have to do here is call the built-in array method `reduce()` on the input array, giving it as argument a callback function with its first two expected arguments. Inside that callback function, the built-in `concat()` array method is called to concatenate each array in the input array with the next array in the input array, thus \"flattening\" the array of arrays into a single array."
   ]
  },
  {
   "cell_type": "code",
   "execution_count": 68,
   "metadata": {
    "collapsed": false
   },
   "outputs": [
    {
     "name": "stdout",
     "output_type": "stream",
     "text": [
      "[ 0, 1, 2, 3, 4, 5 ]\n",
      "[ 'This', 'is', 'an', 'array', 'of', 'arrays' ]\n"
     ]
    },
    {
     "data": {
      "text/plain": [
       "undefined"
      ]
     },
     "execution_count": 68,
     "metadata": {},
     "output_type": "execute_result"
    }
   ],
   "source": [
    "function flattenArrays(array) {\n",
    "  return array.reduce(function(flattened, current) {\n",
    "    return flattened.concat(current);\n",
    "  } );\n",
    "}\n",
    "\n",
    "// => [ 0, 1, 2, 3, 4, 5]\n",
    "console.log(flattenArrays([[0, 1, 2], [3, 4 ,5]]));\n",
    "\n",
    "// => [ ‘This’, ‘is’, ‘an’, ‘array’, ‘of’, ‘arrays’ ]\n",
    "console.log(flattenArrays([\n",
    "    [\"This\", \"is\", \"an\"], \n",
    "    [\"array\", \"of\", \"arrays\"]\n",
    "]));"
   ]
  },
  {
   "cell_type": "markdown",
   "metadata": {},
   "source": [
    "Capitalize string elements in an array:"
   ]
  },
  {
   "cell_type": "code",
   "execution_count": 129,
   "metadata": {
    "collapsed": false
   },
   "outputs": [
    {
     "name": "stdout",
     "output_type": "stream",
     "text": [
      "[ 'Foo', 'Bar', 'Baz' ]\n",
      "[ 'Foo', 'Bar', 'Baz' ]\n"
     ]
    },
    {
     "data": {
      "text/plain": [
       "undefined"
      ]
     },
     "execution_count": 129,
     "metadata": {},
     "output_type": "execute_result"
    }
   ],
   "source": [
    "function capStrElements(arr) {\n",
    "    return arr.map(function(currVal) {\n",
    "        return currVal.charAt(0).toUpperCase() +\n",
    "               currVal.substring(1).toLowerCase();\n",
    "    });\n",
    "}\n",
    "\n",
    "console.log(capStrElements(['foo', 'bar', 'baz'])); // => ['Foo', 'Bar', 'Baz']\n",
    "console.log(capStrElements(['FOO', 'BAR', 'BAZ'])); // => ['Foo', 'Bar', 'Baz']"
   ]
  },
  {
   "cell_type": "markdown",
   "metadata": {},
   "source": [
    "# Objects"
   ]
  },
  {
   "cell_type": "markdown",
   "metadata": {},
   "source": [
    "## Compare objects"
   ]
  },
  {
   "cell_type": "markdown",
   "metadata": {},
   "source": [
    "If the parameters passed to `deepCompare()` are objects (but *not* `null`, which the `typeof()` method idiosyncratically tells us is an object), then for each property in `o1` object, use the `in` operator to test for the identical property in `o2`. If it's not there, we're done; if it's there, but a comparison of the values of these two identical properties (a comparison made using a recursive call of `deepCompare()` itself) returns `false`, then we're done. Return `true` only if the two objects share identical  properties with identical values in each case. And if the parameters passed to `deepCompare()` are not objects but values (for example, in the recursive function call), then simply use the `===` operator to test for strict equality (equal value and equal type)."
   ]
  },
  {
   "cell_type": "code",
   "execution_count": 9,
   "metadata": {
    "collapsed": false
   },
   "outputs": [
    {
     "name": "stdout",
     "output_type": "stream",
     "text": [
      "true\n",
      "true\n",
      "false\n",
      "false\n"
     ]
    },
    {
     "data": {
      "text/plain": [
       "undefined"
      ]
     },
     "execution_count": 9,
     "metadata": {},
     "output_type": "execute_result"
    }
   ],
   "source": [
    "function deepCompare(o1, o2) {\n",
    "    if (typeof(o1) == 'object' && typeof(o2) == 'object' \n",
    "        && o1 !== null && o2 !== null) {\n",
    "        for (var prop in o1) {\n",
    "            return (!(prop in o2) ||\n",
    "                    !(deepCompare(o1[prop], o2[prop])))\n",
    "                    ? false : true;\n",
    "        }\n",
    "    }\n",
    "    return (o1 === o2) ? true : false;\n",
    "}\n",
    "\n",
    "console.log(deepCompare({p: 2}, {p: 2}));           // => true\n",
    "console.log(deepCompare({p: 'foo'}, {p: 'foo'}));   // => true\n",
    "console.log(deepCompare({p: 2}, {p: 'foo'}));       // => false\n",
    "console.log(deepCompare({p: 'foo'}, {p: 'bar'}));   // => false"
   ]
  }
 ],
 "metadata": {
  "kernelspec": {
   "display_name": "Javascript (Node.js)",
   "language": "javascript",
   "name": "javascript"
  },
  "language_info": {
   "file_extension": "js",
   "mimetype": "application/javascript",
   "name": "javascript",
   "version": "0.12.6"
  }
 },
 "nbformat": 4,
 "nbformat_minor": 0
}
