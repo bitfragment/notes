{
 "cells": [
  {
   "cell_type": "markdown",
   "metadata": {},
   "source": [
    "Sources: Haverbeke, *Eloquent JavaScript*; ProjectEuler.net; Codewars.com; Coderbyte.com; Leetcode.com"
   ]
  },
  {
   "cell_type": "markdown",
   "metadata": {},
   "source": [
    "# Numeric values"
   ]
  },
  {
   "cell_type": "markdown",
   "metadata": {},
   "source": [
    "## Return the minimum of two values"
   ]
  },
  {
   "cell_type": "code",
   "execution_count": 74,
   "metadata": {
    "collapsed": false
   },
   "outputs": [
    {
     "name": "stdout",
     "output_type": "stream",
     "text": [
      "0 and 1:  min value is 0\n",
      "1 and 1:  values are equal\n",
      "2 and 1:  min value is 1\n"
     ]
    },
    {
     "data": {
      "text/plain": [
       "undefined"
      ]
     },
     "execution_count": 74,
     "metadata": {},
     "output_type": "execute_result"
    }
   ],
   "source": [
    "function getMin(a, b) {\n",
    "    var prepend = a + ' and ' + b + ':  ';\n",
    "    if (a === b) return prepend + 'values are equal';\n",
    "    var min = (a < b) ? a : b;\n",
    "    return prepend + 'min value is ' + min;\n",
    "}\n",
    "\n",
    "console.log(getMin(0, 1)); // => \"0 and 1: min value is 0\"\n",
    "console.log(getMin(1, 1)); // => \"1 and 1: values are equal\"\n",
    "console.log(getMin(2, 1)); // => \"2 and 1: min value is 1\""
   ]
  },
  {
   "cell_type": "markdown",
   "metadata": {},
   "source": [
    "## Test for even values"
   ]
  },
  {
   "cell_type": "markdown",
   "metadata": {},
   "source": [
    "Using recursion, return true if a value is even, counting zero as even:"
   ]
  },
  {
   "cell_type": "code",
   "execution_count": 53,
   "metadata": {
    "collapsed": false
   },
   "outputs": [
    {
     "name": "stdout",
     "output_type": "stream",
     "text": [
      "true\n",
      "false\n",
      "false\n"
     ]
    },
    {
     "data": {
      "text/plain": [
       "undefined"
      ]
     },
     "execution_count": 53,
     "metadata": {},
     "output_type": "execute_result"
    }
   ],
   "source": [
    "function isEven(number) {\n",
    "    if (number === 0) return true;\n",
    "    else if (number === 1) return false;\n",
    "    else if (number < 0) return isEven(-number);    \n",
    "    else return isEven(number -2);\n",
    "}\n",
    "\n",
    "console.log(isEven(50)); // => true\n",
    "console.log(isEven(75)); // => false\n",
    "console.log(isEven(-1)); // => false"
   ]
  },
  {
   "cell_type": "markdown",
   "metadata": {},
   "source": [
    "## Get factorial"
   ]
  },
  {
   "cell_type": "code",
   "execution_count": 99,
   "metadata": {
    "collapsed": false
   },
   "outputs": [
    {
     "name": "stdout",
     "output_type": "stream",
     "text": [
      "1\n",
      "1\n",
      "120\n",
      "3628800\n"
     ]
    },
    {
     "data": {
      "text/plain": [
       "undefined"
      ]
     },
     "execution_count": 99,
     "metadata": {},
     "output_type": "execute_result"
    }
   ],
   "source": [
    "function getFactorial(int) {\n",
    "    if (int === 0) return 1; // Handle empty product\n",
    "    var p = int;\n",
    "    while (int > 1) {\n",
    "        p *= (int - 1);\n",
    "        int -= 1;\n",
    "    }\n",
    "    return p;\n",
    "}\n",
    "\n",
    "console.log(getFactorial(0));  // => 1\n",
    "console.log(getFactorial(1));  // => 1\n",
    "console.log(getFactorial(5));  // => 120\n",
    "console.log(getFactorial(10)); // => 3628800"
   ]
  },
  {
   "cell_type": "markdown",
   "metadata": {},
   "source": [
    "Using recursion:"
   ]
  },
  {
   "cell_type": "code",
   "execution_count": 102,
   "metadata": {
    "collapsed": false
   },
   "outputs": [
    {
     "name": "stdout",
     "output_type": "stream",
     "text": [
      "1\n",
      "1\n",
      "120\n",
      "3628800\n"
     ]
    },
    {
     "data": {
      "text/plain": [
       "undefined"
      ]
     },
     "execution_count": 102,
     "metadata": {},
     "output_type": "execute_result"
    }
   ],
   "source": [
    "function getFactorial(int) {\n",
    "    if (int === 0) return 1; // Handle empty product\n",
    "    return int * getFactorial(int - 1);\n",
    "}\n",
    "\n",
    "console.log(getFactorial(0));  // => 1\n",
    "console.log(getFactorial(1));  // => 1\n",
    "console.log(getFactorial(5));  // => 120\n",
    "console.log(getFactorial(10)); // => 3628800"
   ]
  },
  {
   "cell_type": "markdown",
   "metadata": {},
   "source": [
    "## Determine if a number is a power of 2"
   ]
  },
  {
   "cell_type": "markdown",
   "metadata": {},
   "source": [
    "Using decimal: while the integer is even and greater than 1, divide by 2. If the final quotient is 1, the integer is a power of two. Refs: [1](http://www.exploringbinary.com/how-to-check-if-a-number-is-a-power-of-two/), [2](http://www.exploringbinary.com/ten-ways-to-check-if-an-integer-is-a-power-of-two-in-c/)"
   ]
  },
  {
   "cell_type": "code",
   "execution_count": 105,
   "metadata": {
    "collapsed": false
   },
   "outputs": [
    {
     "name": "stdout",
     "output_type": "stream",
     "text": [
      "false\n",
      "true\n",
      "true\n",
      "false\n",
      "true\n",
      "false\n",
      "true\n"
     ]
    },
    {
     "data": {
      "text/plain": [
       "undefined"
      ]
     },
     "execution_count": 105,
     "metadata": {},
     "output_type": "execute_result"
    }
   ],
   "source": [
    "function isPowerOfTwo(int) {\n",
    "    while (int % 2 === 0 && int > 1) {\n",
    "        int = int / 2;\n",
    "    }\n",
    "    return (int === 1);\n",
    "}\n",
    "\n",
    "console.log(isPowerOfTwo(0));   // => false\n",
    "console.log(isPowerOfTwo(1));   // => true\n",
    "console.log(isPowerOfTwo(2));   // => true\n",
    "console.log(isPowerOfTwo(3));   // => false\n",
    "console.log(isPowerOfTwo(4));   // => true\n",
    "console.log(isPowerOfTwo(24));  // => false\n",
    "console.log(isPowerOfTwo(32));  // => true"
   ]
  },
  {
   "cell_type": "markdown",
   "metadata": {},
   "source": [
    "Using bitwise AND. Refs: [1](https://en.wikipedia.org/wiki/Power_of_two#Fast_algorithm_to_check_if_a_positive_number_is_a_power_of_two), [2](http://www.exploringbinary.com/ten-ways-to-check-if-an-integer-is-a-power-of-two-in-c/), [3](http://stackoverflow.com/questions/600293/how-to-check-if-a-number-is-a-power-of-2)"
   ]
  },
  {
   "cell_type": "code",
   "execution_count": 106,
   "metadata": {
    "collapsed": false
   },
   "outputs": [
    {
     "name": "stdout",
     "output_type": "stream",
     "text": [
      "false\n",
      "true\n",
      "true\n",
      "false\n",
      "true\n",
      "false\n",
      "true\n"
     ]
    },
    {
     "data": {
      "text/plain": [
       "undefined"
      ]
     },
     "execution_count": 106,
     "metadata": {},
     "output_type": "execute_result"
    }
   ],
   "source": [
    "function isPowerOfTwo(int)  {\n",
    "    return (int != 0) && ((int & (int - 1)) == 0);\n",
    "}\n",
    "\n",
    "console.log(isPowerOfTwo(0));   // => false\n",
    "console.log(isPowerOfTwo(1));   // => true\n",
    "console.log(isPowerOfTwo(2));   // => true\n",
    "console.log(isPowerOfTwo(3));   // => false\n",
    "console.log(isPowerOfTwo(4));   // => true\n",
    "console.log(isPowerOfTwo(24));  // => false\n",
    "console.log(isPowerOfTwo(32));  // => true"
   ]
  },
  {
   "cell_type": "markdown",
   "metadata": {},
   "source": [
    "## Sum a range"
   ]
  },
  {
   "cell_type": "markdown",
   "metadata": {},
   "source": [
    "Find the sum of all the natural numbers below `max` that are multiples of any number in the array `tulps`. Since `tulps` is an array, we have to be careful **not** to add multiple times any number that is a multiple of **all** the values in `tulps`."
   ]
  },
  {
   "cell_type": "code",
   "execution_count": 110,
   "metadata": {
    "collapsed": false
   },
   "outputs": [
    {
     "data": {
      "text/plain": [
       "233168"
      ]
     },
     "execution_count": 110,
     "metadata": {},
     "output_type": "execute_result"
    }
   ],
   "source": [
    "function sumMultiplesRange(max, tulps) {\n",
    "    var sum = 0;\n",
    "    max -= 1; // Don't include max value itself\n",
    "    while (max > 0) {\n",
    "        for (var i = 0, l = tulps.length; i < l; i++) {\n",
    "            if (max % tulps[i] === 0) {                \n",
    "                sum += max;\n",
    "                break; // Don't increment `sum` by any matching value more than once!\n",
    "            }\n",
    "        }\n",
    "        max--;\n",
    "    }\n",
    "    return sum;\n",
    "}\n",
    "\n",
    "sumMultiplesRange(1000, [3, 5]); // => 233168"
   ]
  },
  {
   "cell_type": "markdown",
   "metadata": {},
   "source": [
    "Find the sum of the even-valued terms in the Fibonacci sequence whose values do not exceed four million:"
   ]
  },
  {
   "cell_type": "code",
   "execution_count": 98,
   "metadata": {
    "collapsed": false
   },
   "outputs": [
    {
     "name": "stdout",
     "output_type": "stream",
     "text": [
      "4613732\n"
     ]
    },
    {
     "data": {
      "text/plain": [
       "undefined"
      ]
     },
     "execution_count": 98,
     "metadata": {},
     "output_type": "execute_result"
    }
   ],
   "source": [
    "function sumEvenFibs(max) {\n",
    "    var a = [0, 1], al, nextNum = null, sum = 0;\n",
    "    while (nextNum < max) {\n",
    "        al = a.length;\n",
    "        nextNum = a[al - 1] + a[al - 2];\n",
    "        if (nextNum < max) {\n",
    "            a.push(nextNum);\n",
    "            if (nextNum % 2 === 0) sum += nextNum;\n",
    "        }\n",
    "    }\n",
    "    return sum;\n",
    "}\n",
    "\n",
    "console.log(sumEvenFibs(4000000)); // => 4613732"
   ]
  },
  {
   "cell_type": "markdown",
   "metadata": {},
   "source": [
    "# Strings"
   ]
  },
  {
   "cell_type": "markdown",
   "metadata": {},
   "source": [
    "## Count occurrences of a character in a string"
   ]
  },
  {
   "cell_type": "code",
   "execution_count": 55,
   "metadata": {
    "collapsed": false
   },
   "outputs": [
    {
     "name": "stdout",
     "output_type": "stream",
     "text": [
      "1\n",
      "0\n",
      "1\n",
      "3\n"
     ]
    },
    {
     "data": {
      "text/plain": [
       "undefined"
      ]
     },
     "execution_count": 55,
     "metadata": {},
     "output_type": "execute_result"
    }
   ],
   "source": [
    "function countChar(string, char) {\n",
    "  var counter = 0;\n",
    "  for (var i = 0; i < string.length; i +=1) {\n",
    "    if (string[i] == char) counter += 1;\n",
    "  }\n",
    "  return counter;\n",
    "}\n",
    "\n",
    "console.log(countChar(\"foo\", \"f\"));          // => 1\n",
    "console.log(countChar(\"bar\", \"f\"));          // => 0\n",
    "console.log(countChar(\"fooBar\", \"B\"));       // => 1\n",
    "console.log(countChar(\"fooBarBarous\", \"o\")); // => 3"
   ]
  },
  {
   "cell_type": "markdown",
   "metadata": {},
   "source": [
    "## Determine if a string is a palindrome"
   ]
  },
  {
   "cell_type": "markdown",
   "metadata": {},
   "source": [
    "Handling positive integers as well:"
   ]
  },
  {
   "cell_type": "code",
   "execution_count": 95,
   "metadata": {
    "collapsed": false
   },
   "outputs": [
    {
     "name": "stdout",
     "output_type": "stream",
     "text": [
      "false\n",
      "true\n",
      "false\n",
      "true\n",
      "true\n"
     ]
    },
    {
     "data": {
      "text/plain": [
       "undefined"
      ]
     },
     "execution_count": 95,
     "metadata": {},
     "output_type": "execute_result"
    }
   ],
   "source": [
    "function isPalindrome(val) {\n",
    "    var str = (typeof val == 'number') ? val.toString() : val;\n",
    "    for (var i = 0, sl = str.length, l = sl / 2; i < l; i++) {\n",
    "        if (str[i] !== str[sl - i - 1]) return false;\n",
    "    }\n",
    "    return true;\n",
    "}\n",
    "\n",
    "console.log(isPalindrome('foobar'));  // => false\n",
    "console.log(isPalindrome('fooboof')); // => true\n",
    "console.log(isPalindrome(1234567));   // => false\n",
    "console.log(isPalindrome(1234321));   // => true\n",
    "console.log(isPalindrome(12344321));  // => true"
   ]
  },
  {
   "cell_type": "markdown",
   "metadata": {},
   "source": [
    "## Return the longest word in a string"
   ]
  },
  {
   "cell_type": "markdown",
   "metadata": {},
   "source": [
    "Ignore punctuation, and if two words are of equal length, return the word that comes first in the array:"
   ]
  },
  {
   "cell_type": "markdown",
   "metadata": {},
   "source": [
    "Using the String prototype's `split()` method with a regexp `\\b\\W*\\b` matching 0 or more of anything but letters, digits and underscores (`\\W` is equivalent to `[^A-Za-z0-9_]`) between the end of one word boundary (`\\b`) and the next."
   ]
  },
  {
   "cell_type": "code",
   "execution_count": 19,
   "metadata": {
    "collapsed": false
   },
   "outputs": [
    {
     "data": {
      "text/plain": [
       "'foobarbarous'"
      ]
     },
     "execution_count": 19,
     "metadata": {},
     "output_type": "execute_result"
    }
   ],
   "source": [
    "function longestWord(s) {\n",
    "    var longest   = '',\n",
    "        wordArray = s.split(/\\b\\W*\\b/);\n",
    "    \n",
    "    for (var i = 0, l = wordArray.length; i < l; i++) {\n",
    "        if (wordArray[i].length > longest.length) {\n",
    "            longest = wordArray[i];\n",
    "        }\n",
    "    }\n",
    "    return longest;\n",
    "}\n",
    "\n",
    "longestWord('foo bar foobarbarous!**!*! foobarbarosa&&*'); // => 'foobarbarous'"
   ]
  },
  {
   "cell_type": "markdown",
   "metadata": {},
   "source": [
    "## String transformations"
   ]
  },
  {
   "cell_type": "markdown",
   "metadata": {},
   "source": [
    "### Reverse a string"
   ]
  },
  {
   "cell_type": "markdown",
   "metadata": {},
   "source": [
    "See: http://eddmann.com/posts/ten-ways-to-reverse-a-string-in-javascript/"
   ]
  },
  {
   "cell_type": "markdown",
   "metadata": {},
   "source": [
    "Using the String prototype's `split()` method with the Array prototype's `reverse()` and `join()` methods:"
   ]
  },
  {
   "cell_type": "code",
   "execution_count": 71,
   "metadata": {
    "collapsed": false
   },
   "outputs": [
    {
     "data": {
      "text/plain": [
       "'edcba'"
      ]
     },
     "execution_count": 71,
     "metadata": {},
     "output_type": "execute_result"
    }
   ],
   "source": [
    "'abcde'.split('').reverse().join(''); // => 'edcba'"
   ]
  },
  {
   "cell_type": "markdown",
   "metadata": {},
   "source": [
    "Using a decrementing for loop with string concatenation and selecting each character either using array syntax (`str[i]`), which we can do because strings are arraylike, or using the String prototype's `substr()` method:"
   ]
  },
  {
   "cell_type": "code",
   "execution_count": 78,
   "metadata": {
    "collapsed": false
   },
   "outputs": [
    {
     "data": {
      "text/plain": [
       "'fedcba'"
      ]
     },
     "execution_count": 78,
     "metadata": {},
     "output_type": "execute_result"
    }
   ],
   "source": [
    "function reverseString(str) {\n",
    "    var reversed = '';\n",
    "    for (var i = str.length - 1; i >= 0; i--) {\n",
    "        reversed += str[i]; // Strings are arraylike\n",
    "        // reversed += str.substr(i, 1); // Or use substring selection\n",
    "    }\n",
    "    return reversed;\n",
    "}\n",
    "\n",
    "reverseString('abcdef'); // => 'fedcba'"
   ]
  },
  {
   "cell_type": "markdown",
   "metadata": {},
   "source": [
    "Using recursion:"
   ]
  },
  {
   "cell_type": "code",
   "execution_count": 107,
   "metadata": {
    "collapsed": false
   },
   "outputs": [
    {
     "name": "stdout",
     "output_type": "stream",
     "text": [
      "oof\n",
      "dlrow olleh\n",
      "dcba\n",
      "54321\n"
     ]
    },
    {
     "data": {
      "text/plain": [
       "undefined"
      ]
     },
     "execution_count": 107,
     "metadata": {},
     "output_type": "execute_result"
    }
   ],
   "source": [
    "function reverseString(str) {\n",
    "    var l = str.length, out = '';\n",
    "    while (l > 0) {\n",
    "        out += str[l - 1];\n",
    "        l -= 1;\n",
    "        reverseString(str.substring(0, l));\n",
    "    }\n",
    "    return out;\n",
    "}\n",
    "\n",
    "console.log(reverseString('foo'));         // => 'oof'\n",
    "console.log(reverseString('hello world')); // => 'dlrow olleh'\n",
    "console.log(reverseString('abcd'));        // => 'dcba'\n",
    "console.log(reverseString('12345'));       // => '54321'"
   ]
  },
  {
   "cell_type": "markdown",
   "metadata": {},
   "source": [
    "### Character substitution"
   ]
  },
  {
   "cell_type": "markdown",
   "metadata": {},
   "source": [
    "For each letter in a string (ignoring punctuation altogether), replace it with the lowercase letter following it in the alphabet (with \"a\" following \"z\") unless that letter is a vowel, in which case capitalize it."
   ]
  },
  {
   "cell_type": "markdown",
   "metadata": {},
   "source": [
    "Using array literals:"
   ]
  },
  {
   "cell_type": "code",
   "execution_count": 34,
   "metadata": {
    "collapsed": false
   },
   "outputs": [
    {
     "data": {
      "text/plain": [
       "'!!&*gppcbscbspvtA!!!'"
      ]
     },
     "execution_count": 34,
     "metadata": {},
     "output_type": "execute_result"
    }
   ],
   "source": [
    "function stringTransform(str) {\n",
    "    var alphabet  = 'abcdefghijklmnopqrstuvwxyz',\n",
    "        vowels    = 'aeiou',\n",
    "        strArray  = str.toLowerCase().split('');\n",
    "    \n",
    "    for (var i = 0, l = strArray.length; i < l; i++) {\n",
    "        if (alphabet.indexOf(strArray[i]) !== -1) {\n",
    "            var nextLetter = (strArray[i] === 'z')\n",
    "                ? 'a' // Special case: 'a' follows 'z'\n",
    "                : alphabet[alphabet.indexOf(strArray[i]) + 1];\n",
    "            if (vowels.indexOf(nextLetter) !== -1) {\n",
    "                nextLetter = nextLetter.toUpperCase();\n",
    "            }\n",
    "            strArray[i] = nextLetter;\n",
    "        }\n",
    "    }\n",
    "    return strArray.join('');\n",
    "}\n",
    "\n",
    "stringTransform('!!&*FooBarbarousZ!!!'); // => '!!&*gppcbscbspvtA!!!'"
   ]
  },
  {
   "cell_type": "markdown",
   "metadata": {},
   "source": [
    "Using the String prototype's `replace()` and `fromCharCode()` methods, passing a function as the replacement parameter, and the RegExp prototype's `test()` method to match vowels:"
   ]
  },
  {
   "cell_type": "code",
   "execution_count": 42,
   "metadata": {
    "collapsed": false
   },
   "outputs": [
    {
     "data": {
      "text/plain": [
       "'!!&*gppcbscbspvtA!!!'"
      ]
     },
     "execution_count": 42,
     "metadata": {},
     "output_type": "execute_result"
    }
   ],
   "source": [
    "function stringTransform(str) {\n",
    "    return str.toLowerCase().replace(/[a-z]/ig, function(char) {\n",
    "        var nextLetter = (char === 'z')\n",
    "            ? 'a' // Special case: 'a' follows 'z'\n",
    "            : String.fromCharCode(char.charCodeAt() + 1);\n",
    "        if (/[aeiou]/g.test(nextLetter)) {\n",
    "            nextLetter = nextLetter.toUpperCase();\n",
    "        }\n",
    "        return nextLetter;\n",
    "    });\n",
    "}\n",
    "\n",
    "stringTransform('!!&*FooBarbarousZ!!!'); // => '!!&*gppcbscbspvtA!!!'"
   ]
  },
  {
   "cell_type": "markdown",
   "metadata": {},
   "source": [
    "# Arrays"
   ]
  },
  {
   "cell_type": "markdown",
   "metadata": {},
   "source": [
    "## Return minimum and maximum values in an array"
   ]
  },
  {
   "cell_type": "markdown",
   "metadata": {},
   "source": [
    "We can use `for..in`, since the index order of elements is unimportant and we don't need to measure the length of the array:"
   ]
  },
  {
   "cell_type": "code",
   "execution_count": 114,
   "metadata": {
    "collapsed": false
   },
   "outputs": [
    {
     "name": "stdout",
     "output_type": "stream",
     "text": [
      "[ 1, 1 ]\n",
      "[ 1, 1 ]\n",
      "[ 0, 2 ]\n",
      "[ 0, 2 ]\n",
      "[ 5, 2334454 ]\n"
     ]
    },
    {
     "data": {
      "text/plain": [
       "undefined"
      ]
     },
     "execution_count": 114,
     "metadata": {},
     "output_type": "execute_result"
    }
   ],
   "source": [
    "function getArrayMinMax(a) {\n",
    "    var min = a[0], max = a[0];\n",
    "    for (var elt in a) {\n",
    "        min = (a[elt] < min) ? a[elt] : min;\n",
    "        max = (a[elt] > max) ? a[elt] : max;\n",
    "    }\n",
    "    return [min, max];\n",
    "}\n",
    "\n",
    "console.log(getArrayMinMax([1])); // => [1, 1]\n",
    "console.log(getArrayMinMax([1, 1])); // => [1, 1]\n",
    "console.log(getArrayMinMax([0, 1, 2])); // => [0, 2]\n",
    "console.log(getArrayMinMax([2, 1, 0])); // => [0, 2]\n",
    "console.log(getArrayMinMax([2334454, 5])); // => [5, 2334454]"
   ]
  },
  {
   "cell_type": "markdown",
   "metadata": {},
   "source": [
    "Using the Array prototype's `reduce()` method:"
   ]
  },
  {
   "cell_type": "code",
   "execution_count": 108,
   "metadata": {
    "collapsed": false
   },
   "outputs": [
    {
     "name": "stdout",
     "output_type": "stream",
     "text": [
      "[ 1, 1 ]\n",
      "[ 1, 1 ]\n",
      "[ 0, 2 ]\n",
      "[ 0, 2 ]\n",
      "[ 5, 2334454 ]\n"
     ]
    },
    {
     "data": {
      "text/plain": [
       "undefined"
      ]
     },
     "execution_count": 108,
     "metadata": {},
     "output_type": "execute_result"
    }
   ],
   "source": [
    "function getArrayMinMax(a) {\n",
    "    var min = a.reduce(function(a, b) {\n",
    "        return (a <= b) ? a : b;\n",
    "    });\n",
    "    var max = a.reduce(function(a, b) {\n",
    "        return (a >= b) ? a : b;\n",
    "    });\n",
    "    return [min, max];\n",
    "}\n",
    "\n",
    "console.log(getArrayMinMax([1]));          // => [1, 1]\n",
    "console.log(getArrayMinMax([1, 1]));       // => [1, 1]\n",
    "console.log(getArrayMinMax([0, 1, 2]));    // => [0, 2]\n",
    "console.log(getArrayMinMax([2, 1, 0]));    // => [0, 2]\n",
    "console.log(getArrayMinMax([2334454, 5])); // => [5, 2334454]"
   ]
  },
  {
   "cell_type": "markdown",
   "metadata": {},
   "source": [
    "Using the native `Math` object and the `Function` prototype's `apply()` method:"
   ]
  },
  {
   "cell_type": "code",
   "execution_count": 109,
   "metadata": {
    "collapsed": false
   },
   "outputs": [
    {
     "name": "stdout",
     "output_type": "stream",
     "text": [
      "[ 1, 1 ]\n",
      "[ 1, 1 ]\n",
      "[ 0, 2 ]\n",
      "[ 0, 2 ]\n",
      "[ 5, 2334454 ]\n"
     ]
    },
    {
     "data": {
      "text/plain": [
       "undefined"
      ]
     },
     "execution_count": 109,
     "metadata": {},
     "output_type": "execute_result"
    }
   ],
   "source": [
    "function getArrayMinMax(a){\n",
    "    return [Math.min.apply(Math, a), Math.max.apply(Math, a)];\n",
    "}\n",
    "\n",
    "console.log(getArrayMinMax([1]));          // => [1, 1]\n",
    "console.log(getArrayMinMax([1, 1]));       // => [1, 1]\n",
    "console.log(getArrayMinMax([0, 1, 2]));    // => [0, 2]\n",
    "console.log(getArrayMinMax([2, 1, 0]));    // => [0, 2]\n",
    "console.log(getArrayMinMax([2334454, 5])); // => [5, 2334454]"
   ]
  },
  {
   "cell_type": "markdown",
   "metadata": {},
   "source": [
    "## Return counts of unique items in an array"
   ]
  },
  {
   "cell_type": "markdown",
   "metadata": {},
   "source": [
    "Other ways to do this include using the Array prototype's `reduce()` and `forEach()` methods."
   ]
  },
  {
   "cell_type": "code",
   "execution_count": 96,
   "metadata": {
    "collapsed": false
   },
   "outputs": [
    {
     "name": "stdout",
     "output_type": "stream",
     "text": [
      "{ foo: 3, bar: 1, baz: 1 }\n"
     ]
    },
    {
     "data": {
      "text/plain": [
       "undefined"
      ]
     },
     "execution_count": 96,
     "metadata": {},
     "output_type": "execute_result"
    }
   ],
   "source": [
    "function countArrayItems(a) {\n",
    "    var o = {};\n",
    "    for (var i = 0, l = a.length; i < l; i++) {\n",
    "        var aItem = a[i];\n",
    "        if (aItem in o) o[aItem] += 1;\n",
    "        else o[aItem] = 1;\n",
    "    }\n",
    "    return o;\n",
    "}\n",
    "\n",
    "// => { foo: 3, bar: 1, baz: 1 }\n",
    "console.log(countArrayItems(['foo', 'foo', 'bar', 'baz', 'foo']));"
   ]
  },
  {
   "cell_type": "markdown",
   "metadata": {},
   "source": [
    "## Sum values in an array"
   ]
  },
  {
   "cell_type": "code",
   "execution_count": 113,
   "metadata": {
    "collapsed": false
   },
   "outputs": [
    {
     "name": "stdout",
     "output_type": "stream",
     "text": [
      "10\n",
      "-2\n",
      "55\n"
     ]
    },
    {
     "data": {
      "text/plain": [
       "undefined"
      ]
     },
     "execution_count": 113,
     "metadata": {},
     "output_type": "execute_result"
    }
   ],
   "source": [
    "function sumArray(array) {\n",
    "  var total = 0;\n",
    "  for (i = 0; i < array.length; i += 1) {\n",
    "    total += array[i];\n",
    "  }\n",
    "  return total;\n",
    "}\n",
    "\n",
    "console.log(sumArray([ 0,  1, 2, 3, 4])); // => 10\n",
    "console.log(sumArray([-2, -1, 0, 1]));    // => -2\n",
    "console.log(sumArray(rangeEnum(1, 10)));  // => 55"
   ]
  },
  {
   "cell_type": "markdown",
   "metadata": {},
   "source": [
    "## Enumerate a range as an array"
   ]
  },
  {
   "cell_type": "code",
   "execution_count": 111,
   "metadata": {
    "collapsed": false
   },
   "outputs": [
    {
     "name": "stdout",
     "output_type": "stream",
     "text": [
      "[ 0, 1, 2, 3 ]\n",
      "[ 3, 4, 5, 6 ]\n",
      "[ -2, -1, 0, 1, 2, 3, 4 ]\n",
      "[ -7, -6, -5, -4, -3, -2 ]\n"
     ]
    },
    {
     "data": {
      "text/plain": [
       "undefined"
      ]
     },
     "execution_count": 111,
     "metadata": {},
     "output_type": "execute_result"
    }
   ],
   "source": [
    "function rangeEnum(start, end) {\n",
    "  var rangeArray = [];\n",
    "  for (var i = 0; i <= (end - start); i += 1) {\n",
    "    rangeArray[i] = (start + i);\n",
    "  }\n",
    "  return rangeArray;\n",
    "}\n",
    "\n",
    "console.log(range( 0,  3)); // => [0, 1, 2, 3]\n",
    "console.log(range( 3,  6)); // => [ 3, 4, 5, 6 ]\n",
    "console.log(range(-2,  4)); // => [ -2, -1, 0, 1, 2, 3, 4 ]\n",
    "console.log(range(-7, -2)); // => [ -7, -6, -5, -4, -3, -2 ]"
   ]
  },
  {
   "cell_type": "markdown",
   "metadata": {},
   "source": [
    "With step as optional third parameter:"
   ]
  },
  {
   "cell_type": "code",
   "execution_count": 112,
   "metadata": {
    "collapsed": false
   },
   "outputs": [
    {
     "name": "stdout",
     "output_type": "stream",
     "text": [
      "[ 0, 2, 4, 6 ]\n",
      "[ 1, 3, 5, 7, 9 ]\n",
      "[ 5, 4, 3, 2 ]\n",
      "[ 0, 1, 2, 3 ]\n"
     ]
    },
    {
     "data": {
      "text/plain": [
       "undefined"
      ]
     },
     "execution_count": 112,
     "metadata": {},
     "output_type": "execute_result"
    }
   ],
   "source": [
    "function rangeArrayStep(start, end, step) {\n",
    "  step = step || 1; // If `step` is not defined, set it to 1\n",
    "  var rangeArray = [];\n",
    "  rangeArray[0]  = start; // Set first element in array\n",
    "  for (var i = 1; i <= ((end - start) / step); i += 1) {\n",
    "    rangeArray[i] = (start + (step * i));\n",
    "  }\n",
    "  return rangeArray;\n",
    "}\n",
    "\n",
    "console.log(rangeArrayStep(0,  6,  2)); // => [0, 2, 4, 6]\n",
    "console.log(rangeArrayStep(1, 10,  2)); // => [1, 3, 5, 7, 9]\n",
    "console.log(rangeArrayStep(5,  2, -1)); // => [5, 4, 3, 2]\n",
    "\n",
    "// What if third parameter is omitted?\n",
    "console.log(rangeArrayStep(0, 3)); // => [0, 1, 2, 3]"
   ]
  },
  {
   "cell_type": "markdown",
   "metadata": {},
   "source": [
    "## Reverse an array"
   ]
  },
  {
   "cell_type": "markdown",
   "metadata": {},
   "source": [
    "**Returning a new array**"
   ]
  },
  {
   "cell_type": "code",
   "execution_count": 64,
   "metadata": {
    "collapsed": false
   },
   "outputs": [
    {
     "name": "stdout",
     "output_type": "stream",
     "text": [
      "[ 2, 1, 0 ]\n",
      "[ 3, 2, 1, 0, -1 ]\n"
     ]
    },
    {
     "data": {
      "text/plain": [
       "undefined"
      ]
     },
     "execution_count": 64,
     "metadata": {},
     "output_type": "execute_result"
    }
   ],
   "source": [
    "function reverseArray(array) {\n",
    "  var reversed = [];\n",
    "  for (var i = 0; i < array.length; i += 1) {\n",
    "    reversed[i] = array[(array.length - 1) - i];\n",
    "  }\n",
    "  return reversed;\n",
    "}\n",
    "\n",
    "console.log(reverseArray([0, 1, 2]));        // => [2, 1, 0]\n",
    "console.log(reverseArray([-1, 0, 1, 2, 3])); // => [3, 2, 1, 0, -1]"
   ]
  },
  {
   "cell_type": "markdown",
   "metadata": {},
   "source": [
    "**Reversing in place**. If we try to use the approach used in `reverseArray()` here as well, then because we are modifying in place, the zero-index element of the array passed to `reverseArrayInPlace()` will be replaced before it can be transposed. A different approach is necessary, where we don't actually completely reverse the array as much as transpose elements around its middle index position:"
   ]
  },
  {
   "cell_type": "code",
   "execution_count": 65,
   "metadata": {
    "collapsed": false
   },
   "outputs": [
    {
     "name": "stdout",
     "output_type": "stream",
     "text": [
      "[ 2, 1, 0 ]\n",
      "[ 3, 2, 1, 0, -1 ]\n"
     ]
    },
    {
     "data": {
      "text/plain": [
       "undefined"
      ]
     },
     "execution_count": 65,
     "metadata": {},
     "output_type": "execute_result"
    }
   ],
   "source": [
    "function reverseArrayInPlace(array) {\n",
    "  for (var i = 0; i < Math.floor(array.length / 2); i += 1) {\n",
    "    var holdItem = array[i];\n",
    "    array[i] = array[(array.length - 1) - i];\n",
    "    array[(array.length - 1) - i] = holdItem;\n",
    "  }\n",
    "  return array;\n",
    "}\n",
    "\n",
    "console.log(reverseArrayInPlace([0, 1, 2]));        // => [2, 1, 0]\n",
    "console.log(reverseArrayInPlace([-1, 0, 1, 2, 3])); // => [3, 2, 1, 0, -1]"
   ]
  },
  {
   "cell_type": "markdown",
   "metadata": {},
   "source": [
    "## Flatten arrays"
   ]
  },
  {
   "cell_type": "markdown",
   "metadata": {},
   "source": [
    "Use the Array prototype methods `reduce()` and `concat` to flatten an array of arrays. `reduce()` takes a callback function as argument, plus an optional argument `initialValue`. That callback function itself takes four arguments: `previousValue`, `currentValue`, `index`, and `array`. If `initialValue` is not provided as argument to `reduce()`, then the callback function's argument `previousValue` is automatically set to the first value in the input array and `currentValue` is set to the second element in the input array. So, all we have to do here is call the built-in array method `reduce()` on the input array, giving it as argument a callback function with its first two expected arguments. Inside that callback function, the built-in `concat()` array method is called to concatenate each array in the input array with the next array in the input array, thus \"flattening\" the array of arrays into a single array."
   ]
  },
  {
   "cell_type": "code",
   "execution_count": 68,
   "metadata": {
    "collapsed": false
   },
   "outputs": [
    {
     "name": "stdout",
     "output_type": "stream",
     "text": [
      "[ 0, 1, 2, 3, 4, 5 ]\n",
      "[ 'This', 'is', 'an', 'array', 'of', 'arrays' ]\n"
     ]
    },
    {
     "data": {
      "text/plain": [
       "undefined"
      ]
     },
     "execution_count": 68,
     "metadata": {},
     "output_type": "execute_result"
    }
   ],
   "source": [
    "function flattenArrays(array) {\n",
    "  return array.reduce(function(flattened, current) {\n",
    "    return flattened.concat(current);\n",
    "  } );\n",
    "}\n",
    "\n",
    "// => [ 0, 1, 2, 3, 4, 5]\n",
    "console.log(flattenArrays([[0, 1, 2], [3, 4 ,5]]));\n",
    "\n",
    "// => [ ‘This’, ‘is’, ‘an’, ‘array’, ‘of’, ‘arrays’ ]\n",
    "console.log(flattenArrays([\n",
    "    [\"This\", \"is\", \"an\"], \n",
    "    [\"array\", \"of\", \"arrays\"]\n",
    "]));"
   ]
  },
  {
   "cell_type": "markdown",
   "metadata": {},
   "source": [
    "# Objects"
   ]
  },
  {
   "cell_type": "markdown",
   "metadata": {},
   "source": [
    "## Compare objects"
   ]
  },
  {
   "cell_type": "markdown",
   "metadata": {},
   "source": [
    "With fallback for primitives."
   ]
  },
  {
   "cell_type": "markdown",
   "metadata": {},
   "source": [
    "If the parameters passed to `deepEqual()` are objects (but *not* `null`, which the `typeof()` method idiosyncratically tells us is an object), then for each property in the `x` object, use the `in` operator to test for the identical property in the `y` object. If it's not there, we're done; if it's there, but a comparison of the values of these two identical properties (a comparison made using a recursive call of `deepEqual()` itself) returns `false`, then we're done. Return `true` only if the two objects share identical  properties with identical values in each case. And if the parameters passed to `deepEqual()` are not objects but values, then simply use the `===` operator to test for strict equality (equal value and equal type)."
   ]
  },
  {
   "cell_type": "code",
   "execution_count": 66,
   "metadata": {
    "collapsed": false
   },
   "outputs": [
    {
     "name": "stdout",
     "output_type": "stream",
     "text": [
      "false\n",
      "true\n",
      "false\n",
      "false\n",
      "true\n",
      "true\n",
      "false\n",
      "false\n",
      "false\n",
      "false\n"
     ]
    },
    {
     "data": {
      "text/plain": [
       "undefined"
      ]
     },
     "execution_count": 66,
     "metadata": {},
     "output_type": "execute_result"
    }
   ],
   "source": [
    "function deepEqual(x, y) {\n",
    "  if (x !== null && \n",
    "      y !== null && \n",
    "      typeof(x) == \"object\" && \n",
    "      typeof(y) == \"object\") {\n",
    "    for (var prop in x) {\n",
    "      if ( !(prop in y) || !(deepEqual(x[prop], y[prop])) ) {\n",
    "          return false; // We're done.\n",
    "      }\n",
    "      else return true; // If objects are equal in both properties and values\n",
    "      }\n",
    "    }\n",
    "  else if (x === y) return true;\n",
    "  else return false;\n",
    "}\n",
    "\n",
    "console.log(deepEqual(0, 1));     // => false\n",
    "console.log(deepEqual(1, 1));     // => true\n",
    "console.log(deepEqual(1, \"foo\")); // => false\n",
    "\n",
    "console.log(deepEqual(null, {property: 2}));                    // => false\n",
    "console.log(deepEqual({property: 2}, {property: 2}));           // => true\n",
    "console.log(deepEqual({property: 'foo'}, {property: 'foo'}));   // => true\n",
    "console.log(deepEqual({property: 2}, {property: 'foo'}));       // => false\n",
    "console.log(deepEqual({property: 'foo'}, {property: 'bar'}));   // => false\n",
    "console.log(deepEqual({property1: 2}, {property2: 2}));         // => false\n",
    "console.log(deepEqual({property1: 'foo'}, {property2: 'bar'})); // => false"
   ]
  }
 ],
 "metadata": {
  "kernelspec": {
   "display_name": "Javascript (Node.js)",
   "language": "javascript",
   "name": "javascript"
  },
  "language_info": {
   "file_extension": "js",
   "mimetype": "application/javascript",
   "name": "javascript",
   "version": "0.12.6"
  }
 },
 "nbformat": 4,
 "nbformat_minor": 0
}
