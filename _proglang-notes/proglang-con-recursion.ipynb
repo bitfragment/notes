{
 "cells": [
  {
   "cell_type": "markdown",
   "metadata": {},
   "source": [
    "This is not an efficient application of recursion (JavaScript already has a built-in string object method `trim()`, and the same thing can be done in one statement using a regexp replace), but it is the first form in which I used it spontaneously. Strips leading space, invoking itself recursively.\n",
    "\n",
    "Strips leading space, invoking itself recursively:"
   ]
  },
  {
   "cell_type": "code",
   "execution_count": 1,
   "metadata": {
    "collapsed": false
   },
   "outputs": [
    {
     "name": "stdout",
     "output_type": "stream",
     "text": [
      "[foo   ]\n"
     ]
    },
    {
     "data": {
      "text/html": [
       "<pre>undefined</pre>"
      ],
      "text/plain": [
       "undefined"
      ]
     },
     "execution_count": 1,
     "metadata": {},
     "output_type": "execute_result"
    }
   ],
   "source": [
    "function stripLeadingSpace(input) {\n",
    "    while (input.charAt(0) == \" \") {\n",
    "        input = input.substring(1, input.length);\n",
    "        stripLeadingSpace(input);\n",
    "    }\n",
    "    return input;\n",
    "}\n",
    "\n",
    "console.log(\"[\" + stripLeadingSpace(\"   foo   \") +\"]\"); // => \"[foo   ]\""
   ]
  }
 ],
 "metadata": {
  "kernelspec": {
   "display_name": "Javascript (Node.js)",
   "language": "javascript",
   "name": "javascript"
  },
  "language_info": {
   "file_extension": "js",
   "mimetype": "application/javascript",
   "name": "javascript",
   "version": "0.10.35"
  }
 },
 "nbformat": 4,
 "nbformat_minor": 0
}
