{
 "cells": [
  {
   "cell_type": "markdown",
   "metadata": {},
   "source": [
    "# Recursion"
   ]
  },
  {
   "cell_type": "markdown",
   "metadata": {},
   "source": [
    "This is not an efficient application of recursion (JavaScript already has a built-in string object method `trim()`, and the same thing can be done in one statement using a regexp replace), but it is the first form in which I used it spontaneously.\n",
    "\n",
    "Strips leading space, invoking itself recursively:"
   ]
  },
  {
   "cell_type": "code",
   "execution_count": 1,
   "metadata": {
    "collapsed": false
   },
   "outputs": [
    {
     "name": "stdout",
     "output_type": "stream",
     "text": [
      "[foo   ]\n"
     ]
    },
    {
     "data": {
      "text/html": [
       "<pre>undefined</pre>"
      ],
      "text/plain": [
       "undefined"
      ]
     },
     "execution_count": 1,
     "metadata": {},
     "output_type": "execute_result"
    }
   ],
   "source": [
    "function stripLeadingSpace(input) {\n",
    "    while (input.charAt(0) == \" \") {\n",
    "        input = input.substring(1, input.length);\n",
    "        stripLeadingSpace(input);\n",
    "    }\n",
    "    return input;\n",
    "}\n",
    "\n",
    "console.log(\"[\" + stripLeadingSpace(\"   foo   \") +\"]\"); // => \"[foo   ]\""
   ]
  },
  {
   "cell_type": "markdown",
   "metadata": {},
   "source": [
    "## Other examples"
   ]
  },
  {
   "cell_type": "markdown",
   "metadata": {},
   "source": [
    "Getting a factorial using recursion:"
   ]
  },
  {
   "cell_type": "code",
   "execution_count": 1,
   "metadata": {
    "collapsed": false
   },
   "outputs": [
    {
     "name": "stdout",
     "output_type": "stream",
     "text": [
      "1\n",
      "1\n",
      "120\n",
      "3628800\n"
     ]
    },
    {
     "data": {
      "text/plain": [
       "undefined"
      ]
     },
     "execution_count": 1,
     "metadata": {},
     "output_type": "execute_result"
    }
   ],
   "source": [
    "function getFactorial(int) {\n",
    "    if (int === 0) return 1; // Handle empty product\n",
    "    return int * getFactorial(int - 1);\n",
    "}\n",
    "\n",
    "console.log(getFactorial(0));  // => 1\n",
    "console.log(getFactorial(1));  // => 1\n",
    "console.log(getFactorial(5));  // => 120\n",
    "console.log(getFactorial(10)); // => 3628800"
   ]
  },
  {
   "cell_type": "markdown",
   "metadata": {},
   "source": [
    "Reverse a string using recursion:"
   ]
  },
  {
   "cell_type": "code",
   "execution_count": 2,
   "metadata": {
    "collapsed": false
   },
   "outputs": [
    {
     "name": "stdout",
     "output_type": "stream",
     "text": [
      "oof\n",
      "dlrow olleh\n",
      "dcba\n",
      "54321\n"
     ]
    },
    {
     "data": {
      "text/plain": [
       "undefined"
      ]
     },
     "execution_count": 2,
     "metadata": {},
     "output_type": "execute_result"
    }
   ],
   "source": [
    "function reverseString(str) {\n",
    "    var l = str.length, out = '';\n",
    "    while (l > 0) {\n",
    "        out += str[l - 1];\n",
    "        l -= 1;\n",
    "        reverseString(str.substring(0, l));\n",
    "    }\n",
    "    return out;\n",
    "}\n",
    "\n",
    "console.log(reverseString('foo'));         // => 'oof'\n",
    "console.log(reverseString('hello world')); // => 'dlrow olleh'\n",
    "console.log(reverseString('abcd'));        // => 'dcba'\n",
    "console.log(reverseString('12345'));       // => '54321'"
   ]
  }
 ],
 "metadata": {
  "kernelspec": {
   "display_name": "Javascript (Node.js)",
   "language": "javascript",
   "name": "javascript"
  },
  "language_info": {
   "file_extension": "js",
   "mimetype": "application/javascript",
   "name": "javascript",
   "version": "0.12.6"
  }
 },
 "nbformat": 4,
 "nbformat_minor": 0
}
