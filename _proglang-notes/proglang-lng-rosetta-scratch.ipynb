{
 "cells": [
  {
   "cell_type": "markdown",
   "metadata": {},
   "source": [
    "# LIST COMPREHENSION\n",
    "* js: not available; use functional methods\n",
    "* py2: `[x + 1 for x in sorted(ids) if not (x + 1) in ids]`\n",
    "* rb: not available; use functional methods\n",
    "* hs: [elt + 1 | elt <- list, cond]\n",
    "----"
   ]
  },
  {
   "cell_type": "markdown",
   "metadata": {},
   "source": [
    "# LAMBDAS\n",
    "* ES2015: `var myFunc = param =>` / `var myFunc = (param1, param2) =>`\n",
    "* py2: `foo = lambda a, b: a + b ` (no `return` keyword needed)\n",
    "* rb: `foo = ->(param) {...}`\n",
    "\n",
    "----"
   ]
  },
  {
   "cell_type": "markdown",
   "metadata": {},
   "source": [
    "# FUNCTIONAL METHODS\n",
    "## reduce\n",
    "* py2: `reduce(myFunction/lambda, arr)`\n",
    "* rb: `arr.reduce {|…| … }`\n",
    "\n",
    "## map\n",
    "* py2: `map(myFunction/lambda, arr)`\n",
    "* rb: `arr.map {|…| … }`\n",
    "* hs: `map head $ words str`\n",
    "\n",
    "## filter\n",
    "* js: `arr.filter()`\n",
    "* rb: `arr.select {||...}`, `reject`, `drop_while`, `keep_if`, `delete_if`\n",
    "----\n"
   ]
  },
  {
   "cell_type": "markdown",
   "metadata": {},
   "source": [
    "# TYPE CHECKING\n",
    "* py2: `if isinstance(my_string, str)...`\n",
    "* rb: `if my_string.is_a?(String)...`\n",
    "\n",
    "----\n"
   ]
  },
  {
   "cell_type": "markdown",
   "metadata": {},
   "source": [
    "# MATH\n",
    "\n",
    "## min, max\n",
    "* js: `Math.max(1, 3)`\n",
    "* py2: `max(1, 3)`\n",
    "* rb: `[1, 3].max`\n",
    "* hs: `max 1 3`"
   ]
  },
  {
   "cell_type": "markdown",
   "metadata": {},
   "source": [
    "# RANGES\n",
    "* py2: `range(3)` / `range(3, 5)`\n",
    "\n",
    "----\n"
   ]
  },
  {
   "cell_type": "markdown",
   "metadata": {},
   "source": [
    "# STRINGS\n",
    "## converting to\n",
    "* js: `foo.toString()`\n",
    "* py2: `str(foo)`\n",
    "\n",
    "## properties\n",
    "see `length` in iterables, below\n",
    "\n",
    "## concatenation\n",
    "* js: `'foo' + 'bar'`\n",
    "* py2: `'foo' + 'bar'`\n",
    "* rb: `'foo' + 'bar'`\n",
    "* hs: `\"foo\" ++ \"bar\"`\n",
    "\n",
    "## mutating\n",
    "* js: `str.toUpperCase()` / `str.toLowerCase()`\n",
    "* py2: `str.upper()` / `str.lower()`\n",
    "\n",
    "## interpolation/templating\n",
    "* js ES2015L `<backtick>foo ${var}<backtick>`\n",
    "* py2: `'%s %s' % (var1, var2)`\n",
    "* rb: `\"foo #{var}\"`\n",
    "* hs: not available?\n",
    "\n",
    "## sorting\n",
    "* py2: `sorted(str)`\n",
    "\n",
    "----\n"
   ]
  },
  {
   "cell_type": "markdown",
   "metadata": {},
   "source": [
    "# ITERABLES\n",
    "## length\n",
    "* js: `iterable.length`\n",
    "* py2: `len(interable)`\n",
    "* rb: `iterable.length`\n",
    "* hs: `length iterable`\n",
    "\n",
    "## presence of element\n",
    "* js: `arr.indexOf(elt) !== -1`\n",
    "* py2: `'f' in 'foo'`\n",
    "* rb: `arr.include?(elt)`\n",
    "* hs: `elem e list`\n",
    "\n",
    "## append element\n",
    "* js: `arr.push(elt)`\n",
    "* py2: `arr.append(elt)`\n",
    "* rb: `arr.push(elt)`\n",
    "\n",
    "## retrieve specific elements\n",
    "### first element\n",
    "* hs: `head arr`\n",
    "\n",
    "### last element\n",
    "* js: `arr.pop()`\n",
    "* rb: `arr.pop`\n",
    "\n",
    "### by index\n",
    "* py2: `arr.index(elt)` (retrieves only FIRST OCCURRENCE of matching element)\n",
    "\n",
    "## enumerating\n",
    "* py2: `for index, element in enumerate(arr): …`\n",
    "* rb: `arr.each_with_index { |elt, ind| … }`\n",
    "\n",
    "## splitting\n",
    "* js: `wordsString.split(' ')` (no default) / `str.split('')`\n",
    "* py2: `words_string.split()` (defaults to whitespace) / `list(str)`\n",
    "* rb: `words_string.split` (defaults to whitespace) / `str.split('')`\n",
    "* hs: `words words_string` / FIXME\n",
    "\n",
    "## joining elements of\n",
    "* js: `arr.join('')`\n",
    "* py2: `''.join(arr)`\n",
    "* rb:\n",
    "* hs: `concat list` / `unwords list`\n",
    "\n",
    "## zipping\n",
    "* js: `var zip = (arr1, arr2) => arr1.map((elt, ind) => [elt, arr2[ind]]);`\n",
    "* py2: `zip (arr1, arr2)`\n",
    "* rb: `arr1.zip(arr2 [, arr3...])`\n",
    "* hs: `zip arr1 arr2`\n",
    "\n",
    "## sorting elements of\n",
    "* js: `arr.sort()`\n",
    "* py2: `arr.sort()` mutates in place / `sorted(arr)` can be passed\n",
    "* rb: `arr.sort`\n",
    "* hs: `import Data.list; sort list`\n",
    "----\n"
   ]
  },
  {
   "cell_type": "markdown",
   "metadata": {},
   "source": [
    "# CONTROL FLOW\n",
    "## `for`\n",
    "* py2: `for elt in arr:` (colon as demarcator, no end keyword)\n",
    "* rb: ` (1..3).each {|i| puts i}`\n",
    "\n",
    "## `while`\n",
    "* py2: `while (elt in arr):`\n",
    "* rb: `while (cond) … end`\n",
    "\n",
    "## `if`\n",
    "* rb: `if … [else] … end`\n",
    "\n",
    "## ternary conditional operator\n",
    "* js: `(cond) ? :`\n",
    "* py2: `exp if cond else exp`\n",
    "* rb: `cond ? :`\n",
    "* hs: use guards instead\n",
    "----\n"
   ]
  },
  {
   "cell_type": "markdown",
   "metadata": {},
   "source": [
    "# FUNCTIONS\n",
    "## declaration\n",
    "* js: `myFunction(param...) {}`\n",
    "* py: `def my_function(param...):` (colon as demarcator, no `end` keyword)\n",
    "* rb: `def my_function(param...) … end`\n",
    "* hs: `myFunction param... =`\n",
    "\n",
    "## composition\n",
    "* js: parens or dot notation\n",
    "* py2: parens or dot notation\n",
    "* rb: parens or dot notation\n",
    "* hs: `$` and `.`: `print . concat $ replicate 3 \"foo\"`\n",
    "\n",
    "## return\n",
    "* js: `return`\n",
    "* py2: `return`\n",
    "* rb: implicit: value of last expression will be returned (no `return` keyword necessary)\n",
    "* hs: can use `return` keyword but shouldn't need to\n",
    "----"
   ]
  }
 ],
 "metadata": {
  "kernelspec": {
   "display_name": "Python 2",
   "language": "python",
   "name": "python2"
  },
  "language_info": {
   "codemirror_mode": {
    "name": "ipython",
    "version": 2
   },
   "file_extension": ".py",
   "mimetype": "text/x-python",
   "name": "python",
   "nbconvert_exporter": "python",
   "pygments_lexer": "ipython2",
   "version": "2.7.10"
  }
 },
 "nbformat": 4,
 "nbformat_minor": 0
}
