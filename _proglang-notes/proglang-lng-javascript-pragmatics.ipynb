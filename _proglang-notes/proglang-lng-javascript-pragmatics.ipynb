{
 "cells": [
  {
   "cell_type": "markdown",
   "metadata": {},
   "source": [
    "# JavaScript pragmatics"
   ]
  },
  {
   "cell_type": "markdown",
   "metadata": {},
   "source": [
    "## Primitives"
   ]
  },
  {
   "cell_type": "markdown",
   "metadata": {},
   "source": [
    "### Validation"
   ]
  },
  {
   "cell_type": "markdown",
   "metadata": {},
   "source": [
    "Very basic validation, rejecting null, undefined, and empty string:"
   ]
  },
  {
   "cell_type": "code",
   "execution_count": 48,
   "metadata": {
    "collapsed": false
   },
   "outputs": [
    {
     "name": "stdout",
     "output_type": "stream",
     "text": [
      "false\n",
      "false\n",
      "false\n",
      "true\n",
      "true\n"
     ]
    },
    {
     "data": {
      "text/plain": [
       "undefined"
      ]
     },
     "execution_count": 48,
     "metadata": {},
     "output_type": "execute_result"
    }
   ],
   "source": [
    "function isTruthy(value) {\n",
    "  return (!value) ? false : true; \n",
    "}\n",
    "\n",
    "console.log(isTruthy(null));      // => false\n",
    "console.log(isTruthy(\"\"));        // => false\n",
    "console.log(isTruthy(undefined)); // => false\n",
    "\n",
    "console.log(isTruthy(1));         // => true\n",
    "console.log(isTruthy(\"foo\"));     // => true"
   ]
  },
  {
   "cell_type": "markdown",
   "metadata": {},
   "source": [
    "However, this approach is foiled by the falsiness of zero, which means that we cannot use it to *validate* a numeric value of zero, if we want to do that:"
   ]
  },
  {
   "cell_type": "code",
   "execution_count": 11,
   "metadata": {
    "collapsed": false
   },
   "outputs": [
    {
     "name": "stdout",
     "output_type": "stream",
     "text": [
      "false\n"
     ]
    },
    {
     "data": {
      "text/plain": [
       "undefined"
      ]
     },
     "execution_count": 11,
     "metadata": {},
     "output_type": "execute_result"
    }
   ],
   "source": [
    "function isTruthy(value) {\n",
    "  return (!value) ? false : true; \n",
    "}\n",
    "\n",
    "console.log(isTruthy(0));         // => false"
   ]
  },
  {
   "cell_type": "markdown",
   "metadata": {},
   "source": [
    "A second condition must be added to handle the falsiness of zero:"
   ]
  },
  {
   "cell_type": "code",
   "execution_count": 16,
   "metadata": {
    "collapsed": false
   },
   "outputs": [
    {
     "name": "stdout",
     "output_type": "stream",
     "text": [
      "false\n",
      "false\n",
      "false\n",
      "true\n",
      "true\n",
      "false\n"
     ]
    },
    {
     "data": {
      "text/plain": [
       "undefined"
      ]
     },
     "execution_count": 16,
     "metadata": {},
     "output_type": "execute_result"
    }
   ],
   "source": [
    "function isTruthy(value) {\n",
    "  return (!value || value === 0) ? false : true; \n",
    "}\n",
    "\n",
    "console.log(isTruthy(null));      // => false\n",
    "console.log(isTruthy(\"\"));        // => false\n",
    "console.log(isTruthy(undefined)); // => false\n",
    "\n",
    "console.log(isTruthy(1));         // => true\n",
    "console.log(isTruthy(\"foo\"));     // => true\n",
    "\n",
    "console.log(isTruthy(0));         // => false"
   ]
  },
  {
   "cell_type": "markdown",
   "metadata": {},
   "source": [
    "### Generating id numbers using `Date()`"
   ]
  },
  {
   "cell_type": "code",
   "execution_count": 1,
   "metadata": {
    "collapsed": false
   },
   "outputs": [
    {
     "name": "stdout",
     "output_type": "stream",
     "text": [
      "1434946515996\n"
     ]
    },
    {
     "data": {
      "text/plain": [
       "undefined"
      ]
     },
     "execution_count": 1,
     "metadata": {},
     "output_type": "execute_result"
    }
   ],
   "source": [
    "var id = (new Date()).getTime();\n",
    "console.log(id);"
   ]
  },
  {
   "cell_type": "markdown",
   "metadata": {},
   "source": [
    "## Variables"
   ]
  },
  {
   "cell_type": "markdown",
   "metadata": {},
   "source": [
    "Test to see if a variable is defined, and if it’s undefined, set it:"
   ]
  },
  {
   "cell_type": "code",
   "execution_count": 1,
   "metadata": {
    "collapsed": false
   },
   "outputs": [
    {
     "name": "stdout",
     "output_type": "stream",
     "text": [
      "foo\n"
     ]
    },
    {
     "data": {
      "text/html": [
       "<pre>undefined</pre>"
      ],
      "text/plain": [
       "undefined"
      ]
     },
     "execution_count": 1,
     "metadata": {},
     "output_type": "execute_result"
    }
   ],
   "source": [
    "var myString = \"foo\";\n",
    "myString = myString || \"bar\";\n",
    "\n",
    "console.log(myString); // => \"foo\""
   ]
  },
  {
   "cell_type": "code",
   "execution_count": 2,
   "metadata": {
    "collapsed": false
   },
   "outputs": [
    {
     "name": "stdout",
     "output_type": "stream",
     "text": [
      "bar\n"
     ]
    },
    {
     "data": {
      "text/html": [
       "<pre>undefined</pre>"
      ],
      "text/plain": [
       "undefined"
      ]
     },
     "execution_count": 2,
     "metadata": {},
     "output_type": "execute_result"
    }
   ],
   "source": [
    "var myString = \"\";\n",
    "myString = myString || \"bar\";\n",
    "\n",
    "console.log(myString); // => \"bar\""
   ]
  },
  {
   "cell_type": "markdown",
   "metadata": {},
   "source": [
    "Use the above to test for omitted optional function parameters (see [JavaScript Function Parameters](http://www.w3schools.com/js/js_function_parameters.asp)):"
   ]
  },
  {
   "cell_type": "code",
   "execution_count": 3,
   "metadata": {
    "collapsed": false
   },
   "outputs": [
    {
     "name": "stdout",
     "output_type": "stream",
     "text": [
      "[ 1, 0 ]\n",
      "[ 1, 2 ]\n"
     ]
    },
    {
     "data": {
      "text/html": [
       "<pre>undefined</pre>"
      ],
      "text/plain": [
       "undefined"
      ]
     },
     "execution_count": 3,
     "metadata": {},
     "output_type": "execute_result"
    }
   ],
   "source": [
    "function myFunction(x, y) {\n",
    "    y = y || 0;\n",
    "    return [x, y];\n",
    "}\n",
    "console.log(myFunction(1));    // => [1, 0]\n",
    "console.log(myFunction(1, 2)); // => [1, 2]"
   ]
  },
  {
   "cell_type": "markdown",
   "metadata": {},
   "source": [
    "The above approaches are better than using an expression like `if (!value) ...`, because of the falsiness of zero. Here, that expression works as intended, assigning the value `1` to the omitted function parameter `y`:"
   ]
  },
  {
   "cell_type": "code",
   "execution_count": 4,
   "metadata": {
    "collapsed": false
   },
   "outputs": [
    {
     "name": "stdout",
     "output_type": "stream",
     "text": [
      "0 1\n"
     ]
    },
    {
     "data": {
      "text/plain": [
       "undefined"
      ]
     },
     "execution_count": 4,
     "metadata": {},
     "output_type": "execute_result"
    }
   ],
   "source": [
    "function myFunction(x, y) {\n",
    "    if (!y) y = 1;\n",
    "    console.log(x, y);\n",
    "}\n",
    "\n",
    "myFunction(0); // => \"0 1\""
   ]
  },
  {
   "cell_type": "markdown",
   "metadata": {},
   "source": [
    "Here, however, it does not work as intended. Because zero is falsey, `!0` returns `true`, and we cannot set the `y` parameter to the value `0`:"
   ]
  },
  {
   "cell_type": "code",
   "execution_count": 10,
   "metadata": {
    "collapsed": false
   },
   "outputs": [
    {
     "name": "stdout",
     "output_type": "stream",
     "text": [
      "Zero is falsey\n",
      "1 1\n"
     ]
    },
    {
     "data": {
      "text/plain": [
       "undefined"
      ]
     },
     "execution_count": 10,
     "metadata": {},
     "output_type": "execute_result"
    }
   ],
   "source": [
    "if (0) console.log('Zero is truthy');  // => \"\"\n",
    "if (!0) console.log('Zero is falsey'); // => \"Zero is falsey\"\n",
    "\n",
    "function myFunction(x, y) {\n",
    "    if (!y) y = 1;                     // `(!0)` will return `true` here\n",
    "    console.log(x, y);\n",
    "}\n",
    "\n",
    "// We want to set `y` to `0`, but it gets set to `1`\n",
    "myFunction(1, 0); // => \"1 1\""
   ]
  },
  {
   "cell_type": "markdown",
   "metadata": {},
   "source": [
    "## Strings"
   ]
  },
  {
   "cell_type": "markdown",
   "metadata": {},
   "source": [
    "Replace (here, leading and trailing spaces) using regexp:"
   ]
  },
  {
   "cell_type": "code",
   "execution_count": 5,
   "metadata": {
    "collapsed": false
   },
   "outputs": [
    {
     "name": "stdout",
     "output_type": "stream",
     "text": [
      "I'm a string without leading or trailing spaces\n"
     ]
    },
    {
     "data": {
      "text/html": [
       "<pre>undefined</pre>"
      ],
      "text/plain": [
       "undefined"
      ]
     },
     "execution_count": 5,
     "metadata": {},
     "output_type": "execute_result"
    }
   ],
   "source": [
    "var myString = \"   I'm a string   \";\n",
    "\n",
    "// => \"I'm a string without leading or trailing spaces\"\n",
    "console.log(myString.replace(/^\\s+|\\s+$/g, \"\") +\n",
    "    \" without leading or trailing spaces\");"
   ]
  },
  {
   "cell_type": "markdown",
   "metadata": {},
   "source": [
    "Test for presence of a substring using `indexOf()`:"
   ]
  },
  {
   "cell_type": "code",
   "execution_count": 6,
   "metadata": {
    "collapsed": false
   },
   "outputs": [
    {
     "name": "stdout",
     "output_type": "stream",
     "text": [
      "true\n"
     ]
    },
    {
     "data": {
      "text/html": [
       "<pre>undefined</pre>"
      ],
      "text/plain": [
       "undefined"
      ]
     },
     "execution_count": 6,
     "metadata": {},
     "output_type": "execute_result"
    }
   ],
   "source": [
    "var myString = \"foobar\";\n",
    "console.log(myString.indexOf(\"foo\") !== -1); // => true"
   ]
  },
  {
   "cell_type": "markdown",
   "metadata": {},
   "source": [
    "## Arrays"
   ]
  },
  {
   "cell_type": "markdown",
   "metadata": {},
   "source": [
    "Test for presence of element of an array using `indexOf()`:"
   ]
  },
  {
   "cell_type": "code",
   "execution_count": 7,
   "metadata": {
    "collapsed": false
   },
   "outputs": [
    {
     "name": "stdout",
     "output_type": "stream",
     "text": [
      "true\n",
      "true\n"
     ]
    },
    {
     "data": {
      "text/html": [
       "<pre>undefined</pre>"
      ],
      "text/plain": [
       "undefined"
      ]
     },
     "execution_count": 7,
     "metadata": {},
     "output_type": "execute_result"
    }
   ],
   "source": [
    "console.log([1, 2, 3].indexOf(1) !== -1);         // => true\n",
    "console.log([\"foo\", \"bar\"].indexOf(\"foo\") !== -1) // => true"
   ]
  },
  {
   "cell_type": "markdown",
   "metadata": {},
   "source": [
    "Use the `.map()` method instead of a `for` loop to transform an array:"
   ]
  },
  {
   "cell_type": "code",
   "execution_count": 8,
   "metadata": {
    "collapsed": false
   },
   "outputs": [
    {
     "name": "stdout",
     "output_type": "stream",
     "text": [
      "[ 0, 2, 4, 6, 8 ]\n"
     ]
    },
    {
     "data": {
      "text/html": [
       "<pre>undefined</pre>"
      ],
      "text/plain": [
       "undefined"
      ]
     },
     "execution_count": 8,
     "metadata": {},
     "output_type": "execute_result"
    }
   ],
   "source": [
    "var myArray = [0, 1, 2, 3, 4];\n",
    "var myArrayTransformed = myArray.map(function(arrayElement) {\n",
    "        return arrayElement * 2;\n",
    "    });\n",
    "console.log(myArrayTransformed); // => [ 0, 2, 4, 6, 8 ]"
   ]
  },
  {
   "cell_type": "markdown",
   "metadata": {},
   "source": [
    "## Objects"
   ]
  },
  {
   "cell_type": "markdown",
   "metadata": {},
   "source": [
    "Extend obj1 with properties of obj2:"
   ]
  },
  {
   "cell_type": "code",
   "execution_count": 9,
   "metadata": {
    "collapsed": false
   },
   "outputs": [
    {
     "name": "stdout",
     "output_type": "stream",
     "text": [
      "{ abstraction: 'high', concretion: 'low' }\n"
     ]
    },
    {
     "data": {
      "text/html": [
       "<pre>undefined</pre>"
      ],
      "text/plain": [
       "undefined"
      ]
     },
     "execution_count": 9,
     "metadata": {},
     "output_type": "execute_result"
    }
   ],
   "source": [
    "var obj1 = {\n",
    "    abstraction: \"high\"\n",
    "};\n",
    "\n",
    "var obj2 = {\n",
    "    abstraction: \"middling\",\n",
    "    concretion:  \"low\"\n",
    "};\n",
    "\n",
    "function extend(obj1, obj2) {\n",
    "    for (var prop in obj2) {\n",
    "\n",
    "        // Skip properties already belonging to obj1\n",
    "        if (prop in obj1) {\n",
    "            continue;\n",
    "        } else {\n",
    "            obj1[prop] = obj2[prop];\n",
    "        }\n",
    "    }\n",
    "}\n",
    "\n",
    "extend(obj1, obj2);\n",
    "console.log(obj1);"
   ]
  },
  {
   "cell_type": "code",
   "execution_count": null,
   "metadata": {
    "collapsed": true
   },
   "outputs": [],
   "source": []
  },
  {
   "cell_type": "markdown",
   "metadata": {},
   "source": [
    "## Functions"
   ]
  },
  {
   "cell_type": "markdown",
   "metadata": {},
   "source": [
    "### Recursion"
   ]
  },
  {
   "cell_type": "markdown",
   "metadata": {},
   "source": [
    "Strips leading space, invoking itself recursively:"
   ]
  },
  {
   "cell_type": "code",
   "execution_count": 10,
   "metadata": {
    "collapsed": false
   },
   "outputs": [
    {
     "name": "stdout",
     "output_type": "stream",
     "text": [
      "[foo   ]\n"
     ]
    },
    {
     "data": {
      "text/html": [
       "<pre>undefined</pre>"
      ],
      "text/plain": [
       "undefined"
      ]
     },
     "execution_count": 10,
     "metadata": {},
     "output_type": "execute_result"
    }
   ],
   "source": [
    "function stripLeadingSpace(input) {\n",
    "    while (input.charAt(0) == \" \") {\n",
    "        input = input.substring(1, input.length);\n",
    "        stripLeadingSpace(input);\n",
    "    }\n",
    "    return input;\n",
    "}\n",
    "\n",
    "// => \"[foo   ]\"\n",
    "console.log(\"[\" + stripLeadingSpace(\"   foo   \") +\"]\");"
   ]
  },
  {
   "cell_type": "markdown",
   "metadata": {},
   "source": [
    "Strips trailing space, invoking itself recursively:"
   ]
  },
  {
   "cell_type": "code",
   "execution_count": 11,
   "metadata": {
    "collapsed": false
   },
   "outputs": [
    {
     "name": "stdout",
     "output_type": "stream",
     "text": [
      "[   bar]\n"
     ]
    },
    {
     "data": {
      "text/html": [
       "<pre>undefined</pre>"
      ],
      "text/plain": [
       "undefined"
      ]
     },
     "execution_count": 11,
     "metadata": {},
     "output_type": "execute_result"
    }
   ],
   "source": [
    "function stripTrailingSpace(input) {\n",
    "    while (input.charAt(input.length - 1) == \" \") {\n",
    "        input = input.substring(0, input.length - 1);\n",
    "        stripTrailingSpace(input);\n",
    "    }\n",
    "    return input;\n",
    "}\n",
    "\n",
    "// => \"[   bar]\"\n",
    "console.log(\"[\" + stripTrailingSpace(\"   bar   \") + \"]\");"
   ]
  },
  {
   "cell_type": "markdown",
   "metadata": {},
   "source": [
    "## DOM manipulation"
   ]
  },
  {
   "cell_type": "markdown",
   "metadata": {},
   "source": [
    "* Instead of using `window.onload = …`, which can be overwritten by use of the same event handler elsewhere, use `window.AddEventListener('load', function() {…});` or `window.AddEventListener('DOMContentLoaded', function() {…});`.\n",
    "* Use a document fragment (`var frag = document.createDocumentFragment();`) for efficiency in DOM manipulation: append all children to the fragment, then append the fragment to an existing DOM element. This means only a single manipulation of the DOM, rather than many."
   ]
  },
  {
   "cell_type": "markdown",
   "metadata": {},
   "source": [
    "### Get and validate form input data"
   ]
  },
  {
   "cell_type": "code",
   "execution_count": null,
   "metadata": {
    "collapsed": true
   },
   "outputs": [],
   "source": [
    "// Object constructor function passed to function below.\n",
    "function Constructor() {\n",
    "    \n",
    "    // Include an `id` property generated from the current time in seconds.\n",
    "    this.id = Math.floor(Date.now() / 1000);\n",
    "}\n",
    "\n",
    "\n",
    "/**\n",
    " * Returns an object including selected 'id' and 'value' attributes\n",
    " * of form input elements. Optionally, calls a validator function\n",
    " * and an object constructor function.\n",
    " *\n",
    " * @param  {string} formId         'id' attribute of a form element\n",
    " * @param  {array} inputIds        'id' attributes of desired form input elements\n",
    " * @param  {function} validator    Function to validate form input element values\n",
    " * @param  {function} Constructor  Object constructor function\n",
    " * @return {object}\n",
    " */\n",
    "function getFormInputData(formId, inputIds, validator, Constructor) {\n",
    "\n",
    "    /* Get input elements of the form element with the 'id' attribute\n",
    "    provided as the `formId` parameter, and create a new empty object\n",
    "    using the `Constructor` parameter. */\n",
    "    var formInputData = document.forms[formId].getElementsByTagName('input'),\n",
    "        myObject = new Constructor();\n",
    "\n",
    "    /* Iterate over `formInputData` selecting those items whose 'id' attributes\n",
    "    appear in the `inputIds` array, adding their 'id' attributes as properties\n",
    "    of the object `myObject` and their 'value' attributes as property values. */\n",
    "    for (var i = 0, l = formInputData.length; i < l; i++) {\n",
    "        var formInputDataItemId  = formInputData[i].id,\n",
    "            formInputDataItemVal = formInputData[i].value;\n",
    "\n",
    "        if (inputIds.indexOf(formInputDataItemId) !== -1) {\n",
    "            if (!validator(formInputDataItemVal)) return false;\n",
    "            myObject[formInputDataItemId] = formInputDataItemVal;\n",
    "        }\n",
    "    }\n",
    "\n",
    "    return myObject;\n",
    "}"
   ]
  }
 ],
 "metadata": {
  "kernelspec": {
   "display_name": "Javascript (Node.js)",
   "language": "javascript",
   "name": "javascript"
  },
  "language_info": {
   "file_extension": "js",
   "mimetype": "application/javascript",
   "name": "javascript",
   "version": "0.12.4"
  }
 },
 "nbformat": 4,
 "nbformat_minor": 0
}
