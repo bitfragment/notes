{
 "cells": [
  {
   "cell_type": "markdown",
   "metadata": {},
   "source": [
    "# JavaScript pragmatics"
   ]
  },
  {
   "cell_type": "markdown",
   "metadata": {},
   "source": [
    "## Some recurring choices\n",
    "\n",
    "Programing style considerations and best practices issues, not exclusively related to ES5/6 spec support.\n",
    "\n",
    "### Variable naming\n",
    "\n",
    "(Refs: [1](http://stackoverflow.com/questions/101070/what-is-an-ideal-variable-naming-convention-for-loop-variables); [2](http://stackoverflow.com/questions/2886320/int-i-vs-int-index-etc-which-one-is-better); [3](http://programmers.stackexchange.com/questions/71710/using-single-characters-for-variable-names-in-loops-exceptions); [4](http://stackoverflow.com/questions/2076146/do-you-use-1-3-letters-variables-everywhere))\n",
    "\n",
    "* The wider the scope of a variable, the more descriptive a variable name should be\n",
    "* Single-letter variable names: `i`, `j`, `k` as loop iterators are widely considered acceptable, as well as `e` for event\n",
    "    * `l` is hard to read (can be mistaken for `1`), so don't use\n",
    "* More broadly: `i, j, k, m, n` for integers and `x, y, z` for non-integers\n",
    "* Three/four-letter variable names: `val`; `num`, `int`, `sum`; `str`, `char`; `arr`, `elt`, `obj`, `prop`; `out`, `err`\n",
    "* Use prefix `n` to indicate number of objects: `nFiles`\n",
    "\n",
    "### Function naming\n",
    "\n",
    "Describe what the function does: `getMin` gets a minimum of values passed in as parameters.\n",
    "\n",
    "I struggle with context specificity. If a parameter is an array, is `getArrayMin` better?\n",
    "\n",
    "Using function names in function expressions if you want a function name rather than a binding to show up in a stack trace. E.g.: `window.onload = function init() {...};` rather than `window.onload = function() {...};` This is recommended in Braithwaite, *JavaScript Allongé* (and the example given is also an event listener: `someBackboneView.on('click', function clickHandler() {...};`).\n",
    "\n",
    "### Iterating over arrays\n",
    "\n",
    "Using `for..in` where array length and index order are unimportant; using a `for` loop or ES5 `forEach()` otherwise."
   ]
  },
  {
   "cell_type": "markdown",
   "metadata": {},
   "source": [
    "## Primitives"
   ]
  },
  {
   "cell_type": "markdown",
   "metadata": {},
   "source": [
    "### Validation"
   ]
  },
  {
   "cell_type": "markdown",
   "metadata": {},
   "source": [
    "Very basic validation, rejecting null, undefined, and empty string:"
   ]
  },
  {
   "cell_type": "code",
   "execution_count": 48,
   "metadata": {
    "collapsed": false
   },
   "outputs": [
    {
     "name": "stdout",
     "output_type": "stream",
     "text": [
      "false\n",
      "false\n",
      "false\n",
      "true\n",
      "true\n"
     ]
    },
    {
     "data": {
      "text/plain": [
       "undefined"
      ]
     },
     "execution_count": 48,
     "metadata": {},
     "output_type": "execute_result"
    }
   ],
   "source": [
    "function isTruthy(value) {\n",
    "  return (!value) ? false : true; \n",
    "}\n",
    "\n",
    "console.log(isTruthy(null));      // => false\n",
    "console.log(isTruthy(\"\"));        // => false\n",
    "console.log(isTruthy(undefined)); // => false\n",
    "\n",
    "console.log(isTruthy(1));         // => true\n",
    "console.log(isTruthy(\"foo\"));     // => true"
   ]
  },
  {
   "cell_type": "markdown",
   "metadata": {},
   "source": [
    "However, this approach is foiled by the falsiness of zero, which means that we cannot use it to *validate* a numeric value of zero, if we want to do that:"
   ]
  },
  {
   "cell_type": "code",
   "execution_count": 11,
   "metadata": {
    "collapsed": false
   },
   "outputs": [
    {
     "name": "stdout",
     "output_type": "stream",
     "text": [
      "false\n"
     ]
    },
    {
     "data": {
      "text/plain": [
       "undefined"
      ]
     },
     "execution_count": 11,
     "metadata": {},
     "output_type": "execute_result"
    }
   ],
   "source": [
    "function isTruthy(value) {\n",
    "  return (!value) ? false : true; \n",
    "}\n",
    "\n",
    "console.log(isTruthy(0));         // => false"
   ]
  },
  {
   "cell_type": "markdown",
   "metadata": {},
   "source": [
    "A second condition must be added to handle the falsiness of zero:"
   ]
  },
  {
   "cell_type": "code",
   "execution_count": 16,
   "metadata": {
    "collapsed": false
   },
   "outputs": [
    {
     "name": "stdout",
     "output_type": "stream",
     "text": [
      "false\n",
      "false\n",
      "false\n",
      "true\n",
      "true\n",
      "false\n"
     ]
    },
    {
     "data": {
      "text/plain": [
       "undefined"
      ]
     },
     "execution_count": 16,
     "metadata": {},
     "output_type": "execute_result"
    }
   ],
   "source": [
    "function isTruthy(value) {\n",
    "  return (!value || value === 0) ? false : true; \n",
    "}\n",
    "\n",
    "console.log(isTruthy(null));      // => false\n",
    "console.log(isTruthy(\"\"));        // => false\n",
    "console.log(isTruthy(undefined)); // => false\n",
    "\n",
    "console.log(isTruthy(1));         // => true\n",
    "console.log(isTruthy(\"foo\"));     // => true\n",
    "\n",
    "console.log(isTruthy(0));         // => false"
   ]
  },
  {
   "cell_type": "markdown",
   "metadata": {},
   "source": [
    "### Generating id numbers using `Date()`"
   ]
  },
  {
   "cell_type": "code",
   "execution_count": 1,
   "metadata": {
    "collapsed": false
   },
   "outputs": [
    {
     "name": "stdout",
     "output_type": "stream",
     "text": [
      "1434996776536\n",
      "1434996776\n"
     ]
    },
    {
     "data": {
      "text/plain": [
       "undefined"
      ]
     },
     "execution_count": 1,
     "metadata": {},
     "output_type": "execute_result"
    }
   ],
   "source": [
    "var id = Date.now(); // milliseconds\n",
    "console.log(id);\n",
    "\n",
    "id = Math.floor(Date.now() / 1000); // seconds\n",
    "console.log(id);"
   ]
  },
  {
   "cell_type": "markdown",
   "metadata": {},
   "source": [
    "## Variables"
   ]
  },
  {
   "cell_type": "markdown",
   "metadata": {},
   "source": [
    "Although `typeof` returns 'undefined' for **both *undefined* and *undeclared* variables**, it is the only way to test for an undeclared variable without throwing a `ReferenceError`:"
   ]
  },
  {
   "cell_type": "code",
   "execution_count": 4,
   "metadata": {
    "collapsed": false
   },
   "outputs": [
    {
     "ename": "ReferenceError",
     "evalue": "evalmachine.<anonymous>:2\nmyUndeclaredVariable \n^\nmyUndeclaredVariable is not defined",
     "output_type": "error",
     "traceback": [
      "evalmachine.<anonymous>:2",
      "myUndeclaredVariable ",
      "^",
      "ReferenceError: myUndeclaredVariable is not defined",
      "    at evalmachine.<anonymous>:2:1",
      "    at Object.exports.runInThisContext (vm.js:74:17)",
      "    at run ([eval]:179:19)",
      "    at onMessage ([eval]:63:41)",
      "    at process.emit (events.js:110:17)",
      "    at handleMessage (child_process.js:324:10)",
      "    at Pipe.channel.onread (child_process.js:352:11)"
     ]
    }
   ],
   "source": [
    "// throws ReferenceError\n",
    "myUndeclaredVariable \n",
    "    ? console.log('SUCCESS: myUndeclaredVariable was declared')\n",
    "    : console.log('FAILURE: myUndeclaredVariable was not declared');"
   ]
  },
  {
   "cell_type": "code",
   "execution_count": 6,
   "metadata": {
    "collapsed": false
   },
   "outputs": [
    {
     "data": {
      "text/plain": [
       "'undefined'"
      ]
     },
     "execution_count": 6,
     "metadata": {},
     "output_type": "execute_result"
    }
   ],
   "source": [
    "/* At least returns 'undefined', though doesn't distinguish between \n",
    "   variables that haven't been declared at all, and variables that have \n",
    "   been declared but not initalized */\n",
    "typeof myUndeclaredVariable; // => 'undefined'"
   ]
  },
  {
   "cell_type": "markdown",
   "metadata": {},
   "source": [
    "Test to see if a variable is defined, and if it’s undefined, set it:"
   ]
  },
  {
   "cell_type": "code",
   "execution_count": 1,
   "metadata": {
    "collapsed": false
   },
   "outputs": [
    {
     "name": "stdout",
     "output_type": "stream",
     "text": [
      "foo\n"
     ]
    },
    {
     "data": {
      "text/html": [
       "<pre>undefined</pre>"
      ],
      "text/plain": [
       "undefined"
      ]
     },
     "execution_count": 1,
     "metadata": {},
     "output_type": "execute_result"
    }
   ],
   "source": [
    "var myString = \"foo\";\n",
    "myString = myString || \"bar\";\n",
    "\n",
    "console.log(myString); // => \"foo\""
   ]
  },
  {
   "cell_type": "code",
   "execution_count": 2,
   "metadata": {
    "collapsed": false
   },
   "outputs": [
    {
     "name": "stdout",
     "output_type": "stream",
     "text": [
      "bar\n"
     ]
    },
    {
     "data": {
      "text/html": [
       "<pre>undefined</pre>"
      ],
      "text/plain": [
       "undefined"
      ]
     },
     "execution_count": 2,
     "metadata": {},
     "output_type": "execute_result"
    }
   ],
   "source": [
    "var myString = \"\";\n",
    "myString = myString || \"bar\";\n",
    "\n",
    "console.log(myString); // => \"bar\""
   ]
  },
  {
   "cell_type": "markdown",
   "metadata": {},
   "source": [
    "Use the above to test for omitted optional function parameters (see [JavaScript Function Parameters](http://www.w3schools.com/js/js_function_parameters.asp)):"
   ]
  },
  {
   "cell_type": "code",
   "execution_count": 3,
   "metadata": {
    "collapsed": false
   },
   "outputs": [
    {
     "name": "stdout",
     "output_type": "stream",
     "text": [
      "[ 1, 0 ]\n",
      "[ 1, 2 ]\n"
     ]
    },
    {
     "data": {
      "text/html": [
       "<pre>undefined</pre>"
      ],
      "text/plain": [
       "undefined"
      ]
     },
     "execution_count": 3,
     "metadata": {},
     "output_type": "execute_result"
    }
   ],
   "source": [
    "function myFunction(x, y) {\n",
    "    y = y || 0;\n",
    "    return [x, y];\n",
    "}\n",
    "console.log(myFunction(1));    // => [1, 0]\n",
    "console.log(myFunction(1, 2)); // => [1, 2]"
   ]
  },
  {
   "cell_type": "markdown",
   "metadata": {},
   "source": [
    "The above approaches are better than using an expression like `if (!value) ...`, because of the falsiness of zero. Here, that expression works as intended, assigning the value `1` to the omitted function parameter `y`:"
   ]
  },
  {
   "cell_type": "code",
   "execution_count": 4,
   "metadata": {
    "collapsed": false
   },
   "outputs": [
    {
     "name": "stdout",
     "output_type": "stream",
     "text": [
      "0 1\n"
     ]
    },
    {
     "data": {
      "text/plain": [
       "undefined"
      ]
     },
     "execution_count": 4,
     "metadata": {},
     "output_type": "execute_result"
    }
   ],
   "source": [
    "function myFunction(x, y) {\n",
    "    if (!y) y = 1;\n",
    "    console.log(x, y);\n",
    "}\n",
    "\n",
    "myFunction(0); // => \"0 1\""
   ]
  },
  {
   "cell_type": "markdown",
   "metadata": {},
   "source": [
    "Here, however, it does not work as intended. Because zero is falsey, `!0` returns `true`, and we cannot set the `y` parameter to the value `0`:"
   ]
  },
  {
   "cell_type": "code",
   "execution_count": 10,
   "metadata": {
    "collapsed": false
   },
   "outputs": [
    {
     "name": "stdout",
     "output_type": "stream",
     "text": [
      "Zero is falsey\n",
      "1 1\n"
     ]
    },
    {
     "data": {
      "text/plain": [
       "undefined"
      ]
     },
     "execution_count": 10,
     "metadata": {},
     "output_type": "execute_result"
    }
   ],
   "source": [
    "if (0) console.log('Zero is truthy');  // => \"\"\n",
    "if (!0) console.log('Zero is falsey'); // => \"Zero is falsey\"\n",
    "\n",
    "function myFunction(x, y) {\n",
    "    if (!y) y = 1;                     // `(!0)` will return `true` here\n",
    "    console.log(x, y);\n",
    "}\n",
    "\n",
    "// We want to set `y` to `0`, but it gets set to `1`\n",
    "myFunction(1, 0); // => \"1 1\""
   ]
  },
  {
   "cell_type": "markdown",
   "metadata": {},
   "source": [
    "## Strings"
   ]
  },
  {
   "cell_type": "markdown",
   "metadata": {},
   "source": [
    "String validation using a regexp and the RegExp prototype's `test()` method:"
   ]
  },
  {
   "cell_type": "code",
   "execution_count": 22,
   "metadata": {
    "collapsed": false
   },
   "outputs": [
    {
     "name": "stdout",
     "output_type": "stream",
     "text": [
      "true\n"
     ]
    },
    {
     "data": {
      "text/plain": [
       "undefined"
      ]
     },
     "execution_count": 22,
     "metadata": {},
     "output_type": "execute_result"
    }
   ],
   "source": [
    "console.log(/\\d{5}/.test('12345')); // => true"
   ]
  },
  {
   "cell_type": "markdown",
   "metadata": {},
   "source": [
    "Title casing: use the String prototype's `charAt()` method to get a single character, and the `substring()` or `slice()` methods, passing only the starting index, to get the remaining portion of a string:"
   ]
  },
  {
   "cell_type": "code",
   "execution_count": 17,
   "metadata": {
    "collapsed": false
   },
   "outputs": [
    {
     "name": "stdout",
     "output_type": "stream",
     "text": [
      "Foo\n",
      "Foo\n"
     ]
    },
    {
     "data": {
      "text/plain": [
       "undefined"
      ]
     },
     "execution_count": 17,
     "metadata": {},
     "output_type": "execute_result"
    }
   ],
   "source": [
    "var str = 'foo';\n",
    "console.log(str.charAt(0).toUpperCase() + str.substring(1)); // => 'Foo'\n",
    "console.log(str.charAt(0).toUpperCase() + str.slice(1));     // => 'Foo'"
   ]
  },
  {
   "cell_type": "markdown",
   "metadata": {},
   "source": [
    "Replace (here, leading and trailing spaces) using regexp:"
   ]
  },
  {
   "cell_type": "code",
   "execution_count": 5,
   "metadata": {
    "collapsed": false
   },
   "outputs": [
    {
     "name": "stdout",
     "output_type": "stream",
     "text": [
      "I'm a string without leading or trailing spaces\n"
     ]
    },
    {
     "data": {
      "text/html": [
       "<pre>undefined</pre>"
      ],
      "text/plain": [
       "undefined"
      ]
     },
     "execution_count": 5,
     "metadata": {},
     "output_type": "execute_result"
    }
   ],
   "source": [
    "var myString = \"   I'm a string   \";\n",
    "\n",
    "// => \"I'm a string without leading or trailing spaces\"\n",
    "console.log(myString.replace(/^\\s+|\\s+$/g, \"\") +\n",
    "    \" without leading or trailing spaces\");"
   ]
  },
  {
   "cell_type": "markdown",
   "metadata": {},
   "source": [
    "Test for presence of a substring using `indexOf()`:"
   ]
  },
  {
   "cell_type": "code",
   "execution_count": 6,
   "metadata": {
    "collapsed": false
   },
   "outputs": [
    {
     "name": "stdout",
     "output_type": "stream",
     "text": [
      "true\n"
     ]
    },
    {
     "data": {
      "text/html": [
       "<pre>undefined</pre>"
      ],
      "text/plain": [
       "undefined"
      ]
     },
     "execution_count": 6,
     "metadata": {},
     "output_type": "execute_result"
    }
   ],
   "source": [
    "var myString = \"foobar\";\n",
    "console.log(myString.indexOf(\"foo\") !== -1); // => true"
   ]
  },
  {
   "cell_type": "markdown",
   "metadata": {},
   "source": [
    "## Arrays"
   ]
  },
  {
   "cell_type": "markdown",
   "metadata": {},
   "source": [
    "Test for presence of element of an array using `indexOf()`:"
   ]
  },
  {
   "cell_type": "code",
   "execution_count": 7,
   "metadata": {
    "collapsed": false
   },
   "outputs": [
    {
     "name": "stdout",
     "output_type": "stream",
     "text": [
      "true\n",
      "true\n"
     ]
    },
    {
     "data": {
      "text/html": [
       "<pre>undefined</pre>"
      ],
      "text/plain": [
       "undefined"
      ]
     },
     "execution_count": 7,
     "metadata": {},
     "output_type": "execute_result"
    }
   ],
   "source": [
    "console.log([1, 2, 3].indexOf(1) !== -1);         // => true\n",
    "console.log([\"foo\", \"bar\"].indexOf(\"foo\") !== -1) // => true"
   ]
  },
  {
   "cell_type": "markdown",
   "metadata": {},
   "source": [
    "### Iterating over an array"
   ]
  },
  {
   "cell_type": "markdown",
   "metadata": {},
   "source": [
    "One can use `for..in` if **neither the index order nor the length of the array** are meaningful. ES 5 `forEach()` is an alternative to the `for` loop, but a `forEach()` loop cannot be stopped or broken."
   ]
  },
  {
   "cell_type": "markdown",
   "metadata": {},
   "source": [
    "Using `for..in`. Note [for...in - JavaScript | MDN](https://developer.mozilla.org/en-US/docs/Web/JavaScript/Reference/Statements/for...in):\n",
    "\n",
    ">  There is no guarantee that for...in will return the indexes in any particular order and it will return all enumerable properties, including those with non–integer names and those that are inherited.\n",
    ">\n",
    "> Because the order of iteration is implementation-dependent, iterating over an array may not visit elements in a consistent order. Therefore it is better to use a for loop with a numeric index (or Array.prototype.forEach() or the for...of loop) when iterating over arrays where the order of access is important."
   ]
  },
  {
   "cell_type": "code",
   "execution_count": 8,
   "metadata": {
    "collapsed": false
   },
   "outputs": [
    {
     "name": "stdout",
     "output_type": "stream",
     "text": [
      "1\n",
      "2\n",
      "3\n"
     ]
    },
    {
     "data": {
      "text/plain": [
       "undefined"
      ]
     },
     "execution_count": 8,
     "metadata": {},
     "output_type": "execute_result"
    }
   ],
   "source": [
    "var a = [1, 2, 3];\n",
    "for (var elt in a) console.log(a[elt]); // 1\\n2\\n3"
   ]
  },
  {
   "cell_type": "markdown",
   "metadata": {},
   "source": [
    "Example of a case where neither index order nor array length are needed: getting the min and max values of an array."
   ]
  },
  {
   "cell_type": "code",
   "execution_count": 11,
   "metadata": {
    "collapsed": false
   },
   "outputs": [
    {
     "name": "stdout",
     "output_type": "stream",
     "text": [
      "[ 1, 1 ]\n",
      "[ 1, 1 ]\n",
      "[ 0, 2 ]\n",
      "[ 0, 2 ]\n",
      "[ 5, 2334454 ]\n"
     ]
    },
    {
     "data": {
      "text/plain": [
       "undefined"
      ]
     },
     "execution_count": 11,
     "metadata": {},
     "output_type": "execute_result"
    }
   ],
   "source": [
    "function getArrayMinMax(a) {\n",
    "    var min = a[0], max = a[0];\n",
    "    for (var elt in a) {\n",
    "        min = (a[elt] < min) ? a[elt] : min;\n",
    "        max = (a[elt] > max) ? a[elt] : max;\n",
    "    }\n",
    "    return [min, max];\n",
    "}\n",
    "\n",
    "console.log(getArrayMinMax([1])); // => [1, 1]\n",
    "console.log(getArrayMinMax([1, 1])); // => [1, 1]\n",
    "console.log(getArrayMinMax([0, 1, 2])); // => [0, 2]\n",
    "console.log(getArrayMinMax([2, 1, 0])); // => [0, 2]\n",
    "console.log(getArrayMinMax([2334454, 5])); // => [5, 2334454]"
   ]
  },
  {
   "cell_type": "markdown",
   "metadata": {},
   "source": [
    "Another example: testing an array for duplicate values."
   ]
  },
  {
   "cell_type": "code",
   "execution_count": 7,
   "metadata": {
    "collapsed": false
   },
   "outputs": [
    {
     "name": "stdout",
     "output_type": "stream",
     "text": [
      "false\n",
      "true\n",
      "false\n",
      "true\n"
     ]
    },
    {
     "data": {
      "text/plain": [
       "undefined"
      ]
     },
     "execution_count": 7,
     "metadata": {},
     "output_type": "execute_result"
    }
   ],
   "source": [
    "function arrayHasDupes(arr) {\n",
    "    var arrCopy = [];\n",
    "    for (var elt in arr) {\n",
    "        if (arrCopy.indexOf(arr[elt]) !== -1) return true;\n",
    "        arrCopy.push(arr[elt]);\n",
    "    }\n",
    "    return false;\n",
    "}\n",
    "\n",
    "console.log(arrayHasDupes([0, 1, 2, 3]));          // => false\n",
    "console.log(arrayHasDupes([0, 1, 1, 3]));          // => true\n",
    "console.log(arrayHasDupes(['foo', 'bar', 'baz'])); // => false\n",
    "console.log(arrayHasDupes(['foo', 'bar', 'foo'])); // => true"
   ]
  },
  {
   "cell_type": "markdown",
   "metadata": {},
   "source": [
    "And another: since strings are arraylike, we can use the same method to determine if a string is an isogram:"
   ]
  },
  {
   "cell_type": "code",
   "execution_count": 9,
   "metadata": {
    "collapsed": false
   },
   "outputs": [
    {
     "name": "stdout",
     "output_type": "stream",
     "text": [
      "true\n",
      "false\n",
      "false\n"
     ]
    },
    {
     "data": {
      "text/plain": [
       "undefined"
      ]
     },
     "execution_count": 9,
     "metadata": {},
     "output_type": "execute_result"
    }
   ],
   "source": [
    "function isIsogram(str) {\n",
    "    if (str === '') return true;\n",
    "    str = str.toLowerCase();\n",
    "    var strCopy = '';\n",
    "    for (var char in str) {\n",
    "        if (strCopy.indexOf(str[char]) !== -1) return false;\n",
    "        strCopy += str[char];\n",
    "    }\n",
    "    return true;\n",
    "}\n",
    "\n",
    "console.log(isIsogram('isogram')); // => true\n",
    "console.log(isIsogram('abba'));    // => false\n",
    "console.log(isIsogram('foO'));     // => false"
   ]
  },
  {
   "cell_type": "markdown",
   "metadata": {},
   "source": [
    "If array index order and/or array length are meaningful values, use a `for` loop (and initialize the length variable inside the loop's initialization expression, rather than in its condition expression):"
   ]
  },
  {
   "cell_type": "code",
   "execution_count": 4,
   "metadata": {
    "collapsed": false
   },
   "outputs": [
    {
     "name": "stdout",
     "output_type": "stream",
     "text": [
      "1\n",
      "2\n",
      "3\n"
     ]
    },
    {
     "data": {
      "text/plain": [
       "undefined"
      ]
     },
     "execution_count": 4,
     "metadata": {},
     "output_type": "execute_result"
    }
   ],
   "source": [
    "var a = [1, 2, 3];\n",
    "for (var i = 0, l = a.length; i < l; i++) console.log(a[i]); // 1\\n2\\n3"
   ]
  },
  {
   "cell_type": "markdown",
   "metadata": {},
   "source": [
    "Using ES5 `forEach()`:"
   ]
  },
  {
   "cell_type": "code",
   "execution_count": 10,
   "metadata": {
    "collapsed": false
   },
   "outputs": [
    {
     "name": "stdout",
     "output_type": "stream",
     "text": [
      "1\n",
      "2\n",
      "3\n"
     ]
    },
    {
     "data": {
      "text/plain": [
       "undefined"
      ]
     },
     "execution_count": 10,
     "metadata": {},
     "output_type": "execute_result"
    }
   ],
   "source": [
    "var a = [1, 2, 3];\n",
    "a.forEach(function(currVal) {console.log(currVal);}); // 1\\n2\\n3"
   ]
  },
  {
   "cell_type": "markdown",
   "metadata": {},
   "source": [
    "### Transforming an array"
   ]
  },
  {
   "cell_type": "markdown",
   "metadata": {},
   "source": [
    "Declarative rather than imperative style: use the Array prototype's `map()` method instead of a `for` loop to transform an array."
   ]
  },
  {
   "cell_type": "code",
   "execution_count": 21,
   "metadata": {
    "collapsed": false
   },
   "outputs": [
    {
     "name": "stdout",
     "output_type": "stream",
     "text": [
      "[ '1', '2', '3' ]\n",
      "[ 1, 2, 3 ]\n"
     ]
    },
    {
     "data": {
      "text/plain": [
       "undefined"
      ]
     },
     "execution_count": 21,
     "metadata": {},
     "output_type": "execute_result"
    }
   ],
   "source": [
    "console.log([1, 2, 3].map(String));       // => ['1', '2', '3']\n",
    "console.log(['1', '2', '3'].map(Number)); // => [1, 2, 3]"
   ]
  },
  {
   "cell_type": "code",
   "execution_count": 18,
   "metadata": {
    "collapsed": false
   },
   "outputs": [
    {
     "name": "stdout",
     "output_type": "stream",
     "text": [
      "[ 1, 2, 3, 4, 5 ]\n"
     ]
    },
    {
     "data": {
      "text/plain": [
       "undefined"
      ]
     },
     "execution_count": 18,
     "metadata": {},
     "output_type": "execute_result"
    }
   ],
   "source": [
    "function intToArr(int) {\n",
    "  return int.toString().split('').map(Number);\n",
    "}\n",
    "\n",
    "console.log(intToArr(12345)); // => [1, 2, 3, 4, 5]"
   ]
  },
  {
   "cell_type": "code",
   "execution_count": 11,
   "metadata": {
    "collapsed": false
   },
   "outputs": [
    {
     "name": "stdout",
     "output_type": "stream",
     "text": [
      "[ 0, 2, 4, 6, 8 ]\n"
     ]
    },
    {
     "data": {
      "text/plain": [
       "undefined"
      ]
     },
     "execution_count": 11,
     "metadata": {},
     "output_type": "execute_result"
    }
   ],
   "source": [
    "var myArray = [0, 1, 2, 3, 4];\n",
    "var myArrayTransformed = myArray.map(function(arrayElement) {\n",
    "        return arrayElement * 2;\n",
    "    });\n",
    "\n",
    "console.log(myArrayTransformed); // => [ 0, 2, 4, 6, 8 ]"
   ]
  },
  {
   "cell_type": "code",
   "execution_count": 12,
   "metadata": {
    "collapsed": false
   },
   "outputs": [
    {
     "name": "stdout",
     "output_type": "stream",
     "text": [
      "[ 'Foo', 'Bar', 'Baz' ]\n",
      "[ 'Foo', 'Bar', 'Baz' ]\n"
     ]
    },
    {
     "data": {
      "text/plain": [
       "undefined"
      ]
     },
     "execution_count": 12,
     "metadata": {},
     "output_type": "execute_result"
    }
   ],
   "source": [
    "function capStrElements(arr) {\n",
    "    return arr.map(function(currVal) {\n",
    "        return currVal.charAt(0).toUpperCase() +\n",
    "               currVal.substring(1).toLowerCase();\n",
    "    });\n",
    "}\n",
    "\n",
    "console.log(capStrElements(['foo', 'bar', 'baz'])); // => ['Foo', 'Bar', 'Baz']\n",
    "console.log(capStrElements(['FOO', 'BAR', 'BAZ'])); // => ['Foo', 'Bar', 'Baz']"
   ]
  },
  {
   "cell_type": "markdown",
   "metadata": {},
   "source": [
    "### Filtering an array"
   ]
  },
  {
   "cell_type": "markdown",
   "metadata": {},
   "source": [
    "Declarative rather than imperative style: use the Array prototype's `filter()` method to filter an array."
   ]
  },
  {
   "cell_type": "code",
   "execution_count": 4,
   "metadata": {
    "collapsed": false
   },
   "outputs": [
    {
     "name": "stdout",
     "output_type": "stream",
     "text": [
      "[ 0, 2, 4 ]\n"
     ]
    },
    {
     "data": {
      "text/plain": [
       "undefined"
      ]
     },
     "execution_count": 4,
     "metadata": {},
     "output_type": "execute_result"
    }
   ],
   "source": [
    "var myArray = [0, 1, 2, 3, 4];\n",
    "var myArrayFiltered = myArray.filter(function(arrayElement) {\n",
    "        return arrayElement % 2 === 0;\n",
    "    });\n",
    "console.log(myArrayFiltered); // => [ 0, 2, 4 ]"
   ]
  },
  {
   "cell_type": "markdown",
   "metadata": {},
   "source": [
    "## Objects"
   ]
  },
  {
   "cell_type": "markdown",
   "metadata": {},
   "source": [
    "### Test for empty object"
   ]
  },
  {
   "cell_type": "code",
   "execution_count": 1,
   "metadata": {
    "collapsed": false
   },
   "outputs": [
    {
     "data": {
      "text/plain": [
       "true"
      ]
     },
     "execution_count": 1,
     "metadata": {},
     "output_type": "execute_result"
    }
   ],
   "source": [
    "Object.keys({}).length === 0; // => true"
   ]
  },
  {
   "cell_type": "markdown",
   "metadata": {},
   "source": [
    "### Extend obj1 with properties of obj2"
   ]
  },
  {
   "cell_type": "code",
   "execution_count": 9,
   "metadata": {
    "collapsed": false
   },
   "outputs": [
    {
     "name": "stdout",
     "output_type": "stream",
     "text": [
      "{ abstraction: 'high', concretion: 'low' }\n"
     ]
    },
    {
     "data": {
      "text/html": [
       "<pre>undefined</pre>"
      ],
      "text/plain": [
       "undefined"
      ]
     },
     "execution_count": 9,
     "metadata": {},
     "output_type": "execute_result"
    }
   ],
   "source": [
    "var obj1 = {\n",
    "    abstraction: \"high\"\n",
    "};\n",
    "\n",
    "var obj2 = {\n",
    "    abstraction: \"middling\",\n",
    "    concretion:  \"low\"\n",
    "};\n",
    "\n",
    "function extend(obj1, obj2) {\n",
    "    for (var prop in obj2) {\n",
    "\n",
    "        // Skip properties already belonging to obj1\n",
    "        if (prop in obj1) {\n",
    "            continue;\n",
    "        } else {\n",
    "            obj1[prop] = obj2[prop];\n",
    "        }\n",
    "    }\n",
    "}\n",
    "\n",
    "extend(obj1, obj2);\n",
    "console.log(obj1);"
   ]
  },
  {
   "cell_type": "markdown",
   "metadata": {},
   "source": [
    "## Control structures"
   ]
  },
  {
   "cell_type": "markdown",
   "metadata": {},
   "source": [
    "Here, `array.length` is called during each iteration. If the array's length is static, this isn't necessary:"
   ]
  },
  {
   "cell_type": "code",
   "execution_count": null,
   "metadata": {
    "collapsed": true
   },
   "outputs": [],
   "source": [
    "for (var i = 0; i < array.length; i++) {...}"
   ]
  },
  {
   "cell_type": "markdown",
   "metadata": {},
   "source": [
    "Here, `array.length` is only called once, during the initialization of the loop. Thereafter its value is stored in the initialization variable `l`:"
   ]
  },
  {
   "cell_type": "code",
   "execution_count": null,
   "metadata": {
    "collapsed": true
   },
   "outputs": [],
   "source": [
    "for (var i = 0, l = array.length; i < l; i++) {...}"
   ]
  },
  {
   "cell_type": "markdown",
   "metadata": {},
   "source": [
    "## Functions"
   ]
  },
  {
   "cell_type": "markdown",
   "metadata": {},
   "source": [
    "### Recursion"
   ]
  },
  {
   "cell_type": "markdown",
   "metadata": {},
   "source": [
    "Formulate a limit for the recursion, either by using a `while` loop or a return statement preceding the recursive call (e.g., `if (limitCond === 0) return val;`)."
   ]
  },
  {
   "cell_type": "markdown",
   "metadata": {},
   "source": [
    "Strips leading space, invoking itself recursively:"
   ]
  },
  {
   "cell_type": "code",
   "execution_count": 10,
   "metadata": {
    "collapsed": false
   },
   "outputs": [
    {
     "name": "stdout",
     "output_type": "stream",
     "text": [
      "[foo   ]\n"
     ]
    },
    {
     "data": {
      "text/html": [
       "<pre>undefined</pre>"
      ],
      "text/plain": [
       "undefined"
      ]
     },
     "execution_count": 10,
     "metadata": {},
     "output_type": "execute_result"
    }
   ],
   "source": [
    "function stripLeadingSpace(input) {\n",
    "    while (input.charAt(0) == \" \") {\n",
    "        input = input.substring(1, input.length);\n",
    "        stripLeadingSpace(input);\n",
    "    }\n",
    "    return input;\n",
    "}\n",
    "\n",
    "// => \"[foo   ]\"\n",
    "console.log(\"[\" + stripLeadingSpace(\"   foo   \") +\"]\");"
   ]
  },
  {
   "cell_type": "markdown",
   "metadata": {},
   "source": [
    "Strips trailing space, invoking itself recursively:"
   ]
  },
  {
   "cell_type": "code",
   "execution_count": 11,
   "metadata": {
    "collapsed": false
   },
   "outputs": [
    {
     "name": "stdout",
     "output_type": "stream",
     "text": [
      "[   bar]\n"
     ]
    },
    {
     "data": {
      "text/html": [
       "<pre>undefined</pre>"
      ],
      "text/plain": [
       "undefined"
      ]
     },
     "execution_count": 11,
     "metadata": {},
     "output_type": "execute_result"
    }
   ],
   "source": [
    "function stripTrailingSpace(input) {\n",
    "    while (input.charAt(input.length - 1) == \" \") {\n",
    "        input = input.substring(0, input.length - 1);\n",
    "        stripTrailingSpace(input);\n",
    "    }\n",
    "    return input;\n",
    "}\n",
    "\n",
    "// => \"[   bar]\"\n",
    "console.log(\"[\" + stripTrailingSpace(\"   bar   \") + \"]\");"
   ]
  },
  {
   "cell_type": "markdown",
   "metadata": {},
   "source": [
    "Getting a factorial using recursion:"
   ]
  },
  {
   "cell_type": "code",
   "execution_count": 5,
   "metadata": {
    "collapsed": false
   },
   "outputs": [
    {
     "name": "stdout",
     "output_type": "stream",
     "text": [
      "1\n",
      "1\n",
      "120\n",
      "3628800\n"
     ]
    },
    {
     "data": {
      "text/plain": [
       "undefined"
      ]
     },
     "execution_count": 5,
     "metadata": {},
     "output_type": "execute_result"
    }
   ],
   "source": [
    "function getFactorial(int) {\n",
    "\n",
    "    /* Needed to handle empty product (factorial of 0 = 1),\n",
    "       but also serves as limit for recursion */\n",
    "    if (int === 0) return 1;\n",
    "\n",
    "    return int * getFactorial(int - 1);\n",
    "}\n",
    "\n",
    "console.log(getFactorial(0));  // => 1\n",
    "console.log(getFactorial(1));  // => 1\n",
    "console.log(getFactorial(5));  // => 120\n",
    "console.log(getFactorial(10)); // => 3628800"
   ]
  },
  {
   "cell_type": "markdown",
   "metadata": {},
   "source": [
    "Sum positive integers up to positive integer `int` using recursion:"
   ]
  },
  {
   "cell_type": "code",
   "execution_count": 6,
   "metadata": {
    "collapsed": false
   },
   "outputs": [
    {
     "name": "stdout",
     "output_type": "stream",
     "text": [
      "15\n",
      "55\n"
     ]
    },
    {
     "data": {
      "text/plain": [
       "undefined"
      ]
     },
     "execution_count": 6,
     "metadata": {},
     "output_type": "execute_result"
    }
   ],
   "source": [
    "function addUpTo(int) {\n",
    "    if (int === 0) return int;\n",
    "    return int + addUpTo(int - 1);\n",
    "}\n",
    "\n",
    "console.log(addUpTo(5));  // => 15\n",
    "console.log(addUpTo(10)); // => 55"
   ]
  },
  {
   "cell_type": "markdown",
   "metadata": {},
   "source": [
    "Reverse a string using recursion:"
   ]
  },
  {
   "cell_type": "code",
   "execution_count": 3,
   "metadata": {
    "collapsed": false
   },
   "outputs": [
    {
     "name": "stdout",
     "output_type": "stream",
     "text": [
      "oof\n",
      "dlrow olleh\n",
      "dcba\n",
      "54321\n"
     ]
    },
    {
     "data": {
      "text/plain": [
       "undefined"
      ]
     },
     "execution_count": 3,
     "metadata": {},
     "output_type": "execute_result"
    }
   ],
   "source": [
    "function reverseString(str) {\n",
    "    var l = str.length, out = '';\n",
    "    while (l > 0) {\n",
    "        out += str[l - 1];\n",
    "        l -= 1;\n",
    "        reverseString(str.substring(0, l));\n",
    "    }\n",
    "    return out;\n",
    "}\n",
    "\n",
    "console.log(reverseString('foo'));         // => 'oof'\n",
    "console.log(reverseString('hello world')); // => 'dlrow olleh'\n",
    "console.log(reverseString('abcd'));        // => 'dcba'\n",
    "console.log(reverseString('12345'));       // => '54321'"
   ]
  },
  {
   "cell_type": "markdown",
   "metadata": {},
   "source": [
    "## DOM manipulation"
   ]
  },
  {
   "cell_type": "markdown",
   "metadata": {},
   "source": [
    "* Instead of using `window.onload = …`, which can be overwritten by use of the same event handler elsewhere, use `window.AddEventListener('load', function() {…});` or `window.AddEventListener('DOMContentLoaded', function() {…});`.\n",
    "* Use a document fragment (`var frag = document.createDocumentFragment();`) for efficiency in DOM manipulation: append all children to the fragment, then append the fragment to an existing DOM element. This means only a single manipulation of the DOM, rather than many.\n",
    "* Get form input element data: `var formInputData = document.forms['myForm'].getElementsByTagName('input');`"
   ]
  },
  {
   "cell_type": "markdown",
   "metadata": {},
   "source": [
    "## Unit testing"
   ]
  },
  {
   "cell_type": "markdown",
   "metadata": {},
   "source": [
    "Test for **undefined or undeclared** variable, using ternary conditional syntax (although `typeof` returns 'undefined' for **both *undefined* and *undeclared* variables**, it is the only way to test for an undeclared variable without throwing a `ReferenceError`):"
   ]
  },
  {
   "cell_type": "code",
   "execution_count": 3,
   "metadata": {
    "collapsed": false
   },
   "outputs": [
    {
     "name": "stdout",
     "output_type": "stream",
     "text": [
      "FAILURE: variable \"mySpecialFoo\" is undefined or undeclared\n"
     ]
    },
    {
     "data": {
      "text/plain": [
       "undefined"
      ]
     },
     "execution_count": 3,
     "metadata": {},
     "output_type": "execute_result"
    }
   ],
   "source": [
    "// => 'FAILURE: variable \"mySpecialFoo\" is undefined or undeclared'\n",
    "typeof mySpecialFoo !== 'undefined'\n",
    "  ? console.log('SUCCESS: variable \"mySpecialFoo\" is not undefined or undeclared')\n",
    "  : console.log('FAILURE: variable \"mySpecialFoo\" is undefined or undeclared');"
   ]
  },
  {
   "cell_type": "markdown",
   "metadata": {},
   "source": [
    "Test for empty array:"
   ]
  },
  {
   "cell_type": "code",
   "execution_count": 15,
   "metadata": {
    "collapsed": false
   },
   "outputs": [
    {
     "name": "stdout",
     "output_type": "stream",
     "text": [
      "FAILURE: Array `myArray` is empty\n"
     ]
    },
    {
     "data": {
      "text/plain": [
       "undefined"
      ]
     },
     "execution_count": 15,
     "metadata": {},
     "output_type": "execute_result"
    }
   ],
   "source": [
    "var myArray = [];\n",
    "\n",
    "myArray.length !== 0\n",
    "  ? console.log('SUCCESS: Array `myArray` is not empty')\n",
    "  : console.log('FAILURE: Array `myArray` is empty');"
   ]
  },
  {
   "cell_type": "markdown",
   "metadata": {},
   "source": [
    "Test for a prototype property:"
   ]
  },
  {
   "cell_type": "code",
   "execution_count": 13,
   "metadata": {
    "collapsed": false
   },
   "outputs": [
    {
     "name": "stdout",
     "output_type": "stream",
     "text": [
      "FAILURE: property \"z\" does not exist\n"
     ]
    },
    {
     "data": {
      "text/plain": [
       "undefined"
      ]
     },
     "execution_count": 13,
     "metadata": {},
     "output_type": "execute_result"
    }
   ],
   "source": [
    "var MySpecialFooConstructor = function() {};\n",
    "MySpecialFooConstructor.prototype.x = 'y';\n",
    "\n",
    "var mySpecialFoo = new MySpecialFooConstructor;\n",
    "\n",
    "// => 'FAILURE: ...'\n",
    "mySpecialFoo.constructor.prototype.hasOwnProperty('z')\n",
    "  ? console.log('SUCCESS: property \"z\" exist')\n",
    "  : console.log('FAILURE: property \"z\" does not exist');"
   ]
  },
  {
   "cell_type": "markdown",
   "metadata": {},
   "source": [
    "### Examples of unit testing"
   ]
  },
  {
   "cell_type": "markdown",
   "metadata": {},
   "source": [
    "A terse example. Logs one line to the console (useful in browser consoles or SublimeTest's build output console):"
   ]
  },
  {
   "cell_type": "code",
   "execution_count": 14,
   "metadata": {
    "collapsed": false
   },
   "outputs": [
    {
     "name": "stdout",
     "output_type": "stream",
     "text": [
      "Tests: success success FAILURE\n"
     ]
    },
    {
     "data": {
      "text/plain": [
       "undefined"
      ]
     },
     "execution_count": 14,
     "metadata": {},
     "output_type": "execute_result"
    }
   ],
   "source": [
    "var myArray = [1, 2, 3];\n",
    "\n",
    "// Tests\n",
    "function test(exp) {\n",
    "    return + exp ? 'success' : 'FAILURE';\n",
    "}\n",
    "\n",
    "console.log('Tests: ' +\n",
    "    test(typeof myArray !== 'undefined'),\n",
    "    test(myArray.length !== 0),\n",
    "    test(myArray[0]     === 0)\n",
    "); // => success success FAILURE"
   ]
  },
  {
   "cell_type": "markdown",
   "metadata": {},
   "source": [
    "A more explicit example:"
   ]
  },
  {
   "cell_type": "code",
   "execution_count": null,
   "metadata": {
    "collapsed": true
   },
   "outputs": [],
   "source": [
    "typeof Book !== 'undefined'\n",
    "  ? console.log('SUCCESS: Constructor function `Book()` exists')\n",
    "  : console.log('FAILURE: Constructor function `Book()` does not exist');\n",
    "\n",
    "Book.prototype.hasOwnProperty('display')\n",
    "  ? console.log('SUCCESS: Constructor function `Book()`\\'s prototype has method \"display\"')\n",
    "  : console.log('FAILURE: Constructor function `Book()`\\'s prototype does not have method \"display\"');\n",
    "\n",
    "typeof books !== 'undefined'\n",
    "  ? console.log('SUCCESS: Array `books` exists')\n",
    "  : console.log('FAILURE: Array `books` does not exist');\n",
    "\n",
    "books.length !== 0\n",
    "  ? console.log('SUCCESS: Array `books` contains elements')\n",
    "  : console.log('FAILURE: Array `books` contains no elements');\n",
    "\n",
    "books[0].genre == 'mystery'\n",
    "  ? console.log('SUCCESS: First added object has \"genre\" property value \"mystery\"')\n",
    "  : console.log('FAILURE: First added object does not have \"genre\" property value \"mystery\"');"
   ]
  },
  {
   "cell_type": "markdown",
   "metadata": {},
   "source": [
    "### Unit testing with QUnit"
   ]
  },
  {
   "cell_type": "markdown",
   "metadata": {},
   "source": [
    "Testing for presence of DOM elements:"
   ]
  },
  {
   "cell_type": "code",
   "execution_count": null,
   "metadata": {
    "collapsed": true
   },
   "outputs": [],
   "source": [
    "QUnit.test('foo element', function(assert) {\n",
    "    assert.expect(1);\n",
    "    assert.ok(document.getElementById('foo'), 'foo element exists');\n",
    "});"
   ]
  },
  {
   "cell_type": "code",
   "execution_count": null,
   "metadata": {
    "collapsed": true
   },
   "outputs": [],
   "source": [
    "QUnit.test('fooForm and fooForm input elements', function(assert) {\n",
    "    assert.expect(2);\n",
    "    \n",
    "    // form element\n",
    "    assert.ok(document.forms.fooForm, 'fooForm element exists');\n",
    "\n",
    "    // form input element\n",
    "    assert.ok(document.forms.faveForm.url, 'fooForm input url element exists');\n",
    "\n",
    "});"
   ]
  },
  {
   "cell_type": "markdown",
   "metadata": {},
   "source": [
    "Testing form data:"
   ]
  },
  {
   "cell_type": "code",
   "execution_count": null,
   "metadata": {
    "collapsed": true
   },
   "outputs": [],
   "source": [
    "/* Can we retrieve a data object from the empty (unsubmitted) form in the\n",
    "format we want? */\n",
    "QUnit.test('return correct blank form data object', function(assert) {\n",
    "    assert.expect(1);\n",
    "    var actual   = getFormInputData(),\n",
    "        expected = {\n",
    "            url      : \"\",\n",
    "            title    : \"\",\n",
    "            comment  : \"\",\n",
    "            tags     : \"\"\n",
    "        };\n",
    "    assert.propEqual(actual, expected, 'correct blank form data object returned');\n",
    "});"
   ]
  },
  {
   "cell_type": "markdown",
   "metadata": {},
   "source": [
    "Testing a form data validation function (here, `validateFormInputData()`) that returns a Boolean value:"
   ]
  },
  {
   "cell_type": "code",
   "execution_count": null,
   "metadata": {
    "collapsed": true
   },
   "outputs": [],
   "source": [
    "QUnit.test('validate simulated acceptable form input', function(assert) {\n",
    "    assert.expect(1);\n",
    "    var acceptableInput = 'Lorem ipsum dolor sit amet, consectetur adipisicing elit. Minima ' + \n",
    "                          'magni reprehenderit tempore, omnis facilis nemo, at repudiandae '  +\n",
    "                          'animi nihil delectus molestias distinctio quas mollitia, ratione ' +\n",
    "                          'unde earum. Nihil suscipit, aperiam.';\n",
    "    var actual   = validateFormInputData(acceptableInput);\n",
    "    var expected = true;\n",
    "    assert.strictEqual(actual, expected, 'simulated acceptable form input validated correctly');\n",
    "});"
   ]
  }
 ],
 "metadata": {
  "kernelspec": {
   "display_name": "Javascript (Node.js)",
   "language": "javascript",
   "name": "javascript"
  },
  "language_info": {
   "file_extension": "js",
   "mimetype": "application/javascript",
   "name": "javascript",
   "version": "0.12.6"
  }
 },
 "nbformat": 4,
 "nbformat_minor": 0
}
