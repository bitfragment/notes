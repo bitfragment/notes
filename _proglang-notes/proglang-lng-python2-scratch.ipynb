{
 "cells": [
  {
   "cell_type": "markdown",
   "metadata": {},
   "source": [
    "# strings\n",
    "* `'foo' + 'bar'`\n",
    "* string interpolation: `return '%s %s' % (first, last)`\n",
    "* `'foo' * 3 # => 'foofoofoo'\n",
    "* strings are iterable: `sorted('foo')`\n",
    "* `str(str)`\n",
    "* `len(str)`\n",
    "* `str.upper()`, `str.lower()`\n",
    "* `''.join(['a', 'b' 'c'])`\n",
    "\n",
    "# functions\n",
    "* declaration: `def repeat_it(my_str, n): …` (colon as demarcator, no `end` keyword)\n",
    "* `return` keyword is required\n",
    "\n",
    "# type checking\n",
    "* checking type of parameter: `if not isinstance(my_string, str):`\n",
    "\n",
    "# control flow\n",
    "* for loop: `for i in range(3):` (colon as demarcator, no `end` keyword)\n",
    "* while loop: `while (i in ids): i += 1`\n",
    "* ternary conditional operator: `return my_str if isinstance(my_string, str) else 'Not a string'`\n",
    "\n",
    "# syntax\n",
    "* no semicolons\n",
    "* compound statements: `if not isinstance(my_str, str): return 'Not a string'`\n",
    "\n",
    "# testing\n",
    "* `print repeat_it(\"Hi\", 3) == \"HiHiHi\"`\n",
    "\n",
    "# list comprehension\n",
    "* `[x + 1 for x in sorted(ids) if not (x + 1) in ids][0]`: return 1 + the value of the first element in the sorted list that isn't followed by a value equivalent to that element + 1, so from `[1, 3, 4]` we would get `2`\n",
    "    * better yet, use `next()`: `next((x + 1 for x in sorted(ids) if not (x + 1) in ids))`\n",
    "\n",
    "# declarative (lambda) expressions in place of functions\n",
    "* `foo = lambda a, b: a + b # no 'return' keyword needed`\n",
    "\n",
    "# iterables\n",
    "* testing for presence of element: `'f' in 'foo' # => True`\n",
    "* get index of FIRST OCCURRENCE OF matching element: `arr.index(str)`\n",
    "* enumerate an array: `for index, element in enumerate(arr):...`\n",
    "* `sort()` mutates the array in place; `sorted()` can be passed as a value\n",
    "* `reduce()`: `nextId = lambda ids: reduce(lowestSeq, sorted(ids)) + 1`\n",
    "* `map()`: `map(lambda word: word[0], str.split(' '))`"
   ]
  },
  {
   "cell_type": "code",
   "execution_count": null,
   "metadata": {
    "collapsed": true
   },
   "outputs": [],
   "source": []
  }
 ],
 "metadata": {
  "kernelspec": {
   "display_name": "Python 2",
   "language": "python",
   "name": "python2"
  },
  "language_info": {
   "codemirror_mode": {
    "name": "ipython",
    "version": 2
   },
   "file_extension": ".py",
   "mimetype": "text/x-python",
   "name": "python",
   "nbconvert_exporter": "python",
   "pygments_lexer": "ipython2",
   "version": "2.7.10"
  }
 },
 "nbformat": 4,
 "nbformat_minor": 0
}
