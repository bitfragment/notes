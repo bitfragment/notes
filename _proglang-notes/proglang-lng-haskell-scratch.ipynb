{
 "cells": [
  {
   "cell_type": "markdown",
   "metadata": {},
   "source": [
    "# functions\n",
    "* function naming in camelCase: `repeatIt`\n",
    "* function parameter type declarations: `repeatIt :: String -> Int -> String`\n",
    "* function definition: `repeatIt param param = ...`\n",
    "* passing one function to another: `concat $ replicate 3 \"foo\"` is equivalent to `concat (replicate 3 \"foo\") -- => \"foofoofoo\"`\n",
    "* can use `.` and `$` (though they work differently): `print . concat $ replicate 3 \"foo\"`\n",
    "\n",
    "# lists\n",
    "* list creation: `replicate 3 \"foo\" -- -> [\"foo\",\"foo\",\"foo\"]`\n",
    "* list element concatenation: `concat [\"foo\",\"foo\",\"foo\"] -- => \"foofoofoo\"`\n",
    "* list sorting: `import Data.List; sort [2,3,1]`\n",
    "* get first element on list: `head [1,2,3]`\n",
    "* test for list element: `elem e array` (or write as infix: ```e `elem` array```)\n",
    "* list comprehension:\n",
    "    * `[x + 1 | x <- sort [3,1,2]] -- => [2,3,4]`\n",
    "    * conditional expression goes at end: `[x + 1 | x <- sort [3,1,2], x /= 2] -- => [2,4]`\n",
    "\n",
    "# testing\n",
    "* testing using `main` and `print`: `main = print $ repeatIt \"foo\" 3`\n",
    "    * use `do` notation for multiple statements (break lines or use semicolon): `main = do print $ repeatIt \"foo\" 3; print $ repeatIt \"foo\" 4`"
   ]
  },
  {
   "cell_type": "code",
   "execution_count": null,
   "metadata": {
    "collapsed": true
   },
   "outputs": [],
   "source": []
  }
 ],
 "metadata": {
  "kernelspec": {
   "display_name": "Python 2",
   "language": "python",
   "name": "python2"
  },
  "language_info": {
   "codemirror_mode": {
    "name": "ipython",
    "version": 2
   },
   "file_extension": ".py",
   "mimetype": "text/x-python",
   "name": "python",
   "nbconvert_exporter": "python",
   "pygments_lexer": "ipython2",
   "version": "2.7.10"
  }
 },
 "nbformat": 4,
 "nbformat_minor": 0
}
