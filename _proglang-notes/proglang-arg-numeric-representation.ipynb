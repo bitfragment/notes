{
 "cells": [
  {
   "cell_type": "markdown",
   "metadata": {},
   "source": [
    "Following Randall Hyde, *Write Great Code, Volume 1: Understanding the Machine* (2004), Chapter 2: Numeric Representation"
   ]
  },
  {
   "cell_type": "markdown",
   "metadata": {},
   "source": [
    "## 2.1 What Is a Number?\n",
    "\n",
    "A number is an *abstraction* that can be represented using many different symbols. Here are six different ways of representing a particular number:\n",
    "\n",
    "* one hundred (English-language representation)\n",
    "* C (Roman numeral representation)\n",
    "* 100 (base 10/decimal representation)\n",
    "* $64_{16}$ (base 16/hexadecimal representation)\n",
    "* $1100100_{2}$ (base two/binary representation)\n",
    "* $144_{8}$ (base eight/octal representation)"
   ]
  },
  {
   "cell_type": "markdown",
   "metadata": {},
   "source": [
    "### 2.2.1 The Decimal Positional Numbering System\n",
    "\n",
    "Magnitudes, in powers of ten, are relative to distance from the decimal point:\n",
    "\n",
    "⟵ 123.45 ⟶\n",
    "\n",
    "⟵ $10^{2} 10^{1} 10^{0} . 10^{-1} 10^{-2}$ ⟶\n",
    "\n",
    "123.45 = $(1 \\times 10^{2}) + (2 \\times 10^{1}) + (3 \\times 10^{0}) + (4 \\times 10^{-1}) + (5 \\times 10^{-2})$\n",
    "\n",
    "Very explicitly convert decimal to itself, converting a number parameter to a string and treating each character symbol in relation to its index position in that string:"
   ]
  },
  {
   "cell_type": "code",
   "execution_count": 2,
   "metadata": {
    "collapsed": false
   },
   "outputs": [
    {
     "name": "stdout",
     "output_type": "stream",
     "text": [
      "Expansion: (1 * 10^2) + (2 * 10^1) + (3 * 10^0) + (4 * 10^-1) + (5 * 10^-2)\n",
      "Sum:   123.45\n",
      "Input: 123.45\n"
     ]
    }
   ],
   "source": [
    "def dec_to_dec(n):\n",
    "    expansion = ''\n",
    "    sum = 0\n",
    "    segments = str(n).split('.')\n",
    "    beforePoint = segments[0]\n",
    "    afterPoint = segments[1]\n",
    "    \n",
    "    for index, symbol in enumerate(beforePoint):\n",
    "        power = len(beforePoint) - index - 1\n",
    "        sum += int(symbol) * (10 ** power)\n",
    "        expansion += '(%s * 10^%i)' % (symbol, power)\n",
    "        expansion += ' + '\n",
    "        \n",
    "    for index, symbol in enumerate(afterPoint):\n",
    "        power = 0 - (index + 1)\n",
    "        sum += int(symbol) * (10 ** power)\n",
    "        expansion += '(%s * 10^%i)' % (symbol, power)\n",
    "        if index < len(afterPoint) - 1:\n",
    "            expansion += ' + '\n",
    "            \n",
    "    print('Expansion: %s' % expansion)\n",
    "    print('Sum:   %s' % str(sum))\n",
    "    print('Input: %s' % str(n))\n",
    "    if sum != n:\n",
    "        print('Oops!')\n",
    "\n",
    "dec_to_dec(123.45)"
   ]
  },
  {
   "cell_type": "markdown",
   "metadata": {},
   "source": [
    "Just return a value:"
   ]
  },
  {
   "cell_type": "code",
   "execution_count": 4,
   "metadata": {
    "collapsed": false
   },
   "outputs": [
    {
     "name": "stdout",
     "output_type": "stream",
     "text": [
      "123.45\n"
     ]
    }
   ],
   "source": [
    "def dec_to_dec(n):\n",
    "    sum = 0\n",
    "    segments = str(n).split('.')\n",
    "    beforePoint = segments[0]\n",
    "    afterPoint = segments[1]\n",
    "    for index, symbol in enumerate(beforePoint):\n",
    "        power = len(beforePoint) - index - 1\n",
    "        sum += int(symbol) * (10 ** power)\n",
    "    for index, symbol in enumerate(afterPoint):\n",
    "        power = 0 - (index + 1)\n",
    "        sum += int(symbol) * (10 ** power)\n",
    "    return sum\n",
    "\n",
    "print(dec_to_dec(123.45))"
   ]
  },
  {
   "cell_type": "markdown",
   "metadata": {},
   "source": [
    "### 2.2.2 Radix (Base)\n",
    "\n",
    "Convert octal to decimal:"
   ]
  },
  {
   "cell_type": "code",
   "execution_count": 6,
   "metadata": {
    "collapsed": false
   },
   "outputs": [
    {
     "name": "stdout",
     "output_type": "stream",
     "text": [
      "True\n",
      "True\n"
     ]
    }
   ],
   "source": [
    "def oct_to_dec(n):\n",
    "    s = str(n)\n",
    "    sum = 0\n",
    "    for index, symbol in enumerate(s):\n",
    "        power = len(s) - index - 1\n",
    "        sum += int(symbol) * (8 ** power)\n",
    "    return sum\n",
    "\n",
    "print(oct_to_dec(123) == 83)\n",
    "print(oct_to_dec(456) == 302)"
   ]
  },
  {
   "cell_type": "markdown",
   "metadata": {},
   "source": [
    "Passing base as parameter:"
   ]
  },
  {
   "cell_type": "code",
   "execution_count": 7,
   "metadata": {
    "collapsed": false
   },
   "outputs": [
    {
     "name": "stdout",
     "output_type": "stream",
     "text": [
      "True\n",
      "True\n"
     ]
    }
   ],
   "source": [
    "def any_to_dec(n, base):\n",
    "    s = str(n)\n",
    "    sum = 0\n",
    "    for index, symbol in enumerate(s):\n",
    "        power = len(s) - index - 1\n",
    "        sum += int(symbol) * (base ** power)\n",
    "    return sum\n",
    "\n",
    "print(any_to_dec(123, 8) == 83)  # Octal\n",
    "print(any_to_dec(1011, 2) == 11) # Binary"
   ]
  },
  {
   "cell_type": "markdown",
   "metadata": {},
   "source": [
    "### 2.2.3 The Binary Numbering System"
   ]
  }
 ],
 "metadata": {
  "kernelspec": {
   "display_name": "Python 3",
   "language": "python",
   "name": "python3"
  },
  "language_info": {
   "codemirror_mode": {
    "name": "ipython",
    "version": 3
   },
   "file_extension": ".py",
   "mimetype": "text/x-python",
   "name": "python",
   "nbconvert_exporter": "python",
   "pygments_lexer": "ipython3",
   "version": "3.4.3"
  }
 },
 "nbformat": 4,
 "nbformat_minor": 0
}
