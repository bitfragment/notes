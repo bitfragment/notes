{
 "cells": [
  {
   "cell_type": "markdown",
   "metadata": {},
   "source": [
    "# Numeric representation"
   ]
  },
  {
   "cell_type": "markdown",
   "metadata": {},
   "source": [
    "## Sources\n",
    "\n",
    "* Bryant and O’Hallaron, *Computer Systems: A Programmer’s Perspective* (2003), Chapter 2: Representing and Manipulating Information\n",
    "* Hyde, *Write Great Code, Volume 1: Understanding the Machine* (2004), Chapter 2: Numeric Representation"
   ]
  },
  {
   "cell_type": "markdown",
   "metadata": {},
   "source": [
    "## What is a number?\n",
    "\n",
    "A number is an abstraction that can be represented using many different symbols. Here are six different ways of representing a particular number:\n",
    "\n",
    "* one hundred (English-language representation)\n",
    "* C (Roman numeral representation)\n",
    "* 100 (base 10/decimal representation)\n",
    "* $64_{16}$ (base 16/hexadecimal representation)\n",
    "* $1100100_{2}$ (base two/binary representation)\n",
    "* $144_{8}$ (base eight/octal representation)"
   ]
  },
  {
   "cell_type": "markdown",
   "metadata": {},
   "source": [
    "## Built-in conversion between representations"
   ]
  },
  {
   "cell_type": "markdown",
   "metadata": {},
   "source": [
    "Python, for example, offers built-in functions for converting between different representations of numbers."
   ]
  },
  {
   "cell_type": "markdown",
   "metadata": {},
   "source": [
    "Converting integer to a string representation of binary:"
   ]
  },
  {
   "cell_type": "code",
   "execution_count": 44,
   "metadata": {
    "collapsed": false
   },
   "outputs": [
    {
     "data": {
      "text/plain": [
       "'0b1011000'"
      ]
     },
     "execution_count": 44,
     "metadata": {},
     "output_type": "execute_result"
    }
   ],
   "source": [
    "bin(88)"
   ]
  },
  {
   "cell_type": "markdown",
   "metadata": {},
   "source": [
    "Converting string representation of binary to integer:"
   ]
  },
  {
   "cell_type": "code",
   "execution_count": 46,
   "metadata": {
    "collapsed": false
   },
   "outputs": [
    {
     "data": {
      "text/plain": [
       "88"
      ]
     },
     "execution_count": 46,
     "metadata": {},
     "output_type": "execute_result"
    }
   ],
   "source": [
    "int('0b1011000', 2)"
   ]
  },
  {
   "cell_type": "markdown",
   "metadata": {},
   "source": [
    "Converting integer to string hexadecimal notation:"
   ]
  },
  {
   "cell_type": "code",
   "execution_count": 48,
   "metadata": {
    "collapsed": false
   },
   "outputs": [
    {
     "data": {
      "text/plain": [
       "'0x58'"
      ]
     },
     "execution_count": 48,
     "metadata": {},
     "output_type": "execute_result"
    }
   ],
   "source": [
    "hex(88)"
   ]
  },
  {
   "cell_type": "markdown",
   "metadata": {},
   "source": [
    "Converting string hexadecimal notation to integer:"
   ]
  },
  {
   "cell_type": "code",
   "execution_count": 49,
   "metadata": {
    "collapsed": false
   },
   "outputs": [
    {
     "data": {
      "text/plain": [
       "88"
      ]
     },
     "execution_count": 49,
     "metadata": {},
     "output_type": "execute_result"
    }
   ],
   "source": [
    "int('0x58', 16)"
   ]
  },
  {
   "cell_type": "markdown",
   "metadata": {},
   "source": [
    "## The decimal (base 10) positional numbering system\n",
    "\n",
    "Magnitudes, in powers of ten, are relative to distance from the decimal point:\n",
    "\n",
    "⟵ 123.45 ⟶\n",
    "\n",
    "⟵ $10^{2} 10^{1} 10^{0} . 10^{-1} 10^{-2}$ ⟶\n",
    "\n",
    "123.45 = $(1 \\times 10^{2}) + (2 \\times 10^{1}) + (3 \\times 10^{0}) + (4 \\times 10^{-1}) + (5 \\times 10^{-2})$\n",
    "\n",
    "Very explicitly convert decimal to itself, converting a number parameter to a string and treating each character symbol in relation to its index position in that string:"
   ]
  },
  {
   "cell_type": "code",
   "execution_count": 33,
   "metadata": {
    "collapsed": false
   },
   "outputs": [],
   "source": [
    "def dec_to_dec(n):\n",
    "    expansion = ''\n",
    "    sum = 0\n",
    "    segments = str(n).split('.')\n",
    "    beforePoint = segments[0]\n",
    "    afterPoint = segments[1]\n",
    "    \n",
    "    for index, symbol in enumerate(beforePoint):\n",
    "        power = len(beforePoint) - index - 1\n",
    "        sum += int(symbol) * (10 ** power)\n",
    "        expansion += '(%s * 10^%i)' % (symbol, power)\n",
    "        expansion += ' + '\n",
    "        \n",
    "    for index, symbol in enumerate(afterPoint):\n",
    "        power = 0 - (index + 1)\n",
    "        sum += int(symbol) * (10 ** power)\n",
    "        expansion += '(%s * 10^%i)' % (symbol, power)\n",
    "        if index < len(afterPoint) - 1:\n",
    "            expansion += ' + '\n",
    "            \n",
    "    print('Expansion: %s' % expansion)\n",
    "    print('Sum:   %s' % str(sum))\n",
    "    print('Input: %s' % str(n))\n",
    "    if sum != n:\n",
    "        print('Oops!')"
   ]
  },
  {
   "cell_type": "code",
   "execution_count": 34,
   "metadata": {
    "collapsed": false
   },
   "outputs": [
    {
     "name": "stdout",
     "output_type": "stream",
     "text": [
      "Expansion: (1 * 10^2) + (2 * 10^1) + (3 * 10^0) + (4 * 10^-1) + (5 * 10^-2)\n",
      "Sum:   123.45\n",
      "Input: 123.45\n"
     ]
    }
   ],
   "source": [
    "dec_to_dec(123.45)"
   ]
  },
  {
   "cell_type": "markdown",
   "metadata": {},
   "source": [
    "Just return a value:"
   ]
  },
  {
   "cell_type": "code",
   "execution_count": 31,
   "metadata": {
    "collapsed": false
   },
   "outputs": [],
   "source": [
    "def dec_to_dec(n):\n",
    "    sum = 0\n",
    "    segments = str(n).split('.')\n",
    "    beforePoint = segments[0]\n",
    "    afterPoint = segments[1]\n",
    "    for index, symbol in enumerate(beforePoint):\n",
    "        power = len(beforePoint) - index - 1\n",
    "        sum += int(symbol) * (10 ** power)\n",
    "    for index, symbol in enumerate(afterPoint):\n",
    "        power = 0 - (index + 1)\n",
    "        sum += int(symbol) * (10 ** power)\n",
    "    return sum"
   ]
  },
  {
   "cell_type": "code",
   "execution_count": 32,
   "metadata": {
    "collapsed": false
   },
   "outputs": [
    {
     "data": {
      "text/plain": [
       "123.45"
      ]
     },
     "execution_count": 32,
     "metadata": {},
     "output_type": "execute_result"
    }
   ],
   "source": [
    "dec_to_dec(123.45)"
   ]
  },
  {
   "cell_type": "markdown",
   "metadata": {},
   "source": [
    "## Radix (base)\n",
    "\n",
    "Convert octal (base 8) to decimal:"
   ]
  },
  {
   "cell_type": "code",
   "execution_count": 29,
   "metadata": {
    "collapsed": false
   },
   "outputs": [],
   "source": [
    "def oct_to_dec(n):\n",
    "    s = str(n)\n",
    "    sum = 0\n",
    "    for index, symbol in enumerate(s):\n",
    "        power = len(s) - index - 1\n",
    "        sum += int(symbol) * (8 ** power)\n",
    "    return sum"
   ]
  },
  {
   "cell_type": "code",
   "execution_count": 30,
   "metadata": {
    "collapsed": false
   },
   "outputs": [
    {
     "data": {
      "text/plain": [
       "83"
      ]
     },
     "execution_count": 30,
     "metadata": {},
     "output_type": "execute_result"
    }
   ],
   "source": [
    "oct_to_dec(123)"
   ]
  },
  {
   "cell_type": "markdown",
   "metadata": {},
   "source": [
    "Passing base as parameter:"
   ]
  },
  {
   "cell_type": "code",
   "execution_count": 23,
   "metadata": {
    "collapsed": false
   },
   "outputs": [],
   "source": [
    "def any_to_dec(n, base):\n",
    "    s = str(n)\n",
    "    sum = 0\n",
    "    for index, symbol in enumerate(s):\n",
    "        power = len(s) - index - 1\n",
    "        sum += int(symbol) * (base ** power)\n",
    "    return sum"
   ]
  },
  {
   "cell_type": "markdown",
   "metadata": {},
   "source": [
    "Octal:"
   ]
  },
  {
   "cell_type": "code",
   "execution_count": 27,
   "metadata": {
    "collapsed": false
   },
   "outputs": [
    {
     "data": {
      "text/plain": [
       "83"
      ]
     },
     "execution_count": 27,
     "metadata": {},
     "output_type": "execute_result"
    }
   ],
   "source": [
    "any_to_dec(123, 8)"
   ]
  },
  {
   "cell_type": "markdown",
   "metadata": {},
   "source": [
    "Binary:"
   ]
  },
  {
   "cell_type": "code",
   "execution_count": 28,
   "metadata": {
    "collapsed": false
   },
   "outputs": [
    {
     "data": {
      "text/plain": [
       "11"
      ]
     },
     "execution_count": 28,
     "metadata": {},
     "output_type": "execute_result"
    }
   ],
   "source": [
    "any_to_dec(1011, 2)"
   ]
  },
  {
   "cell_type": "markdown",
   "metadata": {},
   "source": [
    "## The binary (base 2) numbering system"
   ]
  },
  {
   "cell_type": "markdown",
   "metadata": {},
   "source": [
    "$11001010_{2}$\n",
    "\n",
    "$(1 \\times 2^{7}) + (1 \\times 2^{6}) + (0 \\times 2^{5}) + (0 \\times 2^{4}) + (1 \\times 2^{3}) + (0 \\times 2^{2}) + (1 \\times 2^{1}) + (0 \\times 2^{0})$\n",
    "\n",
    "$128 + 64 + 8 + 2 = 202_{10}$\n",
    "\n",
    "Very explicitly convert binary to decimal, converting a number parameter to a string and treating each character symbol in relation to its index position in that string:"
   ]
  },
  {
   "cell_type": "code",
   "execution_count": 21,
   "metadata": {
    "collapsed": false
   },
   "outputs": [],
   "source": [
    "def bin_to_dec(n):\n",
    "    expansion = ''\n",
    "    sum = 0\n",
    "    s = str(n)\n",
    "\n",
    "    for index, symbol in enumerate(s):\n",
    "        power = len(s) - index - 1\n",
    "        sum += int(symbol) * (2 ** power)\n",
    "        expansion += '(%s * 2^%i)' % (symbol, power)\n",
    "        if index < len(s) - 1:\n",
    "            expansion += ' + '\n",
    "\n",
    "    print('Expansion: %s' % expansion)\n",
    "    print('Sum: %s' % str(sum))"
   ]
  },
  {
   "cell_type": "code",
   "execution_count": 22,
   "metadata": {
    "collapsed": false
   },
   "outputs": [
    {
     "name": "stdout",
     "output_type": "stream",
     "text": [
      "Expansion: (1 * 2^7) + (1 * 2^6) + (0 * 2^5) + (0 * 2^4) + (1 * 2^3) + (0 * 2^2) + (1 * 2^1) + (0 * 2^0)\n",
      "Sum: 202\n"
     ]
    }
   ],
   "source": [
    "bin_to_dec(11001010)"
   ]
  },
  {
   "cell_type": "markdown",
   "metadata": {},
   "source": [
    "Convert decimal to binary using a divide by 2 algorithm and a stack:"
   ]
  },
  {
   "cell_type": "code",
   "execution_count": 19,
   "metadata": {
    "collapsed": false
   },
   "outputs": [],
   "source": [
    "def dec_to_bin(n):\n",
    "    stack = []\n",
    "    bin = ''\n",
    "    while n > 0:\n",
    "        rem = n % 2\n",
    "        stack.append(rem)\n",
    "        n = n // 2\n",
    "    while len(stack) > 0:\n",
    "        bin += str(stack.pop())\n",
    "    return bin"
   ]
  },
  {
   "cell_type": "code",
   "execution_count": 20,
   "metadata": {
    "collapsed": false
   },
   "outputs": [
    {
     "data": {
      "text/plain": [
       "'11001010'"
      ]
     },
     "execution_count": 20,
     "metadata": {},
     "output_type": "execute_result"
    }
   ],
   "source": [
    "dec_to_bin(202)"
   ]
  },
  {
   "cell_type": "markdown",
   "metadata": {},
   "source": [
    "## Binary encodings\n",
    "\n",
    "Three encodings:\n",
    "* *Unsigned* encodings for positive integers including 0\n",
    "* *Two's complement* encodings for signed integers (positive or negative)\n",
    "* *Floating point* encodings"
   ]
  },
  {
   "cell_type": "markdown",
   "metadata": {},
   "source": [
    "## The hexadecimal (base 16) numbering system\n",
    "\n",
    "Since binary-hexadecimal conversion is easy, hexadecimal notation is almost always used instead of binary."
   ]
  },
  {
   "cell_type": "markdown",
   "metadata": {},
   "source": [
    "$1234_{16} = (1 \\times 16^{3}) + (2 \\times 16^{2}) + (3 \\times 16^{1}) + (4 \\times 16^{0}) = 4096 + 512 + 48 + 4 = 4660_{10}$\n"
   ]
  },
  {
   "cell_type": "markdown",
   "metadata": {},
   "source": [
    "Very explicitly convert hex to binary:"
   ]
  },
  {
   "cell_type": "code",
   "execution_count": 37,
   "metadata": {
    "collapsed": false
   },
   "outputs": [],
   "source": [
    "def hex_to_bin(s):\n",
    "    h2b = { '0': '0000', '1': '0001', '2': '0010', '3': '0011',\n",
    "            '4': '0100', '5': '0101', '6': '0110', '7': '0111',\n",
    "            '8': '1000', '9': '1001', 'A': '1010', 'B': '1011',\n",
    "            'C': '1100', 'D': '1101', 'E': '1110', 'F': '1111'  }\n",
    "\n",
    "    return ('').join([h2b[x] for x in s])"
   ]
  },
  {
   "cell_type": "code",
   "execution_count": 38,
   "metadata": {
    "collapsed": false
   },
   "outputs": [
    {
     "data": {
      "text/plain": [
       "'1010101111001101'"
      ]
     },
     "execution_count": 38,
     "metadata": {},
     "output_type": "execute_result"
    }
   ],
   "source": [
    "hex_to_bin('ABCD')"
   ]
  },
  {
   "cell_type": "markdown",
   "metadata": {
    "collapsed": true
   },
   "source": [
    "Very explicitly convert binary to hex:"
   ]
  },
  {
   "cell_type": "code",
   "execution_count": 39,
   "metadata": {
    "collapsed": true
   },
   "outputs": [],
   "source": [
    "def bin_to_hex(s):\n",
    "    b2h = { '0000': '0', '0001': '1', '0010': '2', '0011': '3',\n",
    "            '0100': '4', '0101': '5', '0110': '6', '0111': '7',\n",
    "            '1000': '8', '1001': '9', '1010': 'A', '1011': 'B',\n",
    "            '1100': 'C', '1101': 'D', '1110': 'E', '1111': 'F'  }\n",
    "\n",
    "    padded, result = '', ''\n",
    "    for _ in range(len(s) % 4):\n",
    "        padded += '0'\n",
    "    padded += s\n",
    "    groups = [padded[i: i + 4] for i in range(0, len(padded), 4)]\n",
    "    for group in groups:\n",
    "        result += b2h[group]\n",
    "    return result"
   ]
  },
  {
   "cell_type": "code",
   "execution_count": 41,
   "metadata": {
    "collapsed": false
   },
   "outputs": [
    {
     "data": {
      "text/plain": [
       "'ABCD'"
      ]
     },
     "execution_count": 41,
     "metadata": {},
     "output_type": "execute_result"
    }
   ],
   "source": [
    "bin_to_hex('1010101111001101')"
   ]
  },
  {
   "cell_type": "code",
   "execution_count": 42,
   "metadata": {
    "collapsed": false
   },
   "outputs": [
    {
     "data": {
      "text/plain": [
       "'2D7'"
      ]
     },
     "execution_count": 42,
     "metadata": {},
     "output_type": "execute_result"
    }
   ],
   "source": [
    "bin_to_hex('1011010111')"
   ]
  },
  {
   "cell_type": "markdown",
   "metadata": {},
   "source": [
    "## The octal (base 8) numbering system\n",
    "\n",
    "The use of octal notation was more common in early computing, with systems whose bit size was a multiple of three. Today the most common systems have bit sizes that are multiples of two (8, 16, 32, 64...)"
   ]
  },
  {
   "cell_type": "markdown",
   "metadata": {},
   "source": [
    "## Internal numeric representation"
   ]
  },
  {
   "cell_type": "markdown",
   "metadata": {},
   "source": [
    "### Bit strings and words\n",
    "\n",
    "Ordinarily, one cannot address an individual bit. The smallest addressable unit of memory is a byte, or string of eight bits (though some data types may not actually require a full byte). On Intel 80x86 systems, a *word* is a 16-bit (two-byte) unit."
   ]
  },
  {
   "cell_type": "markdown",
   "metadata": {},
   "source": [
    "Figure 2.2. in Bryant and O'Hallaron, tabulating sizes in bytes of C numeric data types:\n",
    "\n",
    "C declaration | Typical 32-bit | Example 64-bit\n",
    "--------------|----------------|---------------\n",
    "`char`        | 1              | 1\n",
    "`short int`   | 2              | 2\n",
    "`int`         | 4              | 4\n",
    "`long int`    | 4              | 8\n",
    "`char *`      | 4              | 8\n",
    "`float`       | 4              | 4\n",
    "`double`      | 8              | 8"
   ]
  },
  {
   "cell_type": "markdown",
   "metadata": {},
   "source": [
    "Objects requiring more than a few multiples of word size (32 or 64 bits) can be handled up to a point, but with decreasing efficiency.\n",
    "\n",
    "Numeric representation is limited by the number of bits available for encoding a number. This can produce overflow, as in the case of the following C program, which on many machines will return a value of `-884901888`:"
   ]
  },
  {
   "cell_type": "code",
   "execution_count": null,
   "metadata": {
    "collapsed": true
   },
   "outputs": [],
   "source": [
    "#include <stdio.h>\n",
    "\n",
    "int main(void) {\n",
    "    int a = 200 * 300 * 400 * 500;\n",
    "    printf(\"%i\", a);\n",
    "    return 0;\n",
    "}"
   ]
  },
  {
   "cell_type": "markdown",
   "metadata": {},
   "source": [
    "Floating-point arithmetic is not associative, because the precision of representation is always finite. The following C program returns a value of `3.14`, as expected:"
   ]
  },
  {
   "cell_type": "code",
   "execution_count": null,
   "metadata": {
    "collapsed": true
   },
   "outputs": [],
   "source": [
    "#include <stdio.h>\n",
    "\n",
    "int main(void) {\n",
    "    float a = 3.14 + (1e20 - 1e20);\n",
    "    printf(\"%g\", a);\n",
    "    return 0;\n",
    "}"
   ]
  },
  {
   "cell_type": "markdown",
   "metadata": {},
   "source": [
    "But the following C program will return a value of `0` on many machines:"
   ]
  },
  {
   "cell_type": "code",
   "execution_count": null,
   "metadata": {
    "collapsed": false
   },
   "outputs": [],
   "source": [
    "#include <stdio.h>\n",
    "\n",
    "int main(void) {\n",
    "    float a = (3.14 + 1e20) - 1e20;\n",
    "    printf(\"%g\", a);\n",
    "    return 0;\n",
    "}"
   ]
  },
  {
   "cell_type": "code",
   "execution_count": 96,
   "metadata": {
    "collapsed": false
   },
   "outputs": [
    {
     "data": {
      "text/html": [
       "<style>\n",
       "/*\n",
       "https://github.com/dunovank/jupyter-themes/blob/master/oceans16.css\n",
       "Customized by Brian Lennon, 2016-01-24\n",
       " */\n",
       "\n",
       "/*\n",
       "    Name:       Oceans16 Dark\n",
       "    Author:     Kyle Dunovan (http://github.com/dunovank)\n",
       "    Original Color Scheme by Gadzhi Kharkharov (https://github.com/kkga/spacegray)\n",
       "    CodeMirror & NB Style adapted from panditarevolution (https://github.com/panditarevolution/ipythonNotebook_customs)\n",
       "    CodeMirror template adapted for IPython Notebook by Nikhil Sonnad (https://github.com/nsonnad/base16-ipython-notebook)\n",
       "    Base16 color scheme by Chris Kempson (https://github.com/chriskempson/base16)\n",
       "*/\n",
       "\n",
       "body {background-color: #262931;}\n",
       "\n",
       "a {color: #8997b0; font-family: 'Verdana', sans-serif; }\n",
       "\n",
       "div#notebook, div.CodeMirror, div.output_area pre, div.output_wrapper, div.prompt, div.CodeMirror pre {font-family:'Menlo', monospace; font-size: 11pt;}\n",
       "\n",
       "/* Hiding the ipython log */\n",
       "div#ipython_notebook {display: none;}\n",
       "\n",
       "/* Hide the input/output prompt */\n",
       "div.prompt {display: none; }\n",
       "\n",
       "div.cell { /* Tunes the space between cells */\n",
       "    margin-top:0.25em;\n",
       "    margin-bottom:0.25em;\n",
       "}\n",
       "\n",
       "#notebook li { /* More space between bullet points */\n",
       "margin-bottom:0.65em;\n",
       "}\n",
       "\n",
       "/* INTRO PAGE */\n",
       ".toolbar_info {color: #8997b0; font-size: 11pt; border: 0; font-family: 'Verdana', sans-serif; text-shadow: none !important; }\n",
       ".list_container {color: #8997b0; font-size: 11pt; border: 0; font-family: 'Verdana', sans-serif;text-shadow: none !important; }\n",
       ".breadcrumb>li {text-shadow:0 0px 0; color:#8997b0; font-family: 'Verdana', sans-serif; font-size: 11pt}\n",
       ".list_container a {color: #8997b0; font-family: 'Verdana', sans-serif; font-size: 11pt; border: 0; text-shadow: none !important; }\n",
       ".item_icon {color: #2c85f7;}\n",
       "\n",
       "/*<<<<<<<<<<<<<<<<<<<>>>>>>>>>>>>>>>>>>>>\n",
       "*****************************************\n",
       " COMMENT THIS LINE OUT TO RESTORE TOOLBAR\n",
       "*****************************************\n",
       " <<<<<<<<<<<<<<<<<<<>>>>>>>>>>>>>>>>>>>> */\n",
       "\n",
       "div#maintoolbar {\n",
       "    display: none !important;\n",
       "}\n",
       "\n",
       "\n",
       "div.list_container a:hover {color: #eeeeee;}\n",
       ".list_header {\n",
       "    font-weight: normal;\n",
       "    background-color: #2A2F3C;\n",
       "}\n",
       "div.list_container :hover {\n",
       "    background-color: #2A2F3C;\n",
       "    color: #eeeeee;\n",
       "}\n",
       "div.notebook_list_header {\n",
       "      background: #262931;\n",
       "\n",
       "}\n",
       ".list_container > div {\n",
       "    border-bottom: 1px solid rgba(53, 87, 120, 0.55);\n",
       "    font-size: 11pt;\n",
       "}\n",
       ".panel-default {\n",
       "    border-color: rgba(53, 87, 120, 0.55);\n",
       "}\n",
       ".panel {\n",
       "    line-height: 22px;\n",
       "    fontsize: 11px;\n",
       "    margin-bottom: 18px;\n",
       "    background-color: #262931;\n",
       "    color: #8997b0;\n",
       "    border: 2px solid rgba(53, 87, 120, 0.55);\n",
       "    box-shadow: none;\n",
       "}\n",
       ".dropdown-menu {\n",
       "    border: 1px solid rgba(53, 87, 120, 0.95);\n",
       "    background-color: #39414F;\n",
       "    background: #39414F;\n",
       "    box-shadow: none;\n",
       "    padding-top: 0px;\n",
       "    padding-bottom: 0px;\n",
       "    list-style: outside none none;\n",
       "    font-size: 11pt;\n",
       "    text-align: left;\n",
       "}\n",
       ".dropdown-menu:hover{\n",
       "    background-color: #39414F;\n",
       "    border: 1px solid rgba(53, 87, 120, 0.95);\n",
       "    box-shadow: none;\n",
       "    padding-top: 0px;\n",
       "    padding-bottom: 0px;\n",
       "}\n",
       ".modal-content {\n",
       "    position: relative;\n",
       "    background-color: #39414F;\n",
       "    border: 1px solid rgba(53, 87, 120, 0.15);\n",
       "    border-radius: 3px;\n",
       "    box-shadow: 0px 3px 9px rgba(53, 87, 120, 0.25);\n",
       "    background-clip: padding-box;\n",
       "    outline: 0px none;\n",
       "}\n",
       ".dropdown-header {\n",
       "    display: block;\n",
       "    padding: 3px 20px;\n",
       "    font-size: 11pt;\n",
       "    line-height: 1.42857;\n",
       "    color: #5c6b89;\n",
       "    text-decoration: underline;\n",
       "    text-decoration-color: rgba(53, 87, 120, 0.95);\n",
       "    white-space: nowrap;\n",
       "}\n",
       ".dropdown-menu > li > a {\n",
       "    border: 1px solid #39414F;\n",
       "    display: block;\n",
       "    padding: none;\n",
       "    clear: both;\n",
       "    background-clip: padding-box;\n",
       "    font-weight: normal;\n",
       "    line-height: 1.42857;\n",
       "    color: #8997b0;\n",
       "    white-space: nowrap;\n",
       "    background-color: #39414F;\n",
       "    background: #39414F;\n",
       "}\n",
       ".dropdown-menu > li > a:hover {\n",
       "    background-clip: padding-box;\n",
       "    background-color: #39414F;\n",
       "    border: 1px solid #39414F;\n",
       "    color: #eeeeee;\n",
       "    padding: none;\n",
       "    background: #39414F;\n",
       "}\n",
       ".dropdown-menu .divider {\n",
       "    height: 2px;\n",
       "    margin: 8px 0px;\n",
       "    overflow: hidden;\n",
       "    background-color: rgba(53, 87, 120, 0.95);\n",
       "}\n",
       ".dropdown-menu > .disabled > a, .dropdown-menu > .disabled > a:hover, .dropdown-menu > .disabled > a:focus {\n",
       "    color: #5A647B;\n",
       "}\n",
       ".modal-header {\n",
       "    padding: 15px;\n",
       "    border-bottom: 1px solid rgba(53, 87, 120, 0.95);\n",
       "    min-height: 16.4286px;\n",
       "}\n",
       "#running .panel-group .panel .panel-heading {\n",
       "    background-color: #262931;\n",
       "    padding: 4px 7px;\n",
       "    line-height: 22px;\n",
       "}\n",
       "#running .panel-group .panel .panel-heading a:hover {\n",
       "    color: #2c85f7;\n",
       "}\n",
       "#running .panel-group .panel .panel-body .list_container .list_item {\n",
       "    border-bottom: 1px solid rgba(53, 87, 120, 0.55);\n",
       "}\n",
       "\n",
       "#project_name > .breadcrumb {\n",
       "    font-weight: normal;\n",
       "    color: #2c85f7;\n",
       "\n",
       "}\n",
       ".rendered_html pre, .rendered_html code {\n",
       "    font-size: 11pt;\n",
       "    color: #8997b0;\n",
       "    line-height: 1.35em;\n",
       "    background: #262931;\n",
       "}\n",
       "body {\n",
       "    font-size: 14pt;\n",
       "    line-height: 1.42857;\n",
       "    color: #8997b0;\n",
       "}\n",
       "\n",
       "#kernel_indicator {\n",
       "    float: right !important;\n",
       "    color: #2c85f7;\n",
       "}\n",
       "#kernel_indicator .kernel_indicator_name {\n",
       "    padding-left: 5px;\n",
       "    padding-right: 5px;\n",
       "    font-size: 11pt;\n",
       "}\n",
       "#modal_indicator {\n",
       "    float: right !important;\n",
       "    color: #2c85f7;\n",
       "\n",
       "}\n",
       "\n",
       ".CodeMirror pre {\n",
       "  font-family: 'Menlo', monospace;\n",
       "  font-size: 12pt;\n",
       "}\n",
       "\n",
       ".notebook_app {\n",
       "    background-color: #262931;\n",
       "}\n",
       ".notebook_app #header {\n",
       "    box-shadow: none !important;\n",
       "}\n",
       "#notebook-container {\n",
       "    padding: 15px;\n",
       "    background-color: #262931;\n",
       "    min-height: 0px;\n",
       "    box-shadow: none;\n",
       "}\n",
       "#header {\n",
       "    box-shadow: none;\n",
       "    background-color: #262931;\n",
       "    position: relative;\n",
       "    z-index: 100;\n",
       "}\n",
       "#header-container {\n",
       "    padding-bottom: 5px;\n",
       "    display: none !important;\n",
       "    box-shadow: none;\n",
       "}\n",
       "#header .header-bar {\n",
       "    background: #262931;\n",
       "}\n",
       "/* text in output area (i.e. print some_list) */\n",
       "div.output_html {color: #1e2429;}\n",
       "\n",
       "/* Formatting code in text, code*/\n",
       ".rendered_html table {\n",
       "    float: left;\n",
       "}\n",
       "\n",
       ".navbar-default {\n",
       "    background-color: #262931;\n",
       "    border-color: #262931;\n",
       "}\n",
       "#menubar .navbar {\n",
       "    border-top: 1px;\n",
       "    border-radius: 0 0 2px 2px;\n",
       "    margin-bottom: 0;\n",
       "    margin-top: 8px;\n",
       "}\n",
       ".navbar-default .navbar-nav > li > a {\n",
       "    color: #8997b0;\n",
       "    font-size: 11pt;\n",
       "}\n",
       ".navbar-default .navbar-nav > li > a:hover, .navbar-default .navbar-nav > li > a:focus {\n",
       "    color: #ffffff;\n",
       "    background-color: rgba(53, 108, 180, .5);\n",
       "}\n",
       ".navbar-default .navbar-nav > .open > a, .navbar-default .navbar-nav > .open > a:hover, .navbar-default .navbar-nav > .open > a:focus {\n",
       "    color: #ffffff;\n",
       "    background-color: rgba(53, 108, 180, .5);\n",
       "}\n",
       ".btn {\n",
       "    color: #8997b0;\n",
       "    background: #262931;\n",
       "    font-size: 11pt;\n",
       "    font-weight: normal;\n",
       "    border: 0 none !important;\n",
       "    box-shadow: none !important;\n",
       "    text-shadow: none;\n",
       "    vertical-align: 0px;\n",
       "}\n",
       "\n",
       ".btn-group > .btn-mini {\n",
       "    color: #8997b0;\n",
       "    background: #262931;\n",
       "    font-size: 11pt;\n",
       "    font-weight: normal;\n",
       "    border: 0 none !important;\n",
       "    box-shadow: none !important;\n",
       "    text-shadow: none;\n",
       "}\n",
       ".btn:hover {\n",
       "    color: #2c85f7;\n",
       "    background: #262931;\n",
       "    background-color: #262931;\n",
       "    background-image: none;\n",
       "}\n",
       ".btn-group > .btn-mini:hover {\n",
       "    color: #2c85f7;\n",
       "    background: #262931;\n",
       "    background-color: #262931;\n",
       "    background-image: none;\n",
       "}\n",
       ".btn-group, .btn-group-vertical {\n",
       "    position: relative;\n",
       "    display: inline-block;\n",
       "    vertical-align: middle;\n",
       "}\n",
       ".ipython_tooltip {\n",
       "    border: 2px solid #3572C6;\n",
       "    box-shadow: none;\n",
       "    border-radius: 2px;\n",
       "    position: absolute;\n",
       "    z-index: 1000;\n",
       "    background-color: #39414F;\n",
       "}\n",
       "\n",
       ".ipython_tooltip .tooltiptext pre {\n",
       "    border: 0px none;\n",
       "    border-radius: 0px;\n",
       "    background-color: #39414F;\n",
       "    color: #CFD2D9;\n",
       "}\n",
       "/* Formatting code in markdown cells */\n",
       "div.text_cell_render {\n",
       "    font-family: 'Verdana', sans-serif;\n",
       "    font-size: 13pt;\n",
       "    /*background: #303845;*/\n",
       "    background: #262931; /* Same color as page background */\n",
       "    font-weight: 310;\n",
       "    line-height: 1.75em;\n",
       "    letter-spacing: 0.1px;\n",
       "    color: #8997b0;\n",
       "}\n",
       "/* Formatting code in markdown cells */\n",
       "div.text_cell_render pre {\n",
       "    color: #8997b0;\n",
       "}\n",
       "div.text_cell {\n",
       "    max-width: 105ex;\n",
       "    color: #8997b0;\n",
       "}\n",
       "\n",
       "div.text_cell_render h1 {\n",
       "    font-size: 2.5em;\n",
       "    color: #ffffff !important;\n",
       "}\n",
       "div.text_cell_render h2 {\n",
       "    font-size: 2em;\n",
       "    padding-top: 2em;\n",
       "    padding-bottom: 5px;\n",
       "    border-bottom: 2px solid #39414F;\n",
       "}\n",
       "div.text_cell_render h3 {\n",
       "    font-size: 1.5em;\n",
       "}\n",
       "\n",
       "div.text_cell_render h4 {\n",
       "    font-size: 1.25em;\n",
       "}\n",
       "\n",
       "div.text_cell_render h1,\n",
       "div.text_cell_render h2,\n",
       "div.text_cell_render h3,\n",
       "div.text_cell_render h4,\n",
       "div.text_cell_render h5,\n",
       "div.text_cell_render h6 {\n",
       "    font-family: 'Avenir', sans-serif;\n",
       "    /*background: #303845;*/\n",
       "    background: #262931; /* Same color as page background */\n",
       "    font-weight: 300;\n",
       "    /*color: #8997b0;*/\n",
       "    color: #B3B3B3;\n",
       "    /*line-height: 80%;*/\n",
       "    /*letter-spacing: 0.5px;*/\n",
       "}\n",
       "\n",
       "/* text in output area (i.e. print some_list) */\n",
       "div.output_html {color: #a4b8cb;}\n",
       "\n",
       "/* Formatting code in text, code*/\n",
       ".rendered_html table, .rendered_html th, .rendered_html tr, .rendered_html td {\n",
       "  border: 1px #a4b8cb solid;\n",
       "  color: #a4b8cb;\n",
       "  background-color: #39414F !important;\n",
       "  align-content: left !important;\n",
       "}\n",
       "\n",
       ".rendered_html table code {\n",
       "    background-color: #39414F;\n",
       "}\n",
       "\n",
       "button.close {\n",
       "    padding: 0px;\n",
       "    cursor: pointer;\n",
       "    background: transparent none repeat scroll 0% 0%;\n",
       "    border: 0px none;\n",
       "}\n",
       ".close {\n",
       "    float: right;\n",
       "    font-size: 22px;\n",
       "    font-weight: bold;\n",
       "    line-height: 1;\n",
       "    color: #3572C6;\n",
       "    text-shadow: 0px 1px 0px rgba(53, 87, 120, 0.2);\n",
       "    opacity: 0.3;\n",
       "}\n",
       ".close:hover {\n",
       "    color: #0095ff;\n",
       "    text-shadow: 0px 1px 0px rgba(53, 87, 120, 0.2);\n",
       "    opacity: 0.9;\n",
       "}\n",
       ".form-control {\n",
       "    display: block;\n",
       "    width: 100%;\n",
       "    height: 32px;\n",
       "    padding: 6px 12px;\n",
       "    font-size: 13pt;\n",
       "    line-height: 1.6;\n",
       "    color: #6ea3d4;\n",
       "    background-color: #303845;\n",
       "    background-image: none;\n",
       "    border: 1px solid rgba(53, 87, 120, 0.95);\n",
       "    border-radius: 2px;\n",
       "    box-shadow: none;\n",
       "    transition: border-color 0.15s ease-in-out 0s, box-shadow 0.15s ease-in-out 0s;\n",
       "}\n",
       "\n",
       ".modal-footer {\n",
       "    padding: 15px;\n",
       "    text-align: right;\n",
       "    border-top: 1px solid rgba(53, 87, 120, 0.95);\n",
       "}\n",
       ".input-form-control:hover:active {\n",
       "      background-color:  rgba(53, 87, 120, 0.95);\n",
       "      selected:  rgba(53, 87, 120, 0.95);\n",
       "}\n",
       "\n",
       "span.ansiblack {color: #2b303b;}\n",
       "span.ansiblue {color: #6ea3d4;}\n",
       "span.ansigray {color: #B4B7B4;}\n",
       "span.ansigreen {color: #8FC198;}\n",
       "span.ansipurple {color: #BE8fC1;}\n",
       "span.ansicyan {color: #7BC6C0;}\n",
       "span.ansiyellow {color: #DDD7A3;}\n",
       "span.ansired {color: #DB797C;}\n",
       "\n",
       "div.output_stderr {background-color: #DB797C;}\n",
       "div.output_stderr pre {color: #D0D4E6;}\n",
       "\n",
       ".cm-s-ipython.CodeMirror {background: #303845; color: #D0D4E6; font-size:13pt !important;}\n",
       ".cm-s-ipython div.CodeMirror-selected {background: #3C4555 !important;}\n",
       ".cm-s-ipython .CodeMirror-gutters {background: #39414F; border: 0px; border-radius:0px;}\n",
       ".cm-s-ipython .CodeMirror-linenumber {color: #5A647B !important; font-size: 11pt;}\n",
       ".cm-s-ipython .CodeMirror-cursor {border-left: 2px solid #0095ff !important;}\n",
       ".cm-s-ipython span.cm-comment {color: #6E7C95; font-style: normal !important;}\n",
       ".cm-s-ipython span.cm-atom {color: #CAA6EC;}\n",
       ".cm-s-ipython span.cm-number {color: #EFAA8E;}\n",
       ".cm-s-ipython span.cm-property {color: #77ABE7;}\n",
       ".cm-s-ipython span.cm-attribute {color: #E39194;}\n",
       ".cm-s-ipython span.cm-keyword {color: #CAA6EC; font-weight: normal;}\n",
       ".cm-s-ipython span.cm-string {color: #8FCA9A; font-weight: normal;}\n",
       ".cm-s-ipython span.cm-operator {color: #77ABE7; font-weight: normal;}\n",
       ".cm-s-ipython span.cm-builtin {color: #E39194; font-weight: normal;}\n",
       ".cm-s-ipython span.cm-boolean {color: #E39194;}\n",
       ".cm-s-ipython span.cm-variable {color: #D0D4E6;}\n",
       ".cm-s-ipython span.cm-variable-2 {color: #E39194;}\n",
       "\n",
       ".cm-s-ipython span.cm-def {color: #77ABE7; font-weight: normal;}\n",
       ".cm-s-ipython span.cm-error {background: rgba(191, 97, 106, .3) !important;}\n",
       ".cm-s-ipython span.cm-tag {color: #CAA6EC;}\n",
       ".cm-s-ipython span.cm-link {color: #E39194;}\n",
       ".cm-s-ipython span.cm-storage {color: #CAA6EC;}\n",
       ".cm-s-ipython span.cm-entity {color: #E39194;}\n",
       ".cm-s-ipython span.cm-class {color: #E5DEA5;}\n",
       ".cm-s-ipython span.cm-support {color: #77ABE7;}\n",
       ".cm-s-ipython span.cm-qualifier {color: #77ABE7;}\n",
       ".cm-s-ipython span.cm-property {color: #77ABE7;}\n",
       "\n",
       "\n",
       "\n",
       "div.CodeMirror span.CodeMirror-matchingbracket { color: #eeeeee; background: rgba(53, 108, 180, .75) !important ; }\n",
       "div.CodeMirror span.CodeMirror-nonmatchingbracket { color: #eeeeee; background: rgba(191, 97, 106, .65) !important ; }\n",
       ".cm-s-ipython .CodeMirror-matchingbracket { color: #eeeeee; background: rgba(53, 108, 180, .75)  !important; }\n",
       ".cm-s-ipython .CodeMirror-nonmatchingbracket { color: #eeeeee; background: rgba(191, 97, 106, .65) !important; }\n",
       "\n",
       "\n",
       "div.cell { width: 105ex; border: medium solid #262931; padding: 0px; border-radius: 0px; }\n",
       "div.cell.selected { border: 1px solid #4c4c4c; padding: 10px; border-radius: 10px; }\n",
       ".edit_mode div.cell.selected {border: medium solid rgba(53, 108, 180, .45) !important; padding: 0px; border-radius: 0px; }\n",
       "div.cell.edit_mode {border: medium solid rgba(53, 108, 180, .45) !important; padding: 0px; border-radius: 0px;}\n",
       "\n",
       "div.prompt {\n",
       "    padding: 0.3em;\n",
       "    margin: 0px;\n",
       "    font-family: monospace;\n",
       "    text-align: left;\n",
       "    line-height: 1.21429em;\n",
       "    min-width: 11ex;\n",
       "    font-size: 9.5pt;\n",
       "}\n",
       "\n",
       "div.input_area {\n",
       "    margin-bottom: 0px;\n",
       "    border: 0px;\n",
       "    border-radius: 0px;\n",
       "}\n",
       "/*Input and output cells formatting*/\n",
       "div.prompt.input_prompt {\n",
       "    font-family: 'Menlo', monospace;\n",
       "    border-right: 2px solid rgba(53, 108, 180, .4);\n",
       "    font-weight: bold;\n",
       "    font-size: 9.5pt;\n",
       "    color: #5A647B;\n",
       "    background-color: #303845;\n",
       "    width: 1em;\n",
       "    padding-bottom: 0px;\n",
       "    margin-bottom: 0px;\n",
       "}\n",
       "div.prompt.output_prompt {\n",
       "    font-family: 'Menlo', monospace;\n",
       "    font-weight: bold;\n",
       "    background-color: #39414F;\n",
       "    color: #39414F;\n",
       "    font-size: 9.5pt;\n",
       "    width: 1em;\n",
       "    margin-bottom: 8px;\n",
       "    padding-top: 1em;\n",
       "    padding-bottom: 1em;\n",
       "}\n",
       "div.out_prompt_overlay.prompt {\n",
       "    font-family: 'Menlo', monospace;\n",
       "    font-weight: bold;\n",
       "    font-size: 9.5pt;\n",
       "    width: 1em;\n",
       "    margin-bottom: 8px;\n",
       "    /*background-color: #39414F; */ /* Hides some output if set */\n",
       "    border-radius: 4px;\n",
       "    -webkit-border-radius: 4px;\n",
       "    -moz-border-radius: 4px;\n",
       "}\n",
       "div.out_prompt_overlay.prompt:hover {\n",
       "    font-family: 'Menlo', monospace;\n",
       "    font-weight: bold;\n",
       "    font-size: 9.5pt;\n",
       "    width: 1em;\n",
       "    border-radius: 4px;\n",
       "    margin-bottom: 8px;\n",
       "    background-color: #39414F;\n",
       "    box-shadow: #303845 2px 2px 6px 4px inset;\n",
       "    -webkit-border-radius: 4px;\n",
       "    -moz-border-radius: 4px;\n",
       "}\n",
       "div.output_wrapper {\n",
       "    background-color:#39414F;\n",
       "    margin-bottom: 0em;\n",
       "    margin-top: 0em;\n",
       "    border: 0px;\n",
       "}\n",
       "div.output_subarea.output_text.output_stream.output_stdout,div.output_subarea.output_text {\n",
       "    padding-top: 1em;\n",
       "    margin-bottom: 8px;\n",
       "    margin-top: 8px;\n",
       "    margin-left: 8px;\n",
       "    margin-right: 8px;\n",
       "    background-color: #39414F;\n",
       "    color: #CFD2D9;\n",
       "}\n",
       "div.output_area pre {\n",
       "    color: #CFD2D9;\n",
       "    font-size: 11pt;\n",
       "}\n",
       "div.output_subarea {\n",
       "    overflow-x: auto;\n",
       "    padding: 1.0em;\n",
       "    -webkit-box-flex: 1;\n",
       "    -moz-box-flex: 1;\n",
       "    box-flex: 1;\n",
       "    flex: 1;\n",
       "    max-width: calc(100% - 14ex);\n",
       "}\n",
       "</style>\n"
      ],
      "text/plain": [
       "<IPython.core.display.HTML object>"
      ]
     },
     "execution_count": 96,
     "metadata": {},
     "output_type": "execute_result"
    }
   ],
   "source": [
    "from IPython.core.display import HTML\n",
    "styles = open(\"dark.css\", \"r\").read()\n",
    "HTML(styles)"
   ]
  }
 ],
 "metadata": {
  "kernelspec": {
   "display_name": "Python 3",
   "language": "python",
   "name": "python3"
  },
  "language_info": {
   "codemirror_mode": {
    "name": "ipython",
    "version": 3
   },
   "file_extension": ".py",
   "mimetype": "text/x-python",
   "name": "python",
   "nbconvert_exporter": "python",
   "pygments_lexer": "ipython3",
   "version": "3.4.3"
  }
 },
 "nbformat": 4,
 "nbformat_minor": 0
}
