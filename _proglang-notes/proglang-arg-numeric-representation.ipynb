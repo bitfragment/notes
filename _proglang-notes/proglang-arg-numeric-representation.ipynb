{
 "cells": [
  {
   "cell_type": "markdown",
   "metadata": {},
   "source": [
    "# Numeric representation"
   ]
  },
  {
   "cell_type": "markdown",
   "metadata": {},
   "source": [
    "## Sources\n",
    "\n",
    "* Bryant and O’Hallaron, *Computer Systems: A Programmer’s Perspective* (2003), Chapter 2: Representing and Manipulating Information\n",
    "* Hyde, *Write Great Code, Volume 1: Understanding the Machine* (2004), Chapter 2: Numeric Representation\n",
    "* Hyde, *Write Great Code, Volume 1: Understanding the Machine* (2004), Chapter 3: Binary Arithmetic and Bit Operations"
   ]
  },
  {
   "cell_type": "code",
   "execution_count": 1,
   "metadata": {
    "collapsed": true
   },
   "outputs": [],
   "source": [
    "from ipywidgets import interact"
   ]
  },
  {
   "cell_type": "markdown",
   "metadata": {},
   "source": [
    "## What is a number?\n",
    "\n",
    "A number is an abstraction that can be represented using many different symbols. Here are six different ways of representing a particular number:\n",
    "\n",
    "* one hundred (English-language representation)\n",
    "* C (Roman numeral representation)\n",
    "* 100 (base 10/decimal representation)\n",
    "* $64_{16}$ (base 16/hexadecimal representation)\n",
    "* $1100100_{2}$ (base two/binary representation)\n",
    "* $144_{8}$ (base eight/octal representation)"
   ]
  },
  {
   "cell_type": "markdown",
   "metadata": {},
   "source": [
    "## Built-in conversion between representations"
   ]
  },
  {
   "cell_type": "markdown",
   "metadata": {},
   "source": [
    "Python, for example, offers built-in functions for converting between different representations of numbers."
   ]
  },
  {
   "cell_type": "markdown",
   "metadata": {},
   "source": [
    "Converting integer to a string representation of binary:"
   ]
  },
  {
   "cell_type": "code",
   "execution_count": 2,
   "metadata": {
    "collapsed": false
   },
   "outputs": [
    {
     "data": {
      "text/plain": [
       "'0b1011000'"
      ]
     },
     "execution_count": 2,
     "metadata": {},
     "output_type": "execute_result"
    }
   ],
   "source": [
    "bin(88)"
   ]
  },
  {
   "cell_type": "markdown",
   "metadata": {},
   "source": [
    "Converting string representation of binary to integer:"
   ]
  },
  {
   "cell_type": "code",
   "execution_count": 46,
   "metadata": {
    "collapsed": false
   },
   "outputs": [
    {
     "data": {
      "text/plain": [
       "88"
      ]
     },
     "execution_count": 46,
     "metadata": {},
     "output_type": "execute_result"
    }
   ],
   "source": [
    "int('0b1011000', 2)"
   ]
  },
  {
   "cell_type": "markdown",
   "metadata": {},
   "source": [
    "Converting integer to string hexadecimal notation:"
   ]
  },
  {
   "cell_type": "code",
   "execution_count": 48,
   "metadata": {
    "collapsed": false
   },
   "outputs": [
    {
     "data": {
      "text/plain": [
       "'0x58'"
      ]
     },
     "execution_count": 48,
     "metadata": {},
     "output_type": "execute_result"
    }
   ],
   "source": [
    "hex(88)"
   ]
  },
  {
   "cell_type": "markdown",
   "metadata": {},
   "source": [
    "Converting string hexadecimal notation to integer:"
   ]
  },
  {
   "cell_type": "code",
   "execution_count": 49,
   "metadata": {
    "collapsed": false
   },
   "outputs": [
    {
     "data": {
      "text/plain": [
       "88"
      ]
     },
     "execution_count": 49,
     "metadata": {},
     "output_type": "execute_result"
    }
   ],
   "source": [
    "int('0x58', 16)"
   ]
  },
  {
   "cell_type": "markdown",
   "metadata": {},
   "source": [
    "## The decimal (base 10) positional numbering system\n",
    "\n",
    "Magnitudes, in powers of ten, are relative to distance from the decimal point:\n",
    "\n",
    "⟵ 123.45 ⟶\n",
    "\n",
    "⟵ $10^{2} 10^{1} 10^{0} . 10^{-1} 10^{-2}$ ⟶\n",
    "\n",
    "123.45 = $(1 \\times 10^{2}) + (2 \\times 10^{1}) + (3 \\times 10^{0}) + (4 \\times 10^{-1}) + (5 \\times 10^{-2})$\n",
    "\n",
    "Very explicitly convert decimal to itself, converting a number parameter to a string and treating each character symbol in relation to its index position in that string:"
   ]
  },
  {
   "cell_type": "code",
   "execution_count": 8,
   "metadata": {
    "collapsed": false
   },
   "outputs": [],
   "source": [
    "def dec_to_dec(n):\n",
    "    expansion = ''\n",
    "    sum = 0\n",
    "    segments = str(n).split('.')\n",
    "    beforePoint = segments[0]\n",
    "    afterPoint = segments[1]\n",
    "    \n",
    "    for index, symbol in enumerate(beforePoint):\n",
    "        power = len(beforePoint) - index - 1\n",
    "        sum += int(symbol) * (10 ** power)\n",
    "        expansion += '(%s * 10^%i)' % (symbol, power)\n",
    "        expansion += ' + '\n",
    "        \n",
    "    for index, symbol in enumerate(afterPoint):\n",
    "        power = 0 - (index + 1)\n",
    "        sum += int(symbol) * (10 ** power)\n",
    "        expansion += '(%s * 10^%i)' % (symbol, power)\n",
    "        if index < len(afterPoint) - 1:\n",
    "            expansion += ' + '\n",
    "            \n",
    "    print('Expansion: %s' % expansion)\n",
    "    print('Sum:   %s' % str(sum))\n",
    "    print('Input: %s' % str(n))\n",
    "    if sum != n:\n",
    "        print('Oops!')"
   ]
  },
  {
   "cell_type": "code",
   "execution_count": 9,
   "metadata": {
    "collapsed": false
   },
   "outputs": [
    {
     "name": "stdout",
     "output_type": "stream",
     "text": [
      "Expansion: (1 * 10^2) + (2 * 10^1) + (3 * 10^0) + (4 * 10^-1) + (5 * 10^-2)\n",
      "Sum:   123.45\n",
      "Input: 123.45\n"
     ]
    }
   ],
   "source": [
    "dec_to_dec(123.45)"
   ]
  },
  {
   "cell_type": "code",
   "execution_count": 19,
   "metadata": {
    "collapsed": false
   },
   "outputs": [
    {
     "name": "stdout",
     "output_type": "stream",
     "text": [
      "Expansion: (7 * 10^1) + (4 * 10^0) + (3 * 10^-1)\n",
      "Sum:   74.3\n",
      "Input: 74.3\n"
     ]
    }
   ],
   "source": [
    "interact(dec_to_dec, n=(1, 125.00))"
   ]
  },
  {
   "cell_type": "markdown",
   "metadata": {},
   "source": [
    "Just return a value:"
   ]
  },
  {
   "cell_type": "code",
   "execution_count": 31,
   "metadata": {
    "collapsed": false
   },
   "outputs": [],
   "source": [
    "def dec_to_dec(n):\n",
    "    sum = 0\n",
    "    segments = str(n).split('.')\n",
    "    beforePoint = segments[0]\n",
    "    afterPoint = segments[1]\n",
    "    for index, symbol in enumerate(beforePoint):\n",
    "        power = len(beforePoint) - index - 1\n",
    "        sum += int(symbol) * (10 ** power)\n",
    "    for index, symbol in enumerate(afterPoint):\n",
    "        power = 0 - (index + 1)\n",
    "        sum += int(symbol) * (10 ** power)\n",
    "    return sum"
   ]
  },
  {
   "cell_type": "code",
   "execution_count": 32,
   "metadata": {
    "collapsed": false
   },
   "outputs": [
    {
     "data": {
      "text/plain": [
       "123.45"
      ]
     },
     "execution_count": 32,
     "metadata": {},
     "output_type": "execute_result"
    }
   ],
   "source": [
    "dec_to_dec(123.45)"
   ]
  },
  {
   "cell_type": "markdown",
   "metadata": {},
   "source": [
    "## Radix (base)\n",
    "\n",
    "Convert octal (base 8) to decimal:"
   ]
  },
  {
   "cell_type": "code",
   "execution_count": 29,
   "metadata": {
    "collapsed": false
   },
   "outputs": [],
   "source": [
    "def oct_to_dec(n):\n",
    "    s = str(n)\n",
    "    sum = 0\n",
    "    for index, symbol in enumerate(s):\n",
    "        power = len(s) - index - 1\n",
    "        sum += int(symbol) * (8 ** power)\n",
    "    return sum"
   ]
  },
  {
   "cell_type": "code",
   "execution_count": 30,
   "metadata": {
    "collapsed": false
   },
   "outputs": [
    {
     "data": {
      "text/plain": [
       "83"
      ]
     },
     "execution_count": 30,
     "metadata": {},
     "output_type": "execute_result"
    }
   ],
   "source": [
    "oct_to_dec(123)"
   ]
  },
  {
   "cell_type": "markdown",
   "metadata": {},
   "source": [
    "Passing base as parameter:"
   ]
  },
  {
   "cell_type": "code",
   "execution_count": 23,
   "metadata": {
    "collapsed": false
   },
   "outputs": [],
   "source": [
    "def any_to_dec(n, base):\n",
    "    s = str(n)\n",
    "    sum = 0\n",
    "    for index, symbol in enumerate(s):\n",
    "        power = len(s) - index - 1\n",
    "        sum += int(symbol) * (base ** power)\n",
    "    return sum"
   ]
  },
  {
   "cell_type": "markdown",
   "metadata": {},
   "source": [
    "Octal:"
   ]
  },
  {
   "cell_type": "code",
   "execution_count": 27,
   "metadata": {
    "collapsed": false
   },
   "outputs": [
    {
     "data": {
      "text/plain": [
       "83"
      ]
     },
     "execution_count": 27,
     "metadata": {},
     "output_type": "execute_result"
    }
   ],
   "source": [
    "any_to_dec(123, 8)"
   ]
  },
  {
   "cell_type": "markdown",
   "metadata": {},
   "source": [
    "Binary:"
   ]
  },
  {
   "cell_type": "code",
   "execution_count": 28,
   "metadata": {
    "collapsed": false
   },
   "outputs": [
    {
     "data": {
      "text/plain": [
       "11"
      ]
     },
     "execution_count": 28,
     "metadata": {},
     "output_type": "execute_result"
    }
   ],
   "source": [
    "any_to_dec(1011, 2)"
   ]
  },
  {
   "cell_type": "markdown",
   "metadata": {},
   "source": [
    "## The binary (base 2) numbering system"
   ]
  },
  {
   "cell_type": "markdown",
   "metadata": {},
   "source": [
    "$11001010_{2}$\n",
    "\n",
    "$(1 \\times 2^{7}) + (1 \\times 2^{6}) + (0 \\times 2^{5}) + (0 \\times 2^{4}) + (1 \\times 2^{3}) + (0 \\times 2^{2}) + (1 \\times 2^{1}) + (0 \\times 2^{0})$\n",
    "\n",
    "$128 + 64 + 8 + 2 = 202_{10}$\n",
    "\n",
    "Very explicitly convert binary to decimal, converting a number parameter to a string and treating each character symbol in relation to its index position in that string:"
   ]
  },
  {
   "cell_type": "code",
   "execution_count": 20,
   "metadata": {
    "collapsed": false
   },
   "outputs": [],
   "source": [
    "def bin_to_dec(n):\n",
    "    expansion = ''\n",
    "    sum = 0\n",
    "    s = str(n)\n",
    "\n",
    "    for index, symbol in enumerate(s):\n",
    "        power = len(s) - index - 1\n",
    "        sum += int(symbol) * (2 ** power)\n",
    "        expansion += '(%s * 2^%i)' % (symbol, power)\n",
    "        if index < len(s) - 1:\n",
    "            expansion += ' + '\n",
    "\n",
    "    print('Expansion: %s' % expansion)\n",
    "    print('Sum: %s' % str(sum))"
   ]
  },
  {
   "cell_type": "code",
   "execution_count": 21,
   "metadata": {
    "collapsed": false
   },
   "outputs": [
    {
     "name": "stdout",
     "output_type": "stream",
     "text": [
      "Expansion: (1 * 2^7) + (1 * 2^6) + (0 * 2^5) + (0 * 2^4) + (1 * 2^3) + (0 * 2^2) + (1 * 2^1) + (0 * 2^0)\n",
      "Sum: 202\n"
     ]
    }
   ],
   "source": [
    "bin_to_dec(11001010)"
   ]
  },
  {
   "cell_type": "markdown",
   "metadata": {},
   "source": [
    "Convert decimal to binary using a divide by 2 algorithm and a stack:"
   ]
  },
  {
   "cell_type": "code",
   "execution_count": 22,
   "metadata": {
    "collapsed": false
   },
   "outputs": [],
   "source": [
    "def dec_to_bin(n):\n",
    "    stack = []\n",
    "    bin = ''\n",
    "    while n > 0:\n",
    "        rem = n % 2\n",
    "        stack.append(rem)\n",
    "        n = n // 2\n",
    "    while len(stack) > 0:\n",
    "        bin += str(stack.pop())\n",
    "    return bin"
   ]
  },
  {
   "cell_type": "code",
   "execution_count": 23,
   "metadata": {
    "collapsed": false
   },
   "outputs": [
    {
     "data": {
      "text/plain": [
       "'11001010'"
      ]
     },
     "execution_count": 23,
     "metadata": {},
     "output_type": "execute_result"
    }
   ],
   "source": [
    "dec_to_bin(202)"
   ]
  },
  {
   "cell_type": "code",
   "execution_count": 24,
   "metadata": {
    "collapsed": false
   },
   "outputs": [
    {
     "data": {
      "text/plain": [
       "'10001111'"
      ]
     },
     "metadata": {},
     "output_type": "display_data"
    }
   ],
   "source": [
    "interact(dec_to_bin, n=(1, 255))"
   ]
  },
  {
   "cell_type": "markdown",
   "metadata": {},
   "source": [
    "## Binary encodings\n",
    "\n",
    "Three encodings:\n",
    "* *Unsigned* encodings for positive integers including 0\n",
    "* *Two's complement* encodings for signed integers (positive or negative)\n",
    "* *Floating point* encodings"
   ]
  },
  {
   "cell_type": "markdown",
   "metadata": {},
   "source": [
    "## The hexadecimal (base 16) numbering system\n",
    "\n",
    "Since binary-hexadecimal conversion is easy, hexadecimal notation is almost always used instead of binary."
   ]
  },
  {
   "cell_type": "markdown",
   "metadata": {},
   "source": [
    "$1234_{16} = (1 \\times 16^{3}) + (2 \\times 16^{2}) + (3 \\times 16^{1}) + (4 \\times 16^{0}) = 4096 + 512 + 48 + 4 = 4660_{10}$\n"
   ]
  },
  {
   "cell_type": "markdown",
   "metadata": {},
   "source": [
    "Very explicitly convert hex to binary:"
   ]
  },
  {
   "cell_type": "code",
   "execution_count": 5,
   "metadata": {
    "collapsed": false
   },
   "outputs": [],
   "source": [
    "def hex_to_bin(s):\n",
    "    h2b = { '0': '0000', '1': '0001', '2': '0010', '3': '0011',\n",
    "            '4': '0100', '5': '0101', '6': '0110', '7': '0111',\n",
    "            '8': '1000', '9': '1001', 'A': '1010', 'B': '1011',\n",
    "            'C': '1100', 'D': '1101', 'E': '1110', 'F': '1111'  }\n",
    "\n",
    "    return ('').join([h2b[x] for x in s])"
   ]
  },
  {
   "cell_type": "code",
   "execution_count": 38,
   "metadata": {
    "collapsed": false
   },
   "outputs": [
    {
     "data": {
      "text/plain": [
       "'1010101111001101'"
      ]
     },
     "execution_count": 38,
     "metadata": {},
     "output_type": "execute_result"
    }
   ],
   "source": [
    "hex_to_bin('ABCD')"
   ]
  },
  {
   "cell_type": "markdown",
   "metadata": {
    "collapsed": true
   },
   "source": [
    "Very explicitly convert binary to hex:"
   ]
  },
  {
   "cell_type": "code",
   "execution_count": 39,
   "metadata": {
    "collapsed": true
   },
   "outputs": [],
   "source": [
    "def bin_to_hex(s):\n",
    "    b2h = { '0000': '0', '0001': '1', '0010': '2', '0011': '3',\n",
    "            '0100': '4', '0101': '5', '0110': '6', '0111': '7',\n",
    "            '1000': '8', '1001': '9', '1010': 'A', '1011': 'B',\n",
    "            '1100': 'C', '1101': 'D', '1110': 'E', '1111': 'F'  }\n",
    "\n",
    "    padded, result = '', ''\n",
    "    for _ in range(len(s) % 4):\n",
    "        padded += '0'\n",
    "    padded += s\n",
    "    groups = [padded[i: i + 4] for i in range(0, len(padded), 4)]\n",
    "    for group in groups:\n",
    "        result += b2h[group]\n",
    "    return result"
   ]
  },
  {
   "cell_type": "code",
   "execution_count": 41,
   "metadata": {
    "collapsed": false
   },
   "outputs": [
    {
     "data": {
      "text/plain": [
       "'ABCD'"
      ]
     },
     "execution_count": 41,
     "metadata": {},
     "output_type": "execute_result"
    }
   ],
   "source": [
    "bin_to_hex('1010101111001101')"
   ]
  },
  {
   "cell_type": "code",
   "execution_count": 42,
   "metadata": {
    "collapsed": false
   },
   "outputs": [
    {
     "data": {
      "text/plain": [
       "'2D7'"
      ]
     },
     "execution_count": 42,
     "metadata": {},
     "output_type": "execute_result"
    }
   ],
   "source": [
    "bin_to_hex('1011010111')"
   ]
  },
  {
   "cell_type": "markdown",
   "metadata": {},
   "source": [
    "## The octal (base 8) numbering system\n",
    "\n",
    "The use of octal notation was more common in early computing, with systems whose bit size was a multiple of three. Today the most common systems have bit sizes that are multiples of two (8, 16, 32, 64...)"
   ]
  },
  {
   "cell_type": "markdown",
   "metadata": {},
   "source": [
    "## Internal numeric representation"
   ]
  },
  {
   "cell_type": "markdown",
   "metadata": {},
   "source": [
    "### Bit strings and words\n",
    "\n",
    "Ordinarily, one cannot address an individual bit. The smallest addressable unit of memory is a byte, or string of eight bits (though some data types may not actually require a full byte). On Intel 80x86 systems, a *word* is a 16-bit (two-byte) unit."
   ]
  },
  {
   "cell_type": "markdown",
   "metadata": {},
   "source": [
    "Figure 2.2. in Bryant and O'Hallaron, tabulating sizes in bytes of C numeric data types:\n",
    "\n",
    "C declaration | Typical 32-bit | Example 64-bit\n",
    "--------------|----------------|---------------\n",
    "`char`        | 1              | 1\n",
    "`short int`   | 2              | 2\n",
    "`int`         | 4              | 4\n",
    "`long int`    | 4              | 8\n",
    "`char *`      | 4              | 8\n",
    "`float`       | 4              | 4\n",
    "`double`      | 8              | 8"
   ]
  },
  {
   "cell_type": "markdown",
   "metadata": {},
   "source": [
    "Objects requiring more than a few multiples of word size (32 or 64 bits) can be handled up to a point, but with decreasing efficiency.\n",
    "\n",
    "Numeric representation is limited by the number of bits available for encoding a number. This can produce overflow, as in the case of the following C program, which on many machines will return a value of `-884901888`:"
   ]
  },
  {
   "cell_type": "markdown",
   "metadata": {
    "collapsed": true
   },
   "source": [
    "```c\n",
    "#include <stdio.h>\n",
    "\n",
    "int main(void) {\n",
    "    int a = 200 * 300 * 400 * 500;\n",
    "    printf(\"%i\", a);\n",
    "    return 0;\n",
    "}\n",
    "```"
   ]
  },
  {
   "cell_type": "markdown",
   "metadata": {},
   "source": [
    "Floating-point arithmetic is not associative, because the precision of representation is always finite. The following C program returns a value of `3.14`, as expected:"
   ]
  },
  {
   "cell_type": "markdown",
   "metadata": {
    "collapsed": true
   },
   "source": [
    "```c\n",
    "#include <stdio.h>\n",
    "\n",
    "int main(void) {\n",
    "    float a = 3.14 + (1e20 - 1e20);\n",
    "    printf(\"%g\", a);\n",
    "    return 0;\n",
    "}\n",
    "```"
   ]
  },
  {
   "cell_type": "markdown",
   "metadata": {},
   "source": [
    "But the following C program will return a value of `0` on many machines:"
   ]
  },
  {
   "cell_type": "markdown",
   "metadata": {
    "collapsed": false
   },
   "source": [
    "```c\n",
    "#include <stdio.h>\n",
    "\n",
    "int main(void) {\n",
    "    float a = (3.14 + 1e20) - 1e20;\n",
    "    printf(\"%g\", a);\n",
    "    return 0;\n",
    "}\n",
    "```"
   ]
  },
  {
   "cell_type": "markdown",
   "metadata": {},
   "source": [
    "### The two's complement system for signed values"
   ]
  },
  {
   "cell_type": "markdown",
   "metadata": {},
   "source": [
    "If we number the bits in a byte, we can consider bit `0` the low-order or least significant bit, and bit `7` the high-order or most significant bit:"
   ]
  },
  {
   "cell_type": "markdown",
   "metadata": {},
   "source": [
    "| 7| 6| 5| 4| 3| 2| 1| 0|\n",
    "|-:|-:|-:|-:|-:|-:|-:|-:|\n",
    "|HO|  |  |  |  |  |  |LO|"
   ]
  },
  {
   "cell_type": "markdown",
   "metadata": {},
   "source": [
    "If we number the bits in a two-byte word, we can consider bits 0-7 the low-order byte and bits 8-15 the high-order byte:"
   ]
  },
  {
   "cell_type": "markdown",
   "metadata": {},
   "source": [
    "|          15|14|13|12|11|10| 9|              8|            7| 6| 5| 4| 3| 2| 1|             0|\n",
    "|-----------:|-:|-:|-:|-:|-:|-:|--------------:|------------:|-:|-:|-:|-:|-:|-:|-------------:|\n",
    "|     HO bit |  |  |  |  |  |  |               |             |  |  |  |  |  |  |        LO bit|\n",
    "|HO byte ends|  |  |  |  |  |  |HO byte begins |LO byte ends |  |  |  |  |  |  |LO byte begins|"
   ]
  },
  {
   "cell_type": "markdown",
   "metadata": {},
   "source": [
    "Signed values are often represented using the two's complement system, which uses the HO bit as a sign bit. A zero value indicates that the number is non-negative, while a value of one indicates that the number is negative:"
   ]
  },
  {
   "cell_type": "markdown",
   "metadata": {},
   "source": [
    "### Bitwise arithmetic"
   ]
  },
  {
   "cell_type": "markdown",
   "metadata": {},
   "source": [
    "Shifting the binary representation of a number one position to the left, adding a zero to the new low-order bit, is equivalent to multiplying that value by two:"
   ]
  },
  {
   "cell_type": "code",
   "execution_count": 2,
   "metadata": {
    "collapsed": false
   },
   "outputs": [
    {
     "data": {
      "text/plain": [
       "4"
      ]
     },
     "execution_count": 2,
     "metadata": {},
     "output_type": "execute_result"
    }
   ],
   "source": [
    "2 << 1"
   ]
  },
  {
   "cell_type": "code",
   "execution_count": 7,
   "metadata": {
    "collapsed": false
   },
   "outputs": [
    {
     "data": {
      "text/plain": [
       "True"
      ]
     },
     "execution_count": 7,
     "metadata": {},
     "output_type": "execute_result"
    }
   ],
   "source": [
    "2 << 1 == 2 * 2"
   ]
  },
  {
   "cell_type": "markdown",
   "metadata": {},
   "source": [
    "Shifting an *unsigned* binary value one position to the left, adding a zero to the new high-order bit, is equivalent to dividing that value by two:"
   ]
  },
  {
   "cell_type": "code",
   "execution_count": 5,
   "metadata": {
    "collapsed": false
   },
   "outputs": [
    {
     "data": {
      "text/plain": [
       "1"
      ]
     },
     "execution_count": 5,
     "metadata": {},
     "output_type": "execute_result"
    }
   ],
   "source": [
    "2 >> 1"
   ]
  },
  {
   "cell_type": "code",
   "execution_count": 6,
   "metadata": {
    "collapsed": false
   },
   "outputs": [
    {
     "data": {
      "text/plain": [
       "True"
      ]
     },
     "execution_count": 6,
     "metadata": {},
     "output_type": "execute_result"
    }
   ],
   "source": [
    "2 >> 1 == 2 / 2"
   ]
  }
 ],
 "metadata": {
  "kernelspec": {
   "display_name": "Python 3",
   "language": "python",
   "name": "python3"
  },
  "language_info": {
   "codemirror_mode": {
    "name": "ipython",
    "version": 3
   },
   "file_extension": ".py",
   "mimetype": "text/x-python",
   "name": "python",
   "nbconvert_exporter": "python",
   "pygments_lexer": "ipython3",
   "version": "3.5.1"
  }
 },
 "nbformat": 4,
 "nbformat_minor": 0
}
