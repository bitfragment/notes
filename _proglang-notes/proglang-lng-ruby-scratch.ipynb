{
 "cells": [
  {
   "cell_type": "markdown",
   "metadata": {},
   "source": [
    "# strings\n",
    "* `'foo' * 3 # => 'foofoofoo'\n",
    "* `words = str.split`\n",
    "\n",
    "# functions\n",
    "* declaration (no demarcator, `end` keyword required): `def repeat_it(my_str, n) … end`\n",
    "* `return` keyword is not required\n",
    "* lambdas:\n",
    "    * `my_lambda = ->(param) {...}`\n",
    "\n",
    "# type checking\n",
    "* checking type of parameter: `if not my_str.is_a?(String) … end`\n",
    "\n",
    "# basic control\n",
    "* if, if...else (no demarcator, `end` keyword required): `if … [else] … end`\n",
    "* for loop (no demarcator, `end` keyword required): `for i in (1..3) … end`\n",
    "    * preferred way: using `each()` method: `(1..3).each {|i| puts i}`\n",
    "* while (`do` keyword is optional): `while (ids.include?(i)); i += 1; end`\n",
    "* c-style ternary conditional operator: `return my_str.is_a?(String) ? my_str * n : 'Not a string'`\n",
    "\n",
    "# syntax\n",
    "* compound statements: use semicolons: `while (ids.include?(i)); i += 1; end`\n",
    "\n",
    "# testing\n",
    "* `puts repeat_it(\"Hi\", 3) == \"HiHiHi\" unless true`\n",
    "\n",
    "# iterables\n",
    "* ruby has no syntax for list comprehension\n",
    "* test for existence of element: `'foo'.include?('f') # => true`\n",
    "* `array.sort`\n",
    "* `[1,2,3].reduce(:+) # => 6`\n",
    "* `[1,0,4,3].sort.reduce(:+) # => 8`\n",
    "* `array.sort.reduce {|a, b| (b - a == 1) ? b : a}`\n",
    "* `str.split.map {|word| word[0]}`"
   ]
  },
  {
   "cell_type": "code",
   "execution_count": null,
   "metadata": {
    "collapsed": true
   },
   "outputs": [],
   "source": []
  }
 ],
 "metadata": {
  "kernelspec": {
   "display_name": "Python 2",
   "language": "python",
   "name": "python2"
  },
  "language_info": {
   "codemirror_mode": {
    "name": "ipython",
    "version": 2
   },
   "file_extension": ".py",
   "mimetype": "text/x-python",
   "name": "python",
   "nbconvert_exporter": "python",
   "pygments_lexer": "ipython2",
   "version": "2.7.10"
  }
 },
 "nbformat": 4,
 "nbformat_minor": 0
}
